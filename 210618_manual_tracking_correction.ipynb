{
 "cells": [
  {
   "cell_type": "code",
   "execution_count": 6,
   "id": "f49352f4",
   "metadata": {},
   "outputs": [],
   "source": [
    "import os\n",
    "import sys\n",
    "import time\n",
    "import napari\n",
    "import pickle\n",
    "import h5py\n",
    "import numpy as np\n",
    "import pandas as pd\n",
    "\n",
    "from skimage import measure\n",
    "from skimage.filters import threshold_otsu\n",
    "from skimage.segmentation import clear_border\n",
    "from skimage.morphology import white_tophat, disk\n",
    "\n",
    "from napari.qt.threading import thread_worker\n",
    "\n",
    "from itertools import product\n",
    "\n",
    "from tifffile import imread,imsave,TiffFile\n",
    "import matplotlib.pyplot as plt\n",
    "import seaborn as sn\n",
    "\n",
    "from nd2reader import ND2Reader\n",
    "import btrack"
   ]
  },
  {
   "cell_type": "code",
   "execution_count": 2,
   "id": "cfcf87fa",
   "metadata": {},
   "outputs": [],
   "source": [
    "myFov = '05'\n",
    "\n",
    "myDirIm = r'Z:\\Wayne\\20210618_RPE_p21_cycD1_DHB_H2B\\tiffs'\n",
    "myFile = r'20210618_RPE_p21_cycD1_DHB_H2B_series_05_ch_01.tif'\n",
    "\n",
    "myDirTracks = r'Z:\\Wayne\\20210618_RPE_p21_cycD1_DHB_H2B\\tracking\\05'\n",
    "pointDir = r'Z:\\Wayne\\20210618_RPE_p21_cycD1_DHB_H2B\\tracking\\05_napari'\n",
    "\n",
    "mitosisPointsPath = r'mitosis_points'\n",
    "donePointsPath = r'done_points'\n",
    "swapPointsPath = r'swap_points'"
   ]
  },
  {
   "cell_type": "code",
   "execution_count": 3,
   "id": "b3cf7ec4",
   "metadata": {},
   "outputs": [
    {
     "name": "stdout",
     "output_type": "stream",
     "text": [
      "Directory exists.\n"
     ]
    }
   ],
   "source": [
    "try:\n",
    "    os.mkdir(pointDir)\n",
    "    print('Directory for saving created.')\n",
    "except(FileExistsError):\n",
    "    print('Directory exists.')"
   ]
  },
  {
   "cell_type": "code",
   "execution_count": 4,
   "id": "5438524f",
   "metadata": {},
   "outputs": [],
   "source": [
    "modelPath = r'D:\\BARC\\Sonja_2021\\b_track\\cell_config.json'\n",
    "\n",
    "btrack_init_path = os.path.join(pointDir,f'{myFov}_tracks_init.h5')\n",
    "btrack_mod_path = os.path.join(pointDir,f'{myFov}_tracks_mod.h5')"
   ]
  },
  {
   "cell_type": "markdown",
   "id": "5930f0d4",
   "metadata": {},
   "source": [
    "## Read in the tracking channel"
   ]
  },
  {
   "cell_type": "code",
   "execution_count": 5,
   "id": "d809782d",
   "metadata": {},
   "outputs": [
    {
     "name": "stderr",
     "output_type": "stream",
     "text": [
      "TiffPage 0: TypeError: read_bytes() missing 3 required positional arguments: 'dtype', 'count', and 'offsetsize'\n"
     ]
    },
    {
     "name": "stdout",
     "output_type": "stream",
     "text": [
      "Wall time: 53.6 s\n"
     ]
    },
    {
     "data": {
      "text/plain": [
       "(361, 2765, 2765)"
      ]
     },
     "execution_count": 5,
     "metadata": {},
     "output_type": "execute_result"
    }
   ],
   "source": [
    "%%time\n",
    "\n",
    "# read in image\n",
    "\n",
    "myIm = imread(os.path.join(myDirIm,myFile))\n",
    "myIm.shape"
   ]
  },
  {
   "cell_type": "markdown",
   "id": "296f85d4",
   "metadata": {},
   "source": [
    "## Read in signal channels"
   ]
  },
  {
   "cell_type": "code",
   "execution_count": 7,
   "id": "803bab52",
   "metadata": {},
   "outputs": [
    {
     "name": "stderr",
     "output_type": "stream",
     "text": [
      "C:\\ProgramData\\Anaconda3\\envs\\cellpose\\lib\\site-packages\\nd2reader\\raw_metadata.py:171: UserWarning: Z-levels details missing in metadata. Using Z-coordinates instead.\n",
      "  warnings.warn(\"Z-levels details missing in metadata. Using Z-coordinates instead.\")\n",
      "C:\\ProgramData\\Anaconda3\\envs\\cellpose\\lib\\site-packages\\nd2reader\\common_raw_metadata.py:99: RuntimeWarning: Reported average frame interval (600016.2 ms) doesn't match the set interval (600000.0 ms). Using the average now.\n",
      "  warnings.warn(message % (avg_interval, interval), RuntimeWarning)\n"
     ]
    },
    {
     "name": "stdout",
     "output_type": "stream",
     "text": [
      "Wall time: 4min 18s\n"
     ]
    }
   ],
   "source": [
    "%%time\n",
    "\n",
    "total_z = 2888 # because of how it is saved, it puts all frames of this channel from 8 fovs together 8x361=2888\n",
    "fov_number = 8\n",
    "myChannel = 1\n",
    "\n",
    "imReader = ND2Reader(r'Z:\\Wayne\\20210618_RPE_p21_cycD1_DHB_H2B\\20210618_RPE_p21_cycD1_DHB_H2B.nd2')\n",
    "\n",
    "myFov = 5\n",
    " \n",
    "myIm_signal = []\n",
    "\n",
    "for i in np.arange(myFov,total_z,fov_number):\n",
    "\n",
    "    temp = imReader.get_frame_2D(c=myChannel,z=i)\n",
    "    myIm_signal.append(temp)\n",
    "\n",
    "myIm_signal = np.array(myIm_signal).astype('uint16')"
   ]
  },
  {
   "cell_type": "markdown",
   "id": "560fa163",
   "metadata": {},
   "source": [
    "## Read in tracks in a form of labels"
   ]
  },
  {
   "cell_type": "code",
   "execution_count": 6,
   "id": "daaebf83",
   "metadata": {},
   "outputs": [],
   "source": [
    "# read in labels as tracks\n",
    "\n",
    "myLabels =[]\n",
    "\n",
    "fovFiles = [x for x in os.listdir(myDirTracks) if f'series_{myFov}_' in x]\n",
    "\n",
    "for myFile in fovFiles:\n",
    "    \n",
    "    # read a mask\n",
    "    labels = imread(os.path.join(myDirTracks,myFile))\n",
    "    \n",
    "    myLabels.append(labels)\n",
    "    \n",
    "inProgressTracks = np.array(myLabels)\n",
    "\n",
    "# create an empty contained for accepted tracks\n",
    "acceptedTracks = inProgressTracks.copy()\n",
    "acceptedTracks[:] = 0"
   ]
  },
  {
   "cell_type": "code",
   "execution_count": 7,
   "id": "604fb78b",
   "metadata": {},
   "outputs": [
    {
     "name": "stdout",
     "output_type": "stream",
     "text": [
      "No accepted tracks found.\n",
      "No mitosis points found.\n"
     ]
    }
   ],
   "source": [
    "# read in annotation points if present\n",
    "try:\n",
    "    donePoints = np.load(os.path.join(pointDir,donePointsPath+'.npy'))\n",
    "    print('Accepted tracks loaded.')\n",
    "except(FileNotFoundError):\n",
    "    donePoints=np.array([])\n",
    "    print('No accepted tracks found.')\n",
    "    \n",
    "    \n",
    "try:\n",
    "    mitosisPoints = np.load(os.path.join(pointDir,mitosisPointsPath+'.npy'))\n",
    "    print('Mitosis points loaded.')\n",
    "except(FileNotFoundError):\n",
    "    mitosisPoints=np.array([])\n",
    "    print('No mitosis points found.')\n",
    "    \n",
    "swapPoints = np.array([])"
   ]
  },
  {
   "cell_type": "markdown",
   "id": "3deb782f",
   "metadata": {},
   "source": [
    "## Divide the tracks into accepted and in progress"
   ]
  },
  {
   "cell_type": "code",
   "execution_count": 8,
   "id": "a18b6379",
   "metadata": {},
   "outputs": [],
   "source": [
    "if len(donePoints) > 0:\n",
    "    \n",
    "    for myPoint in donePoints:\n",
    "    \n",
    "        # get the track that was marked as done\n",
    "        myTrackNum = inProgressTracks[tuple(myPoint)]\n",
    "\n",
    "        acceptedTracks[inProgressTracks==myTrackNum]=myTrackNum\n",
    "\n",
    "        inProgressTracks[inProgressTracks==myTrackNum]=0"
   ]
  },
  {
   "cell_type": "markdown",
   "id": "5fae2cda",
   "metadata": {},
   "source": [
    "## Get latest tracking"
   ]
  },
  {
   "cell_type": "code",
   "execution_count": 198,
   "id": "f46fd875",
   "metadata": {},
   "outputs": [
    {
     "name": "stdout",
     "output_type": "stream",
     "text": [
      "Opening original tracking.\n"
     ]
    }
   ],
   "source": [
    "# check if modified tracking exists\n",
    "\n",
    "try:\n",
    "    f = open(btrack_mod_path.replace('h5','pkl'),'rb')\n",
    "    \n",
    "    print('Opening corrected tracking.')\n",
    "\n",
    "except(FileNotFoundError):\n",
    "  \n",
    "    f = open(btrack_init_path.replace('h5','pkl'),'rb')\n",
    "    print('Opening original tracking.')\n",
    "\n",
    "data, properties, graph = pickle.load(f)"
   ]
  },
  {
   "cell_type": "markdown",
   "id": "521c6322",
   "metadata": {},
   "source": [
    "## Visualize"
   ]
  },
  {
   "cell_type": "code",
   "execution_count": 61,
   "id": "3e02ba9b",
   "metadata": {},
   "outputs": [],
   "source": [
    "viewer = napari.Viewer()\n",
    "\n",
    "# layer 0\n",
    "viewer.add_image(myIm,colormap='gray',contrast_limits=(0, 2000),opacity = 1)\n",
    "\n",
    "# layer 1\n",
    "track_layer=viewer.add_tracks(data, properties=properties, graph=graph,name='tracking')\n",
    "track_layer.display_id=True\n",
    "#viewer.add_tracks(data_acc, properties=properties_acc, graph=graph_acc)\n",
    "\n",
    "viewer.add_points(swapPoints,name='modPoints',face_color='green',ndim=3)\n",
    "\n",
    "# layer 4\n",
    "layer_inProgress = viewer.add_labels(inProgressTracks,name='inProgressStack',opacity = 0.5)\n",
    "# layer 5\n",
    "layer_accepted = viewer.add_labels(acceptedTracks,name='acceptedStack',opacity = 0.5)"
   ]
  },
  {
   "cell_type": "code",
   "execution_count": 132,
   "id": "e884ea4a",
   "metadata": {},
   "outputs": [
    {
     "name": "stderr",
     "output_type": "stream",
     "text": [
      "C:\\ProgramData\\Anaconda3\\envs\\cellpose\\lib\\site-packages\\napari\\layers\\tracks\\tracks.py:391: UserWarning: Previous color_by key 't' not present in new properties. Falling back to track_id\n",
      "  UserWarning,\n"
     ]
    }
   ],
   "source": [
    "# swapping tracks based on 4 points\n",
    "\n",
    "@viewer.bind_key('r',overwrite=True)\n",
    "def swap_points(viewer):\n",
    "\n",
    "    swapPoints = viewer.layers['swapPoints'].data.astype(int)\n",
    "\n",
    "    # check that you get a good set of swapPoints\n",
    "    lenTest = (len(swapPoints) == 4)\n",
    "\n",
    "    if lenTest:\n",
    "\n",
    "        framesToSwap = list(set(swapPoints[:,0]))\n",
    "        framesToSwap.sort()\n",
    "        frameTest = (framesToSwap[1] == framesToSwap[0]+1)\n",
    "\n",
    "\n",
    "        # read in in-progress tracks\n",
    "        inProgressTracks = viewer.layers['inProgressStack'].data\n",
    "\n",
    "        # check tracks\n",
    "        myTracks = []\n",
    "        for myPoint in swapPoints:\n",
    "\n",
    "            myTracks.append(inProgressTracks[tuple(myPoint)])\n",
    "\n",
    "        trackTest = (len(set(myTracks)) == 2)\n",
    "\n",
    "        if (lenTest and frameTest and trackTest):\n",
    "\n",
    "            # get tracks numbers\n",
    "            track_1 = list((set(myTracks)))[0] \n",
    "            track_2 = list((set(myTracks)))[1]\n",
    "\n",
    "            frame_change = np.max(framesToSwap)\n",
    "\n",
    "\n",
    "            inProgressTracks[frame_change:,:,:][inProgressTracks[frame_change:,:,:]==track_1]=4095\n",
    "            inProgressTracks[frame_change:,:,:][inProgressTracks[frame_change:,:,:]==track_2]=track_1\n",
    "            inProgressTracks[frame_change:,:,:][inProgressTracks[frame_change:,:,:]==4095]=track_2\n",
    "\n",
    "            # change labels layer\n",
    "            viewer.layers.pop('inProgressStack')\n",
    "            viewer.add_labels(inProgressTracks,name='inProgressStack',opacity = 0.5)\n",
    "\n",
    "\n",
    "            # change graph\n",
    "            children_1 = set(data[((properties['parent']==track_1) & (properties['generation']>0)),0])\n",
    "\n",
    "            for child in children_1:\n",
    "\n",
    "                graph[int(child)] = track_2\n",
    "\n",
    "            children_2 = set(data[((properties['parent']==track_2) & (properties['generation']>0)),0])\n",
    "\n",
    "            for child in children_2:\n",
    "\n",
    "                graph[int(child)] = track_1\n",
    "\n",
    "\n",
    "            # change tracking data\n",
    "            track1_change = ((data[:,0]==track_1) & (data[:,1]>=frame_change))\n",
    "            track2_change = ((data[:,0]==track_2) & (data[:,1]>=frame_change))\n",
    "\n",
    "            data[track2_change,0] = track_1\n",
    "            data[track1_change,0] = track_2\n",
    "\n",
    "            # change info about the parent \n",
    "            track1_change = ((properties['parent']==track_1) & (data[:,1]>=frame_change))\n",
    "            track2_change = ((properties['parent']==track_2) & (data[:,1]>=frame_change))\n",
    "\n",
    "            properties['parent'][track1_change] = track_2\n",
    "            properties['parent'][track2_change] = track_1\n",
    "\n",
    "            # change info about the root\n",
    "            root1 = properties['root'][track1_change][0]\n",
    "            root2 = properties['root'][track2_change][0]\n",
    "\n",
    "            track1_change = ((properties['root']==root1) & (data[:,1]>=frame_change))\n",
    "            track2_change = ((properties['root']==root2) & (data[:,1]>=frame_change))\n",
    "\n",
    "            properties['root'][track1_change] = root2\n",
    "            properties['root'][track2_change] = root1\n",
    "\n",
    "            # change info about the generation\n",
    "            gen1 = properties['generation'][(properties['t']==(frame_change-1)) & (data[:,0]==track_1)]\n",
    "            gen2 = properties['generation'][(properties['t']==(frame_change-1)) & (data[:,0]==track_2)]\n",
    "\n",
    "            properties['generation'][track1_change] = properties['generation'][track1_change] + gen2 - gen1\n",
    "            properties['generation'][track2_change] = properties['generation'][track2_change] + gen1 - gen2\n",
    "\n",
    "\n",
    "\n",
    "            # update tracking data\n",
    "            viewer.layers['data'].data = data\n",
    "            viewer.layers['data'].properties = properties\n",
    "            viewer.layers['data'].graph = graph\n",
    "\n",
    "            # clean swap points\n",
    "            viewer.layers['swapPoints'].data = []\n",
    "\n",
    "            viewer.status='Tracks have been swapped.'\n",
    "\n",
    "        else:\n",
    "\n",
    "            viewer.status='Swap points are incorrect.'\n",
    "    else:\n",
    "\n",
    "        viewer.status='Swap points are incorrect.'"
   ]
  },
  {
   "cell_type": "code",
   "execution_count": 64,
   "id": "d07f34be",
   "metadata": {},
   "outputs": [],
   "source": [
    "# right click for moving from inProgress to accepted layer\n",
    "# around 5s \n",
    "\n",
    "@layer_inProgress.mouse_drag_callbacks.append\n",
    "def prog_2_accept(layer, event):\n",
    "\n",
    "    if(event.button == 2):\n",
    "        \n",
    "        # look up cursor position\n",
    "        x = int(viewer.cursor.position[1])\n",
    "        y = int(viewer.cursor.position[2])\n",
    "        \n",
    "        # get data\n",
    "        inProgressTracks = layer_inProgress.data\n",
    "        acceptedTracks = layer_accepted.data\n",
    "        \n",
    "        # check which cell was clicked\n",
    "        myTrackNum = inProgressTracks[viewer.dims.current_step[0],x,y]\n",
    "        \n",
    "        if myTrackNum > 0:\n",
    "            \n",
    "            # move the clicked cell to accepted\n",
    "            tempSel = (inProgressTracks==myTrackNum)\n",
    "            acceptedTracks[tempSel]=myTrackNum\n",
    "            inProgressTracks[tempSel]=0\n",
    "            \n",
    "            # update viewer    \n",
    "            layer_inProgress.data = inProgressTracks\n",
    "            layer_accepted.data = acceptedTracks"
   ]
  },
  {
   "cell_type": "code",
   "execution_count": 63,
   "id": "9fdca28b",
   "metadata": {},
   "outputs": [
    {
     "name": "stderr",
     "output_type": "stream",
     "text": [
      "C:\\ProgramData\\Anaconda3\\envs\\cellpose\\lib\\site-packages\\napari\\layers\\tracks\\tracks.py:391: UserWarning: Previous color_by key 't' not present in new properties. Falling back to track_id\n",
      "  UserWarning,\n",
      "C:\\ProgramData\\Anaconda3\\envs\\cellpose\\lib\\site-packages\\napari\\layers\\tracks\\tracks.py:391: UserWarning: Previous color_by key 't' not present in new properties. Falling back to track_id\n",
      "  UserWarning,\n"
     ]
    }
   ],
   "source": [
    "# transfer modification of labels into tracks layer\n",
    "\n",
    "# at the moment one change at a time + key\n",
    "# -> in a separate thread \n",
    "# -> take this frame, run regionprops\n",
    "# -> check changes\n",
    "# -> replace regionprops in the table\n",
    "\n",
    "# lenght of history probably is not sufficient as it needs to look for a specific pattern of changes\n",
    "\n",
    "regProps = ['label', 'area','centroid','major_axis_length','minor_axis_length']\n",
    "\n",
    "changeIndex=[]\n",
    "\n",
    "@viewer.bind_key('u',overwrite=True)\n",
    "def update_inProgress(viewer):\n",
    "    \n",
    "    # add checking that inProgress layer is the active one\n",
    "    \n",
    "    data = viewer.layers['tracking'].data\n",
    "    properties = viewer.layers['tracking'].properties\n",
    "    \n",
    "    # get the position\n",
    "    myT = viewer.dims.current_step[0]\n",
    "    \n",
    "    # define objects to change \n",
    "    changeIndex = (data[:,1]==myT)\n",
    "\n",
    "    # find new features of all the objects in the frame\n",
    "    cellData = pd.DataFrame(measure.regionprops_table(inProgressTracks[myT,:,:], properties=regProps))\n",
    "    cellData['t'] = myT\n",
    "    cellData['state'] = 5\n",
    "    cellData['track_id'] = cellData['label']\n",
    "    \n",
    "    # find info for new labels if existing\n",
    "    labels_info=[np.where(data[:,0]==x)[0][0] if len(np.where(data[:,0]==x)[0])>0 else np.NaN for x in cellData.label]\n",
    "\n",
    "    for f in ['parent','generation','root']:\n",
    "\n",
    "        cellData[f] = [properties[f][x] if x==x else np.NaN for x in labels_info]\n",
    "\n",
    "    # modify data of the track layer\n",
    "    frameData = np.array(cellData.loc[:,['label','t','centroid-0','centroid-1']])\n",
    "\n",
    "    data = np.delete(data,changeIndex,axis=0)\n",
    "\n",
    "    data = np.vstack([data, frameData])\n",
    "    \n",
    "    # modify properties of the track layer\n",
    "    for tProp in properties.keys():\n",
    "\n",
    "        properties[tProp] = np.delete(properties[tProp],changeIndex)\n",
    "        properties[tProp] = np.append(properties[tProp], cellData[tProp])\n",
    "\n",
    "    # change tracks layer\n",
    "    viewer.layers['tracking'].data = data\n",
    "    viewer.layers['tracking'].properties = properties\n",
    "\n",
    "    # change status\n",
    "    viewer.status = f'Frame {myT} was modified.' \n",
    "    \n",
    "# -> for changed traces re-generate small movie"
   ]
  },
  {
   "cell_type": "code",
   "execution_count": null,
   "id": "3750bbe9",
   "metadata": {},
   "outputs": [],
   "source": [
    "# add a button to Napari interface"
   ]
  },
  {
   "cell_type": "code",
   "execution_count": 68,
   "id": "a9e35231",
   "metadata": {},
   "outputs": [],
   "source": [
    "@track_layer.bind_key('s',overwrite=True)\n",
    "def update_inProgress(viewer):\n",
    "\n",
    "    viewer_small = napari.Viewer()\n",
    "    myTrack = 1 \n",
    "    \n",
    "    # create gallery\n",
    "    \n",
    "    viewer_small.add_image(myGallery,colormap='gray',contrast_limits=(0, 2000),opacity = 1)"
   ]
  },
  {
   "cell_type": "code",
   "execution_count": 149,
   "id": "0ef3082b",
   "metadata": {},
   "outputs": [
    {
     "data": {
      "text/plain": [
       "361"
      ]
     },
     "execution_count": 149,
     "metadata": {},
     "output_type": "execute_result"
    }
   ],
   "source": [
    "len(np.where(data[:,0]==myTrack)[0])"
   ]
  },
  {
   "cell_type": "code",
   "execution_count": 208,
   "id": "c054be81",
   "metadata": {},
   "outputs": [],
   "source": [
    "#%%time\n",
    "\n",
    "# create gallery\n",
    "# there is an option to cut with or without surronding (at the moment it's with)\n",
    "\n",
    "myTrack = 12\n",
    "imSize = 100\n",
    "\n",
    "data = track_layer.data\n",
    "\n",
    "# calculate how many images there will be\n",
    "imNum = np.sum(data[:,0]==myTrack)\n",
    "\n",
    "# cut images to a small stack\n",
    "# here deal with edge effects\n",
    "smallIm = np.zeros([imNum,imSize,imSize]).astype('uint16')\n",
    "smallLabel = smallIm.copy()\n",
    "\n",
    "startFrame = int(np.min(data[data[:,0]==myTrack,1]))\n",
    "\n",
    "for myInd in np.where(data[:,0]==myTrack)[0]:\n",
    "    \n",
    "    x = int(data[myInd,2])\n",
    "    y = int(data[myInd,3])\n",
    "    myFrame = int(data[myInd,1])\n",
    "    \n",
    "    t = myFrame - startFrame\n",
    "    \n",
    "    smallIm[t,:,:] = myIm[myFrame,x-int(imSize/2):x+int(imSize/2),y-int(imSize/2):y+int(imSize/2)]\n",
    "    smallLabel[t,:,:] = inProgressTracks[myFrame,x-int(imSize/2):x+int(imSize/2),y-int(imSize/2):y+int(imSize/2)]\n",
    "    \n",
    "# make gallery out of stack\n",
    "\n",
    "if np.sqrt(imNum).is_integer():\n",
    "    \n",
    "    col = row = int(np.sqrt(imNum))\n",
    "\n",
    "else:\n",
    "    \n",
    "    col = int(np.sqrt(imNum))\n",
    "    row = int(np.floor(imNum/col)+1)\n",
    "            \n",
    "# create canvas\n",
    "myGallery = np.zeros([row*imSize,col*imSize]).astype('uint16')\n",
    "myGalleryLabel = myGallery.copy()\n",
    "\n",
    "# put images into canvas\n",
    "for pair in product(range(row),range(col)):\n",
    "        \n",
    "        i = pair[1] # column iterator (fast)\n",
    "        j = pair[0] # row iterator (slow)\n",
    "        \n",
    "        myFrame = j*col+i\n",
    "        \n",
    "        if myFrame<imNum:\n",
    "        \n",
    "            myGallery[j*imSize:(j+1)*imSize,i*imSize:(i+1)*imSize] = smallIm[myFrame,:,:] \n",
    "            myGalleryLabel[j*imSize:(j+1)*imSize,i*imSize:(i+1)*imSize] = smallLabel[myFrame,:,:]\n",
    "        else:\n",
    "            break"
   ]
  },
  {
   "cell_type": "code",
   "execution_count": 145,
   "id": "9d600d4f",
   "metadata": {},
   "outputs": [],
   "source": [
    "try:\n",
    "    viewer_stack.close()\n",
    "except:\n",
    "    pass"
   ]
  },
  {
   "cell_type": "code",
   "execution_count": 209,
   "id": "942e5e29",
   "metadata": {},
   "outputs": [
    {
     "data": {
      "text/plain": [
       "<Labels layer 'inProgressStack' at 0x2338c820048>"
      ]
     },
     "execution_count": 209,
     "metadata": {},
     "output_type": "execute_result"
    }
   ],
   "source": [
    "try:\n",
    "    viewer_stack.close()\n",
    "except:\n",
    "    pass\n",
    "\n",
    "viewer_stack = napari.Viewer()\n",
    "\n",
    "viewer_stack.add_image(smallIm,colormap='gray',contrast_limits=(0, 2000),opacity = 1,name=f'track {myTrack}')\n",
    "viewer_stack.add_labels(smallLabel,name='inProgressStack',opacity = 0.5)"
   ]
  },
  {
   "cell_type": "code",
   "execution_count": 210,
   "id": "848cf176",
   "metadata": {},
   "outputs": [
    {
     "data": {
      "text/plain": [
       "<Labels layer 'inProgressStack' at 0x2338c1fb0c8>"
      ]
     },
     "execution_count": 210,
     "metadata": {},
     "output_type": "execute_result"
    }
   ],
   "source": [
    "try:\n",
    "    viewer_gal.close()\n",
    "except:\n",
    "    pass\n",
    "\n",
    "viewer_gal = napari.Viewer()\n",
    "\n",
    "viewer_gal.add_image(myGallery,colormap='viridis',contrast_limits=(0, 2000),opacity = 1)\n",
    "viewer_gal.add_labels(myGalleryLabel,name='inProgressStack',opacity = 0.5)"
   ]
  },
  {
   "cell_type": "code",
   "execution_count": null,
   "id": "53ca389f",
   "metadata": {},
   "outputs": [],
   "source": [
    "# create a button (or a whole menu) for these gallery views\n",
    "# add numbering of the frames to gallery\n",
    "# add graphs to other viewers"
   ]
  },
  {
   "cell_type": "code",
   "execution_count": null,
   "id": "5bb8367b",
   "metadata": {},
   "outputs": [],
   "source": [
    "# what to do with ghost objects"
   ]
  },
  {
   "cell_type": "code",
   "execution_count": 199,
   "id": "8fd16726",
   "metadata": {},
   "outputs": [
    {
     "data": {
      "text/plain": [
       "array([[1092.        ,  318.        , 2162.92535971, 2026.29406475],\n",
       "       [1092.        ,  319.        , 2162.92535971, 2026.29406475],\n",
       "       [1092.        ,  320.        , 2139.88372093, 2058.0455814 ]])"
      ]
     },
     "execution_count": 199,
     "metadata": {},
     "output_type": "execute_result"
    }
   ],
   "source": [
    "data[data[:,0]==1092,:]"
   ]
  },
  {
   "cell_type": "code",
   "execution_count": 201,
   "id": "2311b9a4",
   "metadata": {},
   "outputs": [
    {
     "data": {
      "text/plain": [
       "array([[   7.        ,  318.        , 2172.5382482 , 2015.13455069]])"
      ]
     },
     "execution_count": 201,
     "metadata": {},
     "output_type": "execute_result"
    }
   ],
   "source": [
    "data[(data[:,0]==7) & (data[:,1]==318),:]"
   ]
  },
  {
   "cell_type": "code",
   "execution_count": null,
   "id": "1e2cd42b",
   "metadata": {},
   "outputs": [],
   "source": [
    "# for faster checking of traces you need a galery\n",
    "# the other option would be also to look at a trace, best DHB\n",
    "\n",
    "# small movies should be generated only for traces longer than n frames"
   ]
  },
  {
   "cell_type": "code",
   "execution_count": null,
   "id": "b315eab7",
   "metadata": {},
   "outputs": [],
   "source": [
    "# key binding for linking function\n",
    "\n",
    "# check if parent have different offspring\n",
    "\n",
    "# no other offspring\n",
    "# connect points\n",
    "\n",
    "# other offspring\n",
    "# connect\n",
    "# add to the graph\n",
    "\n",
    "# what if objects didn;t"
   ]
  },
  {
   "cell_type": "code",
   "execution_count": 11,
   "id": "a0cc2331",
   "metadata": {},
   "outputs": [
    {
     "name": "stdout",
     "output_type": "stream",
     "text": [
      "Wall time: 102 ms\n"
     ]
    }
   ],
   "source": [
    "%%time\n",
    "properties = ['label', 'area','centroid','orientation','major_axis_length','minor_axis_length','bbox','image']\n",
    "cellData = pd.DataFrame(measure.regionprops_table(inProgressTracks[100,:,:], properties=properties))"
   ]
  },
  {
   "cell_type": "code",
   "execution_count": 17,
   "id": "54271dbf",
   "metadata": {},
   "outputs": [],
   "source": [
    "def print_layer_name(layer,event):\n",
    "    print('hello')\n",
    "    print(f\"{event.source.name} changed its data!\")"
   ]
  },
  {
   "cell_type": "code",
   "execution_count": 12,
   "id": "144ca4fc",
   "metadata": {},
   "outputs": [
    {
     "data": {
      "text/plain": [
       "<function __main__.print_layer_name(event)>"
      ]
     },
     "execution_count": 12,
     "metadata": {},
     "output_type": "execute_result"
    }
   ],
   "source": [
    "# from hooking up your own events\n",
    "# not working at the moment\n",
    "\n",
    "def print_layer_name(event):\n",
    "    print(f\"{event.source.name} changed its data!\")\n",
    "\n",
    "layer_inProgress.events.refresh.connect(print_layer_name)"
   ]
  },
  {
   "cell_type": "code",
   "execution_count": 15,
   "id": "b0da76b6",
   "metadata": {},
   "outputs": [
    {
     "data": {
      "text/plain": [
       "<napari.utils.events.event.EmitterGroup at 0x1f88bc1f188>"
      ]
     },
     "execution_count": 15,
     "metadata": {},
     "output_type": "execute_result"
    }
   ],
   "source": [
    "layer_inProgress.events"
   ]
  },
  {
   "cell_type": "code",
   "execution_count": 30,
   "id": "bf4ba14d",
   "metadata": {},
   "outputs": [
    {
     "name": "stdout",
     "output_type": "stream",
     "text": [
      "Wall time: 5.37 s\n"
     ]
    }
   ],
   "source": [
    "%%time\n",
    "myTrackNum = 89\n",
    "tempSel = (inProgressTracks==myTrackNum)\n",
    "acceptedTracks[tempSel]=myTrackNum\n",
    "inProgressTracks[tempSel]=0"
   ]
  },
  {
   "cell_type": "code",
   "execution_count": 31,
   "id": "37ee0df6",
   "metadata": {},
   "outputs": [
    {
     "data": {
      "text/plain": [
       "(361, 2765, 2765)"
      ]
     },
     "execution_count": 31,
     "metadata": {},
     "output_type": "execute_result"
    }
   ],
   "source": [
    "tempSel.shape"
   ]
  },
  {
   "cell_type": "code",
   "execution_count": 22,
   "id": "06f49124",
   "metadata": {},
   "outputs": [
    {
     "name": "stdout",
     "output_type": "stream",
     "text": [
      "Wall time: 2.46 s\n"
     ]
    }
   ],
   "source": [
    "%%time\n",
    "myTrackNum = 65\n",
    "t=[myTrackNum in x for x in inProgressTracks]"
   ]
  },
  {
   "cell_type": "code",
   "execution_count": 17,
   "id": "5a18e166",
   "metadata": {},
   "outputs": [
    {
     "name": "stdout",
     "output_type": "stream",
     "text": [
      "Wall time: 0 ns\n"
     ]
    }
   ],
   "source": [
    "%time\n",
    "test=layer_inProgress.data"
   ]
  },
  {
   "cell_type": "code",
   "execution_count": null,
   "id": "4e831b7f",
   "metadata": {},
   "outputs": [],
   "source": []
  },
  {
   "cell_type": "code",
   "execution_count": 11,
   "id": "916c9d92",
   "metadata": {},
   "outputs": [],
   "source": [
    "test = viewer.layers['inProgressStack'].data"
   ]
  },
  {
   "cell_type": "code",
   "execution_count": 18,
   "id": "4c4ca9db",
   "metadata": {},
   "outputs": [
    {
     "data": {
      "text/plain": [
       "(361, 2765, 2765)"
      ]
     },
     "execution_count": 18,
     "metadata": {},
     "output_type": "execute_result"
    }
   ],
   "source": [
    "test.shape"
   ]
  },
  {
   "cell_type": "code",
   "execution_count": null,
   "id": "90e5c52a",
   "metadata": {},
   "outputs": [],
   "source": [
    "test == inProgressTracks"
   ]
  },
  {
   "cell_type": "code",
   "execution_count": 21,
   "id": "0f94f7ea",
   "metadata": {},
   "outputs": [
    {
     "ename": "TypeError",
     "evalue": "_load_history() missing 2 required positional arguments: 'before' and 'after'",
     "output_type": "error",
     "traceback": [
      "\u001b[1;31m---------------------------------------------------------------------------\u001b[0m",
      "\u001b[1;31mTypeError\u001b[0m                                 Traceback (most recent call last)",
      "\u001b[1;32m<ipython-input-21-1103a616e687>\u001b[0m in \u001b[0;36m<module>\u001b[1;34m\u001b[0m\n\u001b[1;32m----> 1\u001b[1;33m \u001b[0mt\u001b[0m\u001b[1;33m=\u001b[0m\u001b[0mviewer\u001b[0m\u001b[1;33m.\u001b[0m\u001b[0mlayers\u001b[0m\u001b[1;33m[\u001b[0m\u001b[1;34m'inProgressStack'\u001b[0m\u001b[1;33m]\u001b[0m\u001b[1;33m.\u001b[0m\u001b[0m_load_history\u001b[0m\u001b[1;33m(\u001b[0m\u001b[1;33m)\u001b[0m\u001b[1;33m\u001b[0m\u001b[1;33m\u001b[0m\u001b[0m\n\u001b[0m",
      "\u001b[1;31mTypeError\u001b[0m: _load_history() missing 2 required positional arguments: 'before' and 'after'"
     ]
    }
   ],
   "source": [
    "t=viewer.layers['inProgressStack']._load_history()"
   ]
  },
  {
   "cell_type": "code",
   "execution_count": 20,
   "id": "6e475047",
   "metadata": {},
   "outputs": [
    {
     "data": {
      "text/plain": [
       "<bound method Labels._load_history of <Labels layer 'inProgressStack' at 0x1b669ced408>>"
      ]
     },
     "execution_count": 20,
     "metadata": {},
     "output_type": "execute_result"
    }
   ],
   "source": [
    "t"
   ]
  },
  {
   "cell_type": "code",
   "execution_count": 17,
   "id": "bd57766f",
   "metadata": {},
   "outputs": [
    {
     "data": {
      "text/plain": [
       "<Event blocked=False handled=False native=None source=None sources=[] type=data>"
      ]
     },
     "execution_count": 17,
     "metadata": {},
     "output_type": "execute_result"
    }
   ],
   "source": [
    "viewer.layers['inProgressStack'].events.data()"
   ]
  },
  {
   "cell_type": "code",
   "execution_count": 18,
   "id": "7ad066ca",
   "metadata": {},
   "outputs": [
    {
     "data": {
      "text/plain": [
       "<function __main__.print_layer_name(event)>"
      ]
     },
     "execution_count": 18,
     "metadata": {},
     "output_type": "execute_result"
    },
    {
     "name": "stdout",
     "output_type": "stream",
     "text": [
      "inProgressStack changed its data!\n",
      "inProgressStack changed its data!\n",
      "inProgressStack changed its data!\n",
      "inProgressStack changed its data!\n",
      "inProgressStack changed its data!\n",
      "inProgressStack changed its data!\n",
      "inProgressStack changed its data!\n",
      "inProgressStack changed its data!\n",
      "inProgressStack changed its data!\n",
      "inProgressStack changed its data!\n",
      "inProgressStack changed its data!\n",
      "inProgressStack changed its data!\n",
      "inProgressStack changed its data!\n",
      "inProgressStack changed its data!\n",
      "inProgressStack changed its data!\n",
      "inProgressStack changed its data!\n",
      "inProgressStack changed its data!\n",
      "inProgressStack changed its data!\n",
      "inProgressStack changed its data!\n",
      "inProgressStack changed its data!\n",
      "inProgressStack changed its data!\n",
      "inProgressStack changed its data!\n",
      "inProgressStack changed its data!\n",
      "inProgressStack changed its data!\n",
      "inProgressStack changed its data!\n",
      "inProgressStack changed its data!\n",
      "inProgressStack changed its data!\n",
      "inProgressStack changed its data!\n",
      "inProgressStack changed its data!\n",
      "inProgressStack changed its data!\n",
      "inProgressStack changed its data!\n",
      "inProgressStack changed its data!\n",
      "inProgressStack changed its data!\n",
      "inProgressStack changed its data!\n",
      "inProgressStack changed its data!\n",
      "inProgressStack changed its data!\n",
      "inProgressStack changed its data!\n",
      "inProgressStack changed its data!\n",
      "inProgressStack changed its data!\n",
      "inProgressStack changed its data!\n",
      "inProgressStack changed its data!\n",
      "inProgressStack changed its data!\n",
      "inProgressStack changed its data!\n",
      "inProgressStack changed its data!\n",
      "inProgressStack changed its data!\n",
      "inProgressStack changed its data!\n",
      "inProgressStack changed its data!\n",
      "inProgressStack changed its data!\n",
      "inProgressStack changed its data!\n",
      "inProgressStack changed its data!\n",
      "inProgressStack changed its data!\n",
      "inProgressStack changed its data!\n",
      "inProgressStack changed its data!\n",
      "inProgressStack changed its data!\n",
      "inProgressStack changed its data!\n",
      "inProgressStack changed its data!\n",
      "inProgressStack changed its data!\n",
      "inProgressStack changed its data!\n",
      "inProgressStack changed its data!\n",
      "inProgressStack changed its data!\n",
      "inProgressStack changed its data!\n",
      "inProgressStack changed its data!\n",
      "inProgressStack changed its data!\n",
      "inProgressStack changed its data!\n",
      "inProgressStack changed its data!\n",
      "inProgressStack changed its data!\n",
      "inProgressStack changed its data!\n",
      "inProgressStack changed its data!\n",
      "inProgressStack changed its data!\n",
      "inProgressStack changed its data!\n",
      "inProgressStack changed its data!\n",
      "inProgressStack changed its data!\n",
      "inProgressStack changed its data!\n",
      "inProgressStack changed its data!\n",
      "inProgressStack changed its data!\n",
      "inProgressStack changed its data!\n",
      "inProgressStack changed its data!\n",
      "inProgressStack changed its data!\n",
      "inProgressStack changed its data!\n",
      "inProgressStack changed its data!\n",
      "inProgressStack changed its data!\n",
      "inProgressStack changed its data!\n",
      "inProgressStack changed its data!\n",
      "inProgressStack changed its data!\n",
      "inProgressStack changed its data!\n",
      "inProgressStack changed its data!\n",
      "inProgressStack changed its data!\n",
      "inProgressStack changed its data!\n",
      "inProgressStack changed its data!\n",
      "inProgressStack changed its data!\n",
      "inProgressStack changed its data!\n",
      "inProgressStack changed its data!\n",
      "inProgressStack changed its data!\n",
      "inProgressStack changed its data!\n",
      "inProgressStack changed its data!\n",
      "inProgressStack changed its data!\n",
      "inProgressStack changed its data!\n",
      "inProgressStack changed its data!\n",
      "inProgressStack changed its data!\n",
      "inProgressStack changed its data!\n",
      "inProgressStack changed its data!\n",
      "inProgressStack changed its data!\n",
      "inProgressStack changed its data!\n",
      "inProgressStack changed its data!\n",
      "inProgressStack changed its data!\n",
      "inProgressStack changed its data!\n",
      "inProgressStack changed its data!\n",
      "inProgressStack changed its data!\n",
      "inProgressStack changed its data!\n",
      "inProgressStack changed its data!\n",
      "inProgressStack changed its data!\n",
      "inProgressStack changed its data!\n",
      "inProgressStack changed its data!\n",
      "inProgressStack changed its data!\n",
      "inProgressStack changed its data!\n",
      "inProgressStack changed its data!\n",
      "inProgressStack changed its data!\n",
      "inProgressStack changed its data!\n",
      "inProgressStack changed its data!\n",
      "inProgressStack changed its data!\n",
      "inProgressStack changed its data!\n",
      "inProgressStack changed its data!\n",
      "inProgressStack changed its data!\n",
      "inProgressStack changed its data!\n",
      "inProgressStack changed its data!\n",
      "inProgressStack changed its data!\n",
      "inProgressStack changed its data!\n",
      "inProgressStack changed its data!\n",
      "inProgressStack changed its data!\n",
      "inProgressStack changed its data!\n",
      "inProgressStack changed its data!\n",
      "inProgressStack changed its data!\n",
      "inProgressStack changed its data!\n",
      "inProgressStack changed its data!\n",
      "inProgressStack changed its data!\n",
      "inProgressStack changed its data!\n",
      "inProgressStack changed its data!\n",
      "inProgressStack changed its data!\n",
      "inProgressStack changed its data!\n",
      "inProgressStack changed its data!\n",
      "inProgressStack changed its data!\n",
      "inProgressStack changed its data!\n",
      "inProgressStack changed its data!\n",
      "inProgressStack changed its data!\n",
      "inProgressStack changed its data!\n",
      "inProgressStack changed its data!\n",
      "inProgressStack changed its data!\n",
      "inProgressStack changed its data!\n",
      "inProgressStack changed its data!\n",
      "inProgressStack changed its data!\n",
      "inProgressStack changed its data!\n",
      "inProgressStack changed its data!\n",
      "inProgressStack changed its data!\n",
      "inProgressStack changed its data!\n",
      "inProgressStack changed its data!\n",
      "inProgressStack changed its data!\n",
      "inProgressStack changed its data!\n",
      "inProgressStack changed its data!\n",
      "inProgressStack changed its data!\n",
      "inProgressStack changed its data!\n",
      "inProgressStack changed its data!\n",
      "inProgressStack changed its data!\n",
      "inProgressStack changed its data!\n",
      "inProgressStack changed its data!\n",
      "inProgressStack changed its data!\n",
      "inProgressStack changed its data!\n",
      "inProgressStack changed its data!\n",
      "inProgressStack changed its data!\n",
      "inProgressStack changed its data!\n",
      "inProgressStack changed its data!\n",
      "inProgressStack changed its data!\n",
      "inProgressStack changed its data!\n",
      "inProgressStack changed its data!\n",
      "inProgressStack changed its data!\n",
      "inProgressStack changed its data!\n",
      "inProgressStack changed its data!\n",
      "inProgressStack changed its data!\n",
      "inProgressStack changed its data!\n",
      "inProgressStack changed its data!\n",
      "inProgressStack changed its data!\n",
      "inProgressStack changed its data!\n",
      "inProgressStack changed its data!\n",
      "inProgressStack changed its data!\n",
      "inProgressStack changed its data!\n",
      "inProgressStack changed its data!\n",
      "inProgressStack changed its data!\n",
      "inProgressStack changed its data!\n",
      "inProgressStack changed its data!\n",
      "inProgressStack changed its data!\n",
      "inProgressStack changed its data!\n",
      "inProgressStack changed its data!\n",
      "inProgressStack changed its data!\n",
      "inProgressStack changed its data!\n",
      "inProgressStack changed its data!\n",
      "inProgressStack changed its data!\n",
      "inProgressStack changed its data!\n",
      "inProgressStack changed its data!\n",
      "inProgressStack changed its data!\n",
      "inProgressStack changed its data!\n",
      "inProgressStack changed its data!\n",
      "inProgressStack changed its data!\n",
      "inProgressStack changed its data!\n",
      "inProgressStack changed its data!\n",
      "inProgressStack changed its data!\n",
      "inProgressStack changed its data!\n",
      "inProgressStack changed its data!\n",
      "inProgressStack changed its data!\n",
      "inProgressStack changed its data!\n",
      "inProgressStack changed its data!\n",
      "inProgressStack changed its data!\n",
      "inProgressStack changed its data!\n",
      "inProgressStack changed its data!\n",
      "inProgressStack changed its data!\n",
      "inProgressStack changed its data!\n",
      "inProgressStack changed its data!\n",
      "inProgressStack changed its data!\n",
      "inProgressStack changed its data!\n",
      "inProgressStack changed its data!\n",
      "inProgressStack changed its data!\n",
      "inProgressStack changed its data!\n",
      "inProgressStack changed its data!\n",
      "inProgressStack changed its data!\n",
      "inProgressStack changed its data!\n",
      "inProgressStack changed its data!\n",
      "inProgressStack changed its data!\n",
      "inProgressStack changed its data!\n",
      "inProgressStack changed its data!\n",
      "inProgressStack changed its data!\n",
      "inProgressStack changed its data!\n",
      "inProgressStack changed its data!\n",
      "inProgressStack changed its data!\n",
      "inProgressStack changed its data!\n",
      "inProgressStack changed its data!\n",
      "inProgressStack changed its data!\n",
      "inProgressStack changed its data!\n",
      "inProgressStack changed its data!\n",
      "inProgressStack changed its data!\n",
      "inProgressStack changed its data!\n",
      "inProgressStack changed its data!\n",
      "inProgressStack changed its data!\n",
      "inProgressStack changed its data!\n"
     ]
    },
    {
     "name": "stdout",
     "output_type": "stream",
     "text": [
      "inProgressStack changed its data!\n",
      "inProgressStack changed its data!\n",
      "inProgressStack changed its data!\n",
      "inProgressStack changed its data!\n",
      "inProgressStack changed its data!\n",
      "inProgressStack changed its data!\n",
      "inProgressStack changed its data!\n",
      "inProgressStack changed its data!\n",
      "inProgressStack changed its data!\n",
      "inProgressStack changed its data!\n",
      "inProgressStack changed its data!\n",
      "inProgressStack changed its data!\n",
      "inProgressStack changed its data!\n",
      "inProgressStack changed its data!\n",
      "inProgressStack changed its data!\n",
      "inProgressStack changed its data!\n",
      "inProgressStack changed its data!\n",
      "inProgressStack changed its data!\n",
      "inProgressStack changed its data!\n",
      "inProgressStack changed its data!\n",
      "inProgressStack changed its data!\n",
      "inProgressStack changed its data!\n",
      "inProgressStack changed its data!\n",
      "inProgressStack changed its data!\n",
      "inProgressStack changed its data!\n",
      "inProgressStack changed its data!\n",
      "inProgressStack changed its data!\n",
      "inProgressStack changed its data!\n",
      "inProgressStack changed its data!\n",
      "inProgressStack changed its data!\n",
      "inProgressStack changed its data!\n",
      "inProgressStack changed its data!\n",
      "inProgressStack changed its data!\n",
      "inProgressStack changed its data!\n",
      "inProgressStack changed its data!\n",
      "inProgressStack changed its data!\n",
      "inProgressStack changed its data!\n",
      "inProgressStack changed its data!\n",
      "inProgressStack changed its data!\n",
      "inProgressStack changed its data!\n",
      "inProgressStack changed its data!\n",
      "inProgressStack changed its data!\n",
      "inProgressStack changed its data!\n",
      "inProgressStack changed its data!\n",
      "inProgressStack changed its data!\n",
      "inProgressStack changed its data!\n",
      "inProgressStack changed its data!\n",
      "inProgressStack changed its data!\n",
      "inProgressStack changed its data!\n",
      "inProgressStack changed its data!\n",
      "inProgressStack changed its data!\n",
      "inProgressStack changed its data!\n",
      "inProgressStack changed its data!\n",
      "inProgressStack changed its data!\n",
      "inProgressStack changed its data!\n",
      "inProgressStack changed its data!\n",
      "inProgressStack changed its data!\n",
      "inProgressStack changed its data!\n",
      "inProgressStack changed its data!\n",
      "inProgressStack changed its data!\n",
      "inProgressStack changed its data!\n",
      "inProgressStack changed its data!\n",
      "inProgressStack changed its data!\n",
      "inProgressStack changed its data!\n",
      "inProgressStack changed its data!\n",
      "inProgressStack changed its data!\n",
      "inProgressStack changed its data!\n",
      "inProgressStack changed its data!\n",
      "inProgressStack changed its data!\n",
      "inProgressStack changed its data!\n",
      "inProgressStack changed its data!\n",
      "inProgressStack changed its data!\n",
      "inProgressStack changed its data!\n",
      "inProgressStack changed its data!\n",
      "inProgressStack changed its data!\n",
      "inProgressStack changed its data!\n",
      "inProgressStack changed its data!\n",
      "inProgressStack changed its data!\n",
      "inProgressStack changed its data!\n",
      "inProgressStack changed its data!\n",
      "inProgressStack changed its data!\n",
      "inProgressStack changed its data!\n",
      "inProgressStack changed its data!\n",
      "inProgressStack changed its data!\n",
      "inProgressStack changed its data!\n",
      "inProgressStack changed its data!\n",
      "inProgressStack changed its data!\n",
      "inProgressStack changed its data!\n",
      "inProgressStack changed its data!\n",
      "inProgressStack changed its data!\n",
      "inProgressStack changed its data!\n",
      "inProgressStack changed its data!\n",
      "inProgressStack changed its data!\n",
      "inProgressStack changed its data!\n",
      "inProgressStack changed its data!\n",
      "inProgressStack changed its data!\n",
      "inProgressStack changed its data!\n",
      "inProgressStack changed its data!\n",
      "inProgressStack changed its data!\n",
      "inProgressStack changed its data!\n",
      "inProgressStack changed its data!\n",
      "inProgressStack changed its data!\n",
      "inProgressStack changed its data!\n",
      "inProgressStack changed its data!\n",
      "inProgressStack changed its data!\n",
      "inProgressStack changed its data!\n",
      "inProgressStack changed its data!\n",
      "inProgressStack changed its data!\n",
      "inProgressStack changed its data!\n",
      "inProgressStack changed its data!\n",
      "inProgressStack changed its data!\n",
      "inProgressStack changed its data!\n",
      "inProgressStack changed its data!\n",
      "inProgressStack changed its data!\n",
      "inProgressStack changed its data!\n",
      "inProgressStack changed its data!\n",
      "inProgressStack changed its data!\n",
      "inProgressStack changed its data!\n",
      "inProgressStack changed its data!\n",
      "inProgressStack changed its data!\n",
      "inProgressStack changed its data!\n",
      "inProgressStack changed its data!\n",
      "inProgressStack changed its data!\n",
      "inProgressStack changed its data!\n",
      "inProgressStack changed its data!\n",
      "inProgressStack changed its data!\n",
      "inProgressStack changed its data!\n",
      "inProgressStack changed its data!\n",
      "inProgressStack changed its data!\n",
      "inProgressStack changed its data!\n",
      "inProgressStack changed its data!\n",
      "inProgressStack changed its data!\n",
      "inProgressStack changed its data!\n",
      "inProgressStack changed its data!\n",
      "inProgressStack changed its data!\n",
      "inProgressStack changed its data!\n",
      "inProgressStack changed its data!\n",
      "inProgressStack changed its data!\n",
      "inProgressStack changed its data!\n",
      "inProgressStack changed its data!\n",
      "inProgressStack changed its data!\n",
      "inProgressStack changed its data!\n",
      "inProgressStack changed its data!\n",
      "inProgressStack changed its data!\n",
      "inProgressStack changed its data!\n",
      "inProgressStack changed its data!\n",
      "inProgressStack changed its data!\n",
      "inProgressStack changed its data!\n",
      "inProgressStack changed its data!\n",
      "inProgressStack changed its data!\n",
      "inProgressStack changed its data!\n",
      "inProgressStack changed its data!\n",
      "inProgressStack changed its data!\n",
      "inProgressStack changed its data!\n",
      "inProgressStack changed its data!\n",
      "inProgressStack changed its data!\n",
      "inProgressStack changed its data!\n",
      "inProgressStack changed its data!\n",
      "inProgressStack changed its data!\n",
      "inProgressStack changed its data!\n",
      "inProgressStack changed its data!\n",
      "inProgressStack changed its data!\n",
      "inProgressStack changed its data!\n",
      "inProgressStack changed its data!\n",
      "inProgressStack changed its data!\n",
      "inProgressStack changed its data!\n",
      "inProgressStack changed its data!\n",
      "inProgressStack changed its data!\n",
      "inProgressStack changed its data!\n",
      "inProgressStack changed its data!\n",
      "inProgressStack changed its data!\n",
      "inProgressStack changed its data!\n",
      "inProgressStack changed its data!\n",
      "inProgressStack changed its data!\n",
      "inProgressStack changed its data!\n",
      "inProgressStack changed its data!\n",
      "inProgressStack changed its data!\n",
      "inProgressStack changed its data!\n",
      "inProgressStack changed its data!\n",
      "inProgressStack changed its data!\n",
      "inProgressStack changed its data!\n",
      "inProgressStack changed its data!\n",
      "inProgressStack changed its data!\n",
      "inProgressStack changed its data!\n",
      "inProgressStack changed its data!\n",
      "inProgressStack changed its data!\n",
      "inProgressStack changed its data!\n",
      "inProgressStack changed its data!\n",
      "inProgressStack changed its data!\n",
      "inProgressStack changed its data!\n",
      "inProgressStack changed its data!\n",
      "inProgressStack changed its data!\n",
      "inProgressStack changed its data!\n",
      "inProgressStack changed its data!\n",
      "inProgressStack changed its data!\n",
      "inProgressStack changed its data!\n",
      "inProgressStack changed its data!\n",
      "inProgressStack changed its data!\n",
      "inProgressStack changed its data!\n",
      "inProgressStack changed its data!\n",
      "inProgressStack changed its data!\n",
      "inProgressStack changed its data!\n",
      "inProgressStack changed its data!\n",
      "inProgressStack changed its data!\n",
      "inProgressStack changed its data!\n",
      "inProgressStack changed its data!\n",
      "inProgressStack changed its data!\n",
      "inProgressStack changed its data!\n",
      "inProgressStack changed its data!\n",
      "inProgressStack changed its data!\n",
      "inProgressStack changed its data!\n",
      "inProgressStack changed its data!\n",
      "inProgressStack changed its data!\n",
      "inProgressStack changed its data!\n",
      "inProgressStack changed its data!\n",
      "inProgressStack changed its data!\n",
      "inProgressStack changed its data!\n",
      "inProgressStack changed its data!\n",
      "inProgressStack changed its data!\n",
      "inProgressStack changed its data!\n",
      "inProgressStack changed its data!\n",
      "inProgressStack changed its data!\n",
      "inProgressStack changed its data!\n",
      "inProgressStack changed its data!\n",
      "inProgressStack changed its data!\n",
      "inProgressStack changed its data!\n",
      "inProgressStack changed its data!\n",
      "inProgressStack changed its data!\n",
      "inProgressStack changed its data!\n",
      "inProgressStack changed its data!\n",
      "inProgressStack changed its data!\n",
      "inProgressStack changed its data!\n",
      "inProgressStack changed its data!\n",
      "inProgressStack changed its data!\n",
      "inProgressStack changed its data!\n",
      "inProgressStack changed its data!\n",
      "inProgressStack changed its data!\n",
      "inProgressStack changed its data!\n",
      "inProgressStack changed its data!\n",
      "inProgressStack changed its data!\n",
      "inProgressStack changed its data!\n"
     ]
    },
    {
     "name": "stdout",
     "output_type": "stream",
     "text": [
      "inProgressStack changed its data!\n",
      "inProgressStack changed its data!\n",
      "inProgressStack changed its data!\n",
      "inProgressStack changed its data!\n",
      "inProgressStack changed its data!\n",
      "inProgressStack changed its data!\n",
      "inProgressStack changed its data!\n",
      "inProgressStack changed its data!\n",
      "inProgressStack changed its data!\n",
      "inProgressStack changed its data!\n",
      "inProgressStack changed its data!\n",
      "inProgressStack changed its data!\n",
      "inProgressStack changed its data!\n",
      "inProgressStack changed its data!\n",
      "inProgressStack changed its data!\n",
      "inProgressStack changed its data!\n",
      "inProgressStack changed its data!\n",
      "inProgressStack changed its data!\n",
      "inProgressStack changed its data!\n",
      "inProgressStack changed its data!\n",
      "inProgressStack changed its data!\n",
      "inProgressStack changed its data!\n",
      "inProgressStack changed its data!\n",
      "inProgressStack changed its data!\n",
      "inProgressStack changed its data!\n",
      "inProgressStack changed its data!\n",
      "inProgressStack changed its data!\n",
      "inProgressStack changed its data!\n",
      "inProgressStack changed its data!\n",
      "inProgressStack changed its data!\n",
      "inProgressStack changed its data!\n",
      "inProgressStack changed its data!\n",
      "inProgressStack changed its data!\n",
      "inProgressStack changed its data!\n",
      "inProgressStack changed its data!\n",
      "inProgressStack changed its data!\n",
      "inProgressStack changed its data!\n",
      "inProgressStack changed its data!\n",
      "inProgressStack changed its data!\n",
      "inProgressStack changed its data!\n",
      "inProgressStack changed its data!\n",
      "inProgressStack changed its data!\n",
      "inProgressStack changed its data!\n",
      "inProgressStack changed its data!\n",
      "inProgressStack changed its data!\n",
      "inProgressStack changed its data!\n",
      "inProgressStack changed its data!\n",
      "inProgressStack changed its data!\n",
      "inProgressStack changed its data!\n",
      "inProgressStack changed its data!\n",
      "inProgressStack changed its data!\n",
      "inProgressStack changed its data!\n",
      "inProgressStack changed its data!\n",
      "inProgressStack changed its data!\n",
      "inProgressStack changed its data!\n",
      "inProgressStack changed its data!\n",
      "inProgressStack changed its data!\n",
      "inProgressStack changed its data!\n",
      "inProgressStack changed its data!\n",
      "inProgressStack changed its data!\n",
      "inProgressStack changed its data!\n",
      "inProgressStack changed its data!\n",
      "inProgressStack changed its data!\n",
      "inProgressStack changed its data!\n",
      "inProgressStack changed its data!\n",
      "inProgressStack changed its data!\n",
      "inProgressStack changed its data!\n",
      "inProgressStack changed its data!\n"
     ]
    }
   ],
   "source": [
    "# from hooking up your own events\n",
    "# not working at the moment\n",
    "\n",
    "def print_layer_name(event):\n",
    "    print(f\"{event.source.name} changed its data!\")\n",
    "\n",
    "viewer.layers['inProgressStack'].events.set_data.connect(print_layer_name)\n"
   ]
  },
  {
   "cell_type": "code",
   "execution_count": 56,
   "id": "04f96e46",
   "metadata": {},
   "outputs": [
    {
     "data": {
      "text/plain": [
       "<function __main__._on_removed(event)>"
      ]
     },
     "execution_count": 56,
     "metadata": {},
     "output_type": "execute_result"
    },
    {
     "name": "stdout",
     "output_type": "stream",
     "text": [
      "removed: mitosis\n",
      "removed: acceptedStack\n"
     ]
    }
   ],
   "source": [
    "def _on_removed(event):\n",
    "    layer = event.value\n",
    "    print(\"removed: \" + layer.name)\n",
    "\n",
    "viewer.layers.events.removed.connect(_on_removed)"
   ]
  },
  {
   "cell_type": "code",
   "execution_count": 58,
   "id": "7f5ab282",
   "metadata": {},
   "outputs": [
    {
     "ename": "NameError",
     "evalue": "name 'event' is not defined",
     "output_type": "error",
     "traceback": [
      "\u001b[1;31m---------------------------------------------------------------------------\u001b[0m",
      "\u001b[1;31mNameError\u001b[0m                                 Traceback (most recent call last)",
      "\u001b[1;32m<ipython-input-58-cc102de9059f>\u001b[0m in \u001b[0;36m<module>\u001b[1;34m\u001b[0m\n\u001b[1;32m----> 1\u001b[1;33m \u001b[0mevent\u001b[0m\u001b[1;33m\u001b[0m\u001b[1;33m\u001b[0m\u001b[0m\n\u001b[0m",
      "\u001b[1;31mNameError\u001b[0m: name 'event' is not defined"
     ]
    }
   ],
   "source": [
    "event"
   ]
  },
  {
   "cell_type": "markdown",
   "id": "33c7047c",
   "metadata": {},
   "source": [
    "## Save annotated points"
   ]
  },
  {
   "cell_type": "code",
   "execution_count": 62,
   "id": "0435cad8",
   "metadata": {},
   "outputs": [],
   "source": [
    "# save annotations\n",
    "donePoints = viewer.layers['correct'].data.astype(int)\n",
    "np.save(os.path.join(pointDir,donePointsPath),donePoints)\n",
    "\n",
    "mitosisPoints = viewer.layers['mitosis'].data.astype(int)\n",
    "np.save(os.path.join(pointDir,mitosisPointsPath),mitosisPoints)"
   ]
  },
  {
   "cell_type": "markdown",
   "id": "922a28f9",
   "metadata": {},
   "source": [
    "## Resolve swap points"
   ]
  },
  {
   "cell_type": "code",
   "execution_count": 14,
   "id": "8dddd08e",
   "metadata": {},
   "outputs": [],
   "source": [
    "@viewer.bind_key('r',overwrite=True)\n",
    "def swap_points(viewer):\n",
    "    \n",
    "    swapPoints = viewer.layers['swapPoints'].data.astype(int)\n",
    "\n",
    "    # check that you get a good set of swapPoints\n",
    "    lenTest = (len(swapPoints) == 4)\n",
    "\n",
    "    if lenTest:\n",
    "\n",
    "        framesToSwap = list(set(swapPoints[:,0]))\n",
    "        framesToSwap.sort()\n",
    "        frameTest = (framesToSwap[1] == framesToSwap[0]+1)\n",
    "\n",
    "        # read in in-progress tracks\n",
    "        inProgressTracks = viewer.layers['inProgressStack'].data\n",
    "\n",
    "        # check tracks\n",
    "        myTracks = []\n",
    "        for myPoint in swapPoints:\n",
    "\n",
    "            myTracks.append(inProgressTracks[tuple(myPoint)])\n",
    "\n",
    "        trackTest = (len(set(myTracks)) == 2)\n",
    "\n",
    "        if (lenTest and frameTest and trackTest):\n",
    "\n",
    "            # get tracks numbers\n",
    "            track_1 = list((set(myTracks)))[0] \n",
    "            track_2 = list((set(myTracks)))[1]\n",
    "\n",
    "            frame_change = np.max(framesToSwap)\n",
    "\n",
    "            inProgressTracks[frame_change:,:,:][inProgressTracks[frame_change:,:,:]==track_1]=4095\n",
    "            inProgressTracks[frame_change:,:,:][inProgressTracks[frame_change:,:,:]==track_2]=track_1\n",
    "            inProgressTracks[frame_change:,:,:][inProgressTracks[frame_change:,:,:]==4095]=track_2\n",
    "\n",
    "            # change labels layer\n",
    "            viewer.layers.pop('inProgressStack')\n",
    "            viewer.add_labels(inProgressTracks,name='inProgressStack',opacity = 0.5)\n",
    "\n",
    "            '''\n",
    "            ###########################################################################\n",
    "            # this will be a good option if you could create a fast way to encode this data from layer to structure\n",
    "            \n",
    "            # change tracking data\n",
    "            data,properties,graph = getTrackingFromLayer(inProgressTracks)\n",
    "            \n",
    "            # update tracking data\n",
    "            viewer.layers['data'].data = data\n",
    "            viewer.layers['data'].properties = properties\n",
    "            \n",
    "            # otherwise just modify the change\n",
    "            # but the change propagates through generations!!!\n",
    "            # so you may need to change parent for kids \n",
    "            \n",
    "            ############################################################################\n",
    "            '''\n",
    "            \n",
    "            # clean swap points\n",
    "            viewer.layers['swapPoints'].data = []\n",
    "\n",
    "            viewer.status='Tracks have been swapped.'\n",
    "\n",
    "        else:\n",
    "\n",
    "            viewer.status='Swap points are incorrect.'\n",
    "    else:\n",
    "\n",
    "        viewer.status='Swap points are incorrect.'"
   ]
  },
  {
   "cell_type": "code",
   "execution_count": 131,
   "id": "f3ed9c5b",
   "metadata": {},
   "outputs": [
    {
     "data": {
      "text/plain": [
       "array([[  25, 1138, 1073],\n",
       "       [  25, 1121, 1163],\n",
       "       [  26, 1142, 1066],\n",
       "       [  26, 1120, 1161]])"
      ]
     },
     "execution_count": 131,
     "metadata": {},
     "output_type": "execute_result"
    }
   ],
   "source": [
    "swapPoints = viewer.layers['swapPoints'].data.astype(int)\n",
    "swapPoints"
   ]
  },
  {
   "cell_type": "code",
   "execution_count": 129,
   "id": "67bb7f79",
   "metadata": {},
   "outputs": [
    {
     "data": {
      "text/plain": [
       "array([[  25, 1142, 1074],\n",
       "       [  25, 1121, 1163],\n",
       "       [  26, 1139, 1068],\n",
       "       [  26, 1123, 1160]])"
      ]
     },
     "execution_count": 129,
     "metadata": {},
     "output_type": "execute_result"
    }
   ],
   "source": [
    "#swapPoints = viewer.layers['swapPoints'].data.astype(int)\n",
    "swapPoints"
   ]
  },
  {
   "cell_type": "code",
   "execution_count": 135,
   "id": "c6dd440b",
   "metadata": {},
   "outputs": [],
   "source": [
    "swapPoints = viewer.layers['swapPoints'].data.astype(int)\n",
    "\n",
    "\n",
    "# check that you get a good set of swapPoints\n",
    "lenTest = (len(swapPoints) == 4)\n",
    "\n",
    "if lenTest:\n",
    "\n",
    "    framesToSwap = list(set(swapPoints[:,0]))\n",
    "    framesToSwap.sort()\n",
    "    frameTest = (framesToSwap[1] == framesToSwap[0]+1)\n",
    "\n",
    "\n",
    "    # read in in-progress tracks\n",
    "    inProgressTracks = viewer.layers['inProgressStack'].data\n",
    "\n",
    "    # check tracks\n",
    "    myTracks = []\n",
    "    for myPoint in swapPoints:\n",
    "\n",
    "        myTracks.append(inProgressTracks[tuple(myPoint)])\n",
    "\n",
    "    trackTest = (len(set(myTracks)) == 2)\n",
    "\n",
    "    if (lenTest and frameTest and trackTest):\n",
    "\n",
    "        # get tracks numbers\n",
    "        track_1 = list((set(myTracks)))[0] \n",
    "        track_2 = list((set(myTracks)))[1]\n",
    "\n",
    "        frame_change = np.max(framesToSwap)\n",
    "\n",
    "              \n",
    "children_1 = set(data[((properties['parent']==track_1) & (properties['generation']>0)),0])\n",
    "children_2 = set(data[((properties['parent']==track_2) & (properties['generation']>0)),0])"
   ]
  },
  {
   "cell_type": "code",
   "execution_count": 136,
   "id": "af423bda",
   "metadata": {},
   "outputs": [
    {
     "name": "stdout",
     "output_type": "stream",
     "text": [
      "frame change 26\n",
      "16\n",
      "768.0\n",
      "parent [16]\n",
      "767.0\n",
      "parent [16]\n",
      "13\n",
      "1128.0\n",
      "parent [13]\n",
      "1117.0\n",
      "parent [13]\n"
     ]
    }
   ],
   "source": [
    "print(f'frame change {frame_change}')\n",
    "\n",
    "print(track_1)\n",
    "\n",
    "for child in children_1:\n",
    "    print(child)\n",
    "    print(f'parent {graph[int(child)]}')\n",
    "\n",
    "print(track_2)\n",
    "\n",
    "for child in children_2:\n",
    "    print(child)\n",
    "    print(f'parent {graph[int(child)]}')"
   ]
  },
  {
   "cell_type": "code",
   "execution_count": 134,
   "id": "c939f304",
   "metadata": {},
   "outputs": [
    {
     "name": "stdout",
     "output_type": "stream",
     "text": [
      "frame change 26\n",
      "16\n",
      "1128.0\n",
      "parent [13]\n",
      "1117.0\n",
      "parent [13]\n",
      "13\n",
      "768.0\n",
      "parent [16]\n",
      "767.0\n",
      "parent [16]\n"
     ]
    }
   ],
   "source": [
    "print(f'frame change {frame_change}')\n",
    "\n",
    "print(track_1)\n",
    "\n",
    "for child in children_1:\n",
    "    print(child)\n",
    "    print(f'parent {graph[int(child)]}')\n",
    "\n",
    "print(track_2)\n",
    "\n",
    "for child in children_2:\n",
    "    print(child)\n",
    "    print(f'parent {graph[int(child)]}')"
   ]
  },
  {
   "cell_type": "code",
   "execution_count": 111,
   "id": "e89afebb",
   "metadata": {},
   "outputs": [
    {
     "data": {
      "text/plain": [
       "{767.0, 768.0}"
      ]
     },
     "execution_count": 111,
     "metadata": {},
     "output_type": "execute_result"
    }
   ],
   "source": [
    "children_1"
   ]
  },
  {
   "cell_type": "code",
   "execution_count": 95,
   "id": "08a1be00",
   "metadata": {},
   "outputs": [
    {
     "name": "stdout",
     "output_type": "stream",
     "text": [
      "[13]\n",
      "[13]\n"
     ]
    }
   ],
   "source": [
    "for child in children_1:\n",
    "    \n",
    "    print(graph[int(child)])"
   ]
  },
  {
   "cell_type": "code",
   "execution_count": 93,
   "id": "388f91fa",
   "metadata": {},
   "outputs": [
    {
     "data": {
      "text/plain": [
       "[13]"
      ]
     },
     "execution_count": 93,
     "metadata": {},
     "output_type": "execute_result"
    }
   ],
   "source": [
    "graph[1128]"
   ]
  },
  {
   "cell_type": "code",
   "execution_count": 80,
   "id": "b7e2b3fb",
   "metadata": {},
   "outputs": [
    {
     "data": {
      "text/plain": [
       "array([1, 1, 1, 1, 1, 1, 1, 1, 1, 1, 1, 1, 1, 1, 1, 1, 1, 1, 1, 1, 1, 1,\n",
       "       1, 1, 1, 1, 1, 1, 1, 1, 1, 1, 1, 1, 1, 1, 1, 1, 1, 1, 1, 1, 1, 1,\n",
       "       1, 1, 1, 1, 1, 1, 1, 1, 1, 1, 1, 1, 1, 1, 1, 1, 1, 1, 1, 1, 1, 1,\n",
       "       1, 1, 1, 1, 1, 1, 1, 1, 1, 1, 1, 1, 1, 1, 1, 1, 1, 1, 1, 1, 1, 1,\n",
       "       1, 1, 1, 1, 1, 1, 1, 1, 1, 1, 1, 1, 1, 1, 1, 1, 1, 1, 1, 1, 1, 1,\n",
       "       1, 1, 1, 1, 1, 1, 1, 1, 1, 1, 1, 1, 1, 1, 1, 1, 1, 1, 1, 1, 1, 1,\n",
       "       1, 1, 1, 1, 1, 1, 1, 1, 1, 1, 1, 1, 1, 1, 1, 1, 1, 1, 1, 1, 1, 1,\n",
       "       1, 1, 1, 1, 1, 1, 1, 1, 1, 1, 1, 1, 1, 1, 1, 1, 1, 1, 1, 1, 1, 1,\n",
       "       1, 1, 1, 1, 1, 1, 1, 1, 1, 1, 1, 1, 1, 1, 1, 1, 1, 1, 1, 1, 1, 1,\n",
       "       1, 1, 1, 1, 1, 1, 1, 1, 1, 1, 1, 1, 1, 1, 1, 1, 1, 1, 1, 1, 1, 1,\n",
       "       1, 1, 1, 1, 1, 1, 1, 1, 1, 1, 1, 1, 1, 1, 1, 1, 1, 1, 1, 1, 1, 1,\n",
       "       1, 1, 1, 1, 1, 1, 1, 1, 1, 1, 1, 1, 1, 1, 1, 1, 1, 1, 1, 1, 1, 1,\n",
       "       1, 1, 1, 1, 1, 1, 1, 1, 1, 1, 1, 1, 1, 1, 1, 1, 1, 1, 1, 1, 1, 1,\n",
       "       1, 1, 1, 1, 1, 1, 1, 1, 1, 1, 1, 1, 1, 1, 1, 1, 1, 1, 1, 1, 1, 1,\n",
       "       1, 1, 1, 1, 1, 1, 1, 1, 1, 1, 1, 1, 1, 1, 1, 1, 1, 1, 1, 1, 1, 1,\n",
       "       1, 1, 1, 1, 1, 1, 1, 1, 1, 1, 1, 1, 1, 1, 1, 1, 1, 1, 1, 1, 1, 1,\n",
       "       1, 1, 1, 1, 1, 1, 1, 1, 1])"
      ]
     },
     "execution_count": 80,
     "metadata": {},
     "output_type": "execute_result"
    }
   ],
   "source": [
    "properties['generation'][data[:,0]==767]"
   ]
  },
  {
   "cell_type": "code",
   "execution_count": 76,
   "id": "3c41d104",
   "metadata": {},
   "outputs": [
    {
     "data": {
      "text/plain": [
       "0"
      ]
     },
     "execution_count": 76,
     "metadata": {},
     "output_type": "execute_result"
    }
   ],
   "source": [
    "np.sum(properties['parent']==1117)"
   ]
  },
  {
   "cell_type": "code",
   "execution_count": 43,
   "id": "af1f5a7a",
   "metadata": {},
   "outputs": [],
   "source": [
    "# change tracking data\n",
    "track1_change = ((data[:,0]==track_1) & (data[:,1]>=frame_change))\n",
    "track2_change = ((data[:,0]==track_2) & (data[:,1]>=frame_change))"
   ]
  },
  {
   "cell_type": "code",
   "execution_count": 52,
   "id": "623fcbbd",
   "metadata": {},
   "outputs": [
    {
     "data": {
      "text/plain": [
       "{188: [175],\n",
       " 189: [175],\n",
       " 199: [19],\n",
       " 203: [19],\n",
       " 216: [186],\n",
       " 217: [186],\n",
       " 241: [223],\n",
       " 242: [223],\n",
       " 254: [227],\n",
       " 262: [227],\n",
       " 263: [146],\n",
       " 267: [146],\n",
       " 270: [141],\n",
       " 271: [141],\n",
       " 294: [272],\n",
       " 295: [272],\n",
       " 331: [100],\n",
       " 332: [100],\n",
       " 383: [37],\n",
       " 384: [37],\n",
       " 390: [354],\n",
       " 392: [354],\n",
       " 398: [374],\n",
       " 399: [374],\n",
       " 510: [245],\n",
       " 511: [245],\n",
       " 514: [161],\n",
       " 518: [512],\n",
       " 526: [161],\n",
       " 531: [512],\n",
       " 532: [106],\n",
       " 533: [106],\n",
       " 540: [22],\n",
       " 542: [21],\n",
       " 544: [21],\n",
       " 550: [7],\n",
       " 551: [7],\n",
       " 552: [22],\n",
       " 559: [168],\n",
       " 566: [318],\n",
       " 567: [318],\n",
       " 570: [168],\n",
       " 574: [417],\n",
       " 587: [417],\n",
       " 617: [304],\n",
       " 618: [533],\n",
       " 619: [533],\n",
       " 629: [554],\n",
       " 632: [304],\n",
       " 640: [554],\n",
       " 663: [89],\n",
       " 664: [89],\n",
       " 675: [105],\n",
       " 680: [105],\n",
       " 697: [12],\n",
       " 700: [12],\n",
       " 710: [143],\n",
       " 711: [143],\n",
       " 743: [728],\n",
       " 744: [728],\n",
       " 759: [126],\n",
       " 760: [126],\n",
       " 767: [16],\n",
       " 768: [16],\n",
       " 770: [159],\n",
       " 772: [159],\n",
       " 798: [782],\n",
       " 799: [782],\n",
       " 803: [142],\n",
       " 804: [142],\n",
       " 846: [41],\n",
       " 847: [41],\n",
       " 853: [85],\n",
       " 854: [85],\n",
       " 894: [737],\n",
       " 895: [737],\n",
       " 940: [912],\n",
       " 941: [912],\n",
       " 960: [122],\n",
       " 961: [122],\n",
       " 968: [271],\n",
       " 969: [271],\n",
       " 983: [137],\n",
       " 985: [137],\n",
       " 1000: [52],\n",
       " 1001: [52],\n",
       " 1008: [984],\n",
       " 1009: [984],\n",
       " 1040: [77],\n",
       " 1041: [77],\n",
       " 1112: [340],\n",
       " 1113: [340],\n",
       " 1117: [13],\n",
       " 1121: [443],\n",
       " 1124: [443],\n",
       " 1128: [13],\n",
       " 1139: [655],\n",
       " 1140: [655],\n",
       " 1143: [643],\n",
       " 1145: [643],\n",
       " 1147: [129],\n",
       " 1148: [129],\n",
       " 1152: [28],\n",
       " 1154: [28],\n",
       " 1156: [39],\n",
       " 1157: [39],\n",
       " 1167: [1126],\n",
       " 1168: [1126],\n",
       " 1184: [1150],\n",
       " 1185: [1150],\n",
       " 1195: [92],\n",
       " 1196: [92],\n",
       " 1210: [88],\n",
       " 1211: [88],\n",
       " 1250: [882],\n",
       " 1254: [1084],\n",
       " 1255: [1084],\n",
       " 1256: [882],\n",
       " 1280: [46],\n",
       " 1282: [46],\n",
       " 1334: [333],\n",
       " 1335: [333],\n",
       " 1339: [33],\n",
       " 1340: [33],\n",
       " 1351: [1330],\n",
       " 1352: [1330],\n",
       " 1365: [148],\n",
       " 1366: [148],\n",
       " 1400: [40],\n",
       " 1401: [40],\n",
       " 1453: [147],\n",
       " 1455: [147],\n",
       " 1493: [182],\n",
       " 1494: [182],\n",
       " 1514: [1326],\n",
       " 1517: [1326],\n",
       " 1557: [84],\n",
       " 1559: [84],\n",
       " 1567: [535],\n",
       " 1571: [535],\n",
       " 1582: [1075],\n",
       " 1583: [1075],\n",
       " 1640: [11],\n",
       " 1642: [11],\n",
       " 1779: [347],\n",
       " 1780: [347],\n",
       " 1786: [343],\n",
       " 1791: [343],\n",
       " 2051: [216],\n",
       " 2052: [216],\n",
       " 2292: [1900],\n",
       " 2293: [1900],\n",
       " 2664: [1313],\n",
       " 2679: [1313],\n",
       " 2755: [353],\n",
       " 2762: [353],\n",
       " 2884: [2705],\n",
       " 2885: [2705],\n",
       " 2957: [1140],\n",
       " 2958: [1140],\n",
       " 2965: [4],\n",
       " 2966: [4],\n",
       " 3077: [2345],\n",
       " 3085: [2345],\n",
       " 3088: [1967],\n",
       " 3089: [1967],\n",
       " 3231: [2305],\n",
       " 3232: [2305],\n",
       " 3261: [2917],\n",
       " 3270: [2917],\n",
       " 3336: [2520],\n",
       " 3337: [2520],\n",
       " 3449: [1325],\n",
       " 3450: [1325],\n",
       " 3668: [97],\n",
       " 3669: [97],\n",
       " 3808: [3643],\n",
       " 3811: [3643],\n",
       " 3837: [3826],\n",
       " 3838: [3826],\n",
       " 3850: [596],\n",
       " 3852: [596],\n",
       " 3962: [3951],\n",
       " 3964: [3951],\n",
       " 3971: [2964],\n",
       " 3972: [2964]}"
      ]
     },
     "execution_count": 52,
     "metadata": {},
     "output_type": "execute_result"
    }
   ],
   "source": [
    "graph"
   ]
  },
  {
   "cell_type": "code",
   "execution_count": 45,
   "id": "67d8110e",
   "metadata": {},
   "outputs": [
    {
     "data": {
      "text/plain": [
       "39"
      ]
     },
     "execution_count": 45,
     "metadata": {},
     "output_type": "execute_result"
    }
   ],
   "source": [
    "np.sum(track1_change)"
   ]
  },
  {
   "cell_type": "code",
   "execution_count": 39,
   "id": "e290fac7",
   "metadata": {},
   "outputs": [],
   "source": [
    "swapPoints = viewer.layers['swapPoints'].data.astype(int)\n",
    "\n",
    "\n",
    "# check that you get a good set of swapPoints\n",
    "lenTest = (len(swapPoints) == 4)\n",
    "\n",
    "if lenTest:\n",
    "\n",
    "    framesToSwap = list(set(swapPoints[:,0]))\n",
    "    framesToSwap.sort()\n",
    "    frameTest = (framesToSwap[1] == framesToSwap[0]+1)\n",
    "\n",
    "\n",
    "    # read in in-progress tracks\n",
    "    inProgressTracks = viewer.layers['inProgressStack'].data\n",
    "\n",
    "    # check tracks\n",
    "    myTracks = []\n",
    "    for myPoint in swapPoints:\n",
    "\n",
    "        myTracks.append(inProgressTracks[tuple(myPoint)])\n",
    "\n",
    "    trackTest = (len(set(myTracks)) == 2)\n",
    "\n",
    "    if (lenTest and frameTest and trackTest):\n",
    "\n",
    "        # get tracks numbers\n",
    "        track_1 = list((set(myTracks)))[0] \n",
    "        track_2 = list((set(myTracks)))[1]\n",
    "\n",
    "        frame_change = np.max(framesToSwap)"
   ]
  },
  {
   "cell_type": "code",
   "execution_count": 41,
   "id": "5a417b9a",
   "metadata": {},
   "outputs": [
    {
     "data": {
      "text/plain": [
       "26"
      ]
     },
     "execution_count": 41,
     "metadata": {},
     "output_type": "execute_result"
    }
   ],
   "source": [
    "frame_change"
   ]
  },
  {
   "cell_type": "code",
   "execution_count": null,
   "id": "e4708318",
   "metadata": {},
   "outputs": [],
   "source": [
    "properties[changeFeature]"
   ]
  },
  {
   "cell_type": "code",
   "execution_count": 46,
   "id": "f049e0c4",
   "metadata": {},
   "outputs": [
    {
     "name": "stdout",
     "output_type": "stream",
     "text": [
      "16\n",
      "13\n",
      "0\n",
      "0\n",
      "16\n",
      "13\n"
     ]
    }
   ],
   "source": [
    "featuresList =['parent','generation','root']\n",
    "\n",
    "for changeFeature in featuresList:\n",
    "\n",
    "    temp1 = properties[changeFeature][track1_change][0]\n",
    "    temp2 = properties[changeFeature][track2_change][0]\n",
    "    print(temp1)\n",
    "    print(temp2)"
   ]
  },
  {
   "cell_type": "code",
   "execution_count": 47,
   "id": "9b8dbf60",
   "metadata": {},
   "outputs": [
    {
     "data": {
      "text/plain": [
       "array([   1,    1,    1, ..., 3978, 3979, 3980])"
      ]
     },
     "execution_count": 47,
     "metadata": {},
     "output_type": "execute_result"
    }
   ],
   "source": [
    "properties['parent']"
   ]
  },
  {
   "cell_type": "code",
   "execution_count": 49,
   "id": "66507e05",
   "metadata": {},
   "outputs": [
    {
     "data": {
      "text/plain": [
       "2"
      ]
     },
     "execution_count": 49,
     "metadata": {},
     "output_type": "execute_result"
    }
   ],
   "source": [
    "np.max(properties['generation'])"
   ]
  },
  {
   "cell_type": "code",
   "execution_count": null,
   "id": "a0c98308",
   "metadata": {},
   "outputs": [],
   "source": [
    "track1_change = ((data[:,0]==track_1) and (data[:,1]>=frame_change))\n",
    "track2_change = ((data[:,0]==track_2) and (data[:,1]>=frame_change))\n",
    "\n",
    "data[track2_change,:] = track_1\n",
    "data[track1_change,:] = track_2\n",
    "\n",
    "featuresList =['parent','generation','root']\n",
    "\n",
    "for changeFeature in featuresList:\n",
    "\n",
    "    temp1 = properties[changeFeature][track1_change] \n",
    "    temp2 = properties[changeFeature][track2_change]\n",
    "\n",
    "    properties[changeFeature][track1_change] = temp2\n",
    "    properties[changeFeature][track2_change] = temp1"
   ]
  },
  {
   "cell_type": "code",
   "execution_count": 17,
   "id": "4d015469",
   "metadata": {},
   "outputs": [
    {
     "data": {
      "text/plain": [
       "array([   1,    1,    1, ..., 3978, 3979, 3980])"
      ]
     },
     "execution_count": 17,
     "metadata": {},
     "output_type": "execute_result"
    }
   ],
   "source": []
  },
  {
   "cell_type": "code",
   "execution_count": 18,
   "id": "1049c6f8",
   "metadata": {},
   "outputs": [
    {
     "data": {
      "text/plain": [
       "{'t': array([  0,   1,   2, ..., 425, 425, 425]),\n",
       " 'state': array([5, 5, 5, ..., 5, 5, 5]),\n",
       " 'generation': array([0, 0, 0, ..., 0, 0, 0]),\n",
       " 'root': array([   1,    1,    1, ..., 3978, 3979, 3980]),\n",
       " 'parent': array([   1,    1,    1, ..., 3978, 3979, 3980]),\n",
       " 'area': array([594., 554., 539., ..., 104., 632., 130.]),\n",
       " 'major_axis_length': array([30.93546676, 30.50784398, 29.9256982 , ..., 16.59471649,\n",
       "        38.55793435, 15.47378568]),\n",
       " 'minor_axis_length': array([24.64765807, 23.34283118, 23.26908727, ...,  8.53638228,\n",
       "        21.1229483 , 10.9748531 ])}"
      ]
     },
     "execution_count": 18,
     "metadata": {},
     "output_type": "execute_result"
    }
   ],
   "source": [
    "properties"
   ]
  },
  {
   "cell_type": "code",
   "execution_count": 85,
   "id": "04b30914",
   "metadata": {},
   "outputs": [
    {
     "data": {
      "text/plain": [
       "True"
      ]
     },
     "execution_count": 85,
     "metadata": {},
     "output_type": "execute_result"
    }
   ],
   "source": [
    "framesToSwap = list(set(swapPoints[:,0]))\n",
    "framesToSwap.sort()\n",
    "frameTest = (framesToSwap[1] == framesToSwap[0]+1)\n",
    "frameTest"
   ]
  },
  {
   "cell_type": "code",
   "execution_count": 74,
   "id": "4d1f72cf",
   "metadata": {},
   "outputs": [],
   "source": [
    "swapPoints = viewer.layers['swapPoints'].data.astype(int)"
   ]
  },
  {
   "cell_type": "code",
   "execution_count": 81,
   "id": "bc67840b",
   "metadata": {},
   "outputs": [
    {
     "data": {
      "text/plain": [
       "array([[ 292,  745, 1418],\n",
       "       [ 292,  767, 1423],\n",
       "       [ 293,  743, 1425],\n",
       "       [ 293,  772, 1428]])"
      ]
     },
     "execution_count": 81,
     "metadata": {},
     "output_type": "execute_result"
    }
   ],
   "source": [
    "swapPoints"
   ]
  },
  {
   "cell_type": "code",
   "execution_count": 80,
   "id": "0927d802",
   "metadata": {},
   "outputs": [
    {
     "data": {
      "text/plain": [
       "2"
      ]
     },
     "execution_count": 80,
     "metadata": {},
     "output_type": "execute_result"
    }
   ],
   "source": [
    "len(set(swapPoints[:,0])) == 2"
   ]
  },
  {
   "cell_type": "code",
   "execution_count": 69,
   "id": "f6a696a7",
   "metadata": {},
   "outputs": [
    {
     "data": {
      "text/plain": [
       "<Labels layer 'inProgressStack' at 0x2842bf50f48>"
      ]
     },
     "execution_count": 69,
     "metadata": {},
     "output_type": "execute_result"
    }
   ],
   "source": [
    "viewer.add_labels(inProgressTracks,name='inProgressStack',opacity = 0.5)"
   ]
  },
  {
   "cell_type": "code",
   "execution_count": 65,
   "id": "f1f4c5ad",
   "metadata": {},
   "outputs": [
    {
     "data": {
      "text/plain": [
       "[<Image layer 'myIm' at 0x28427515ac8>, <Tracks layer 'data' at 0x28427204908>, <Points layer 'correct' at 0x2842720ae88>, <Points layer 'mitosis' at 0x28427223948>, <Points layer 'swapPoints' at 0x2842cb34688>, <Labels layer 'swapped' at 0x28428749b48>, <Labels layer 'inProgressStack' at 0x2830f439a48>, <Labels layer 'inProgressStack [1]' at 0x2842ad7d808>]"
      ]
     },
     "execution_count": 65,
     "metadata": {},
     "output_type": "execute_result"
    }
   ],
   "source": [
    "viewer.layers"
   ]
  },
  {
   "cell_type": "code",
   "execution_count": 68,
   "id": "679c0bdf",
   "metadata": {},
   "outputs": [
    {
     "data": {
      "text/plain": [
       "<Labels layer 'inProgressStack [1]' at 0x2842ad7d808>"
      ]
     },
     "execution_count": 68,
     "metadata": {},
     "output_type": "execute_result"
    }
   ],
   "source": [
    "viewer.layers.pop('inProgressStack [1]')"
   ]
  },
  {
   "cell_type": "code",
   "execution_count": 53,
   "id": "f5db14aa",
   "metadata": {},
   "outputs": [],
   "source": [
    "inProgressTracks = viewer.layers['inProgressStack'].data"
   ]
  },
  {
   "cell_type": "code",
   "execution_count": 54,
   "id": "9acca001",
   "metadata": {},
   "outputs": [
    {
     "data": {
      "text/html": [
       "<div>\n",
       "<style scoped>\n",
       "    .dataframe tbody tr th:only-of-type {\n",
       "        vertical-align: middle;\n",
       "    }\n",
       "\n",
       "    .dataframe tbody tr th {\n",
       "        vertical-align: top;\n",
       "    }\n",
       "\n",
       "    .dataframe thead th {\n",
       "        text-align: right;\n",
       "    }\n",
       "</style>\n",
       "<table border=\"1\" class=\"dataframe\">\n",
       "  <thead>\n",
       "    <tr style=\"text-align: right;\">\n",
       "      <th></th>\n",
       "      <th>t</th>\n",
       "      <th>x</th>\n",
       "      <th>y</th>\n",
       "    </tr>\n",
       "  </thead>\n",
       "  <tbody>\n",
       "    <tr>\n",
       "      <th>0</th>\n",
       "      <td>292</td>\n",
       "      <td>745</td>\n",
       "      <td>1418</td>\n",
       "    </tr>\n",
       "    <tr>\n",
       "      <th>1</th>\n",
       "      <td>292</td>\n",
       "      <td>767</td>\n",
       "      <td>1423</td>\n",
       "    </tr>\n",
       "    <tr>\n",
       "      <th>2</th>\n",
       "      <td>293</td>\n",
       "      <td>743</td>\n",
       "      <td>1425</td>\n",
       "    </tr>\n",
       "    <tr>\n",
       "      <th>3</th>\n",
       "      <td>293</td>\n",
       "      <td>772</td>\n",
       "      <td>1428</td>\n",
       "    </tr>\n",
       "  </tbody>\n",
       "</table>\n",
       "</div>"
      ],
      "text/plain": [
       "     t    x     y\n",
       "0  292  745  1418\n",
       "1  292  767  1423\n",
       "2  293  743  1425\n",
       "3  293  772  1428"
      ]
     },
     "execution_count": 54,
     "metadata": {},
     "output_type": "execute_result"
    }
   ],
   "source": [
    "swapPoints = viewer.layers['swapPoints'].data.astype(int)\n",
    "swapPoints = pd.DataFrame(swapPoints,columns=['t','x','y'])\n",
    "swapPoints"
   ]
  },
  {
   "cell_type": "code",
   "execution_count": 55,
   "id": "38e2f793",
   "metadata": {},
   "outputs": [],
   "source": [
    "myTracks = []\n",
    "for ind,myPoint in swapPoints.iterrows():\n",
    "\n",
    "    myTracks.append(inProgressTracks[tuple(myPoint)])\n",
    "    swapPoints.loc[ind,'track'] = myTrackNum"
   ]
  },
  {
   "cell_type": "code",
   "execution_count": 56,
   "id": "7a0eaf71",
   "metadata": {},
   "outputs": [
    {
     "data": {
      "text/html": [
       "<div>\n",
       "<style scoped>\n",
       "    .dataframe tbody tr th:only-of-type {\n",
       "        vertical-align: middle;\n",
       "    }\n",
       "\n",
       "    .dataframe tbody tr th {\n",
       "        vertical-align: top;\n",
       "    }\n",
       "\n",
       "    .dataframe thead th {\n",
       "        text-align: right;\n",
       "    }\n",
       "</style>\n",
       "<table border=\"1\" class=\"dataframe\">\n",
       "  <thead>\n",
       "    <tr style=\"text-align: right;\">\n",
       "      <th></th>\n",
       "      <th>t</th>\n",
       "      <th>x</th>\n",
       "      <th>y</th>\n",
       "      <th>track</th>\n",
       "    </tr>\n",
       "  </thead>\n",
       "  <tbody>\n",
       "    <tr>\n",
       "      <th>0</th>\n",
       "      <td>292</td>\n",
       "      <td>745</td>\n",
       "      <td>1418</td>\n",
       "      <td>132.0</td>\n",
       "    </tr>\n",
       "    <tr>\n",
       "      <th>1</th>\n",
       "      <td>292</td>\n",
       "      <td>767</td>\n",
       "      <td>1423</td>\n",
       "      <td>1365.0</td>\n",
       "    </tr>\n",
       "    <tr>\n",
       "      <th>2</th>\n",
       "      <td>293</td>\n",
       "      <td>743</td>\n",
       "      <td>1425</td>\n",
       "      <td>1365.0</td>\n",
       "    </tr>\n",
       "    <tr>\n",
       "      <th>3</th>\n",
       "      <td>293</td>\n",
       "      <td>772</td>\n",
       "      <td>1428</td>\n",
       "      <td>132.0</td>\n",
       "    </tr>\n",
       "  </tbody>\n",
       "</table>\n",
       "</div>"
      ],
      "text/plain": [
       "     t    x     y   track\n",
       "0  292  745  1418   132.0\n",
       "1  292  767  1423  1365.0\n",
       "2  293  743  1425  1365.0\n",
       "3  293  772  1428   132.0"
      ]
     },
     "execution_count": 56,
     "metadata": {},
     "output_type": "execute_result"
    }
   ],
   "source": [
    "swapPoints"
   ]
  },
  {
   "cell_type": "code",
   "execution_count": 57,
   "id": "2d084624",
   "metadata": {},
   "outputs": [],
   "source": [
    "frame_change = 293\n",
    "track_1 = 132\n",
    "track_2 = 1365"
   ]
  },
  {
   "cell_type": "code",
   "execution_count": 58,
   "id": "dcddef9f",
   "metadata": {},
   "outputs": [],
   "source": [
    "inProgressTracks[frame_change:,:,:][inProgressTracks[frame_change:,:,:]==track_1]=4095\n",
    "inProgressTracks[frame_change:,:,:][inProgressTracks[frame_change:,:,:]==track_2]=track_1\n",
    "inProgressTracks[frame_change:,:,:][inProgressTracks[frame_change:,:,:]==4095]=track_2"
   ]
  },
  {
   "cell_type": "code",
   "execution_count": 59,
   "id": "99316abe",
   "metadata": {},
   "outputs": [
    {
     "data": {
      "text/plain": [
       "<Labels layer 'swapped' at 0x28428749b48>"
      ]
     },
     "execution_count": 59,
     "metadata": {},
     "output_type": "execute_result"
    }
   ],
   "source": [
    "viewer.add_labels(inProgressTracks,opacity = 0.5,name='swapped')"
   ]
  },
  {
   "cell_type": "code",
   "execution_count": null,
   "id": "18629b49",
   "metadata": {},
   "outputs": [],
   "source": [
    "viewer.layers.pop(4)"
   ]
  },
  {
   "cell_type": "markdown",
   "id": "49f42200",
   "metadata": {},
   "source": [
    "## Save label data"
   ]
  },
  {
   "cell_type": "code",
   "execution_count": 60,
   "id": "3372e460",
   "metadata": {},
   "outputs": [
    {
     "data": {
      "text/plain": [
       "(426, 1946, 1946)"
      ]
     },
     "execution_count": 60,
     "metadata": {},
     "output_type": "execute_result"
    }
   ],
   "source": [
    "inProgressTracks = viewer.layers['swapped'].data\n",
    "acceptedTracks = viewer.layers['acceptedStack'].data\n",
    "\n",
    "myLabels = inProgressTracks + acceptedTracks\n",
    "myLabels.shape"
   ]
  },
  {
   "cell_type": "code",
   "execution_count": 61,
   "id": "85db3691",
   "metadata": {},
   "outputs": [
    {
     "name": "stdout",
     "output_type": "stream",
     "text": [
      "Wall time: 17.6 s\n"
     ]
    }
   ],
   "source": [
    "%%time\n",
    "\n",
    "for j in range(startFrame,stopFrame):\n",
    "        \n",
    "    imsave(os.path.join(myDirTracks,myFile.replace('.tif',f'_{str(j).zfill(3)}_track.tif')),myLabels[j].astype('uint16'))"
   ]
  },
  {
   "cell_type": "markdown",
   "id": "8d850791",
   "metadata": {},
   "source": [
    "## Calculate regionprops for modified frames"
   ]
  },
  {
   "cell_type": "code",
   "execution_count": null,
   "id": "74994b8a",
   "metadata": {},
   "outputs": [],
   "source": []
  },
  {
   "cell_type": "markdown",
   "id": "e7e1a951",
   "metadata": {},
   "source": [
    "## Recalculate tracking"
   ]
  },
  {
   "cell_type": "code",
   "execution_count": 54,
   "id": "408c5aa2",
   "metadata": {},
   "outputs": [
    {
     "name": "stderr",
     "output_type": "stream",
     "text": [
      "[INFO][2021/05/24 05:04:20 PM] Localizing objects from segmentation...\n",
      "[INFO][2021/05/24 05:05:49 PM] Objects are of type: <class 'dict'>\n",
      "[INFO][2021/05/24 05:05:52 PM] ...Found 191312 objects in 426 frames.\n"
     ]
    }
   ],
   "source": [
    "objects = btrack.utils.segmentation_to_objects(inProgressTracks, properties=('area', 'major_axis_length','minor_axis_length'))"
   ]
  },
  {
   "cell_type": "code",
   "execution_count": 55,
   "id": "e0d7b565",
   "metadata": {},
   "outputs": [
    {
     "name": "stderr",
     "output_type": "stream",
     "text": [
      "[INFO][2021/05/24 05:05:52 PM] Loaded btrack: C:\\ProgramData\\Anaconda3\\envs\\cellpose\\lib\\site-packages\\btrack\\libs\\libtracker.DLL\n",
      "[INFO][2021/05/24 05:05:52 PM] btrack (v0.4.1) library imported\n",
      "[INFO][2021/05/24 05:05:52 PM] Setting max XYZ search radius to: 100\n",
      "[INFO][2021/05/24 05:05:52 PM] Starting BayesianTracker session\n",
      "[INFO][2021/05/24 05:05:52 PM] Loading configuration file: D:\\BARC\\Sonja_2021\\b_track\\cell_config.json\n",
      "[INFO][2021/05/24 05:05:52 PM] Loading motion model: b'cell_motion'\n",
      "[INFO][2021/05/24 05:05:52 PM] Objects are of type: <class 'list'>\n",
      "[INFO][2021/05/24 05:05:52 PM] Set volume to ((0, 1946), (0, 1946), (-100000.0, 100000.0))\n",
      "[INFO][2021/05/24 05:05:52 PM] Starting tracking... \n",
      "[INFO][2021/05/24 05:05:52 PM] Tracking objects in frames 0 to 99 (of 426)...\n",
      "[INFO][2021/05/24 05:05:58 PM]  - Timing (Bayesian updates: 82.00ms, Linking: 3.00ms)\n",
      "[INFO][2021/05/24 05:05:58 PM]  - Probabilities (Link: 1.00000, Lost: 1.00000)\n",
      "[INFO][2021/05/24 05:05:58 PM]  - Stats (Active: 356, Lost: 3479, Conflicts resolved: 1221)\n",
      "[INFO][2021/05/24 05:05:58 PM] Tracking objects in frames 100 to 199 (of 426)...\n",
      "[INFO][2021/05/24 05:06:10 PM]  - Timing (Bayesian updates: 166.00ms, Linking: 4.00ms)\n",
      "[INFO][2021/05/24 05:06:10 PM]  - Probabilities (Link: 0.99989, Lost: 0.98421)\n",
      "[INFO][2021/05/24 05:06:10 PM]  - Stats (Active: 492, Lost: 6309, Conflicts resolved: 2407)\n",
      "[INFO][2021/05/24 05:06:10 PM] Tracking objects in frames 200 to 299 (of 426)...\n",
      "[INFO][2021/05/24 05:06:32 PM]  - Timing (Bayesian updates: 257.00ms, Linking: 5.00ms)\n",
      "[INFO][2021/05/24 05:06:32 PM]  - Probabilities (Link: 0.99999, Lost: 1.00000)\n",
      "[INFO][2021/05/24 05:06:32 PM]  - Stats (Active: 607, Lost: 10696, Conflicts resolved: 4453)\n",
      "[INFO][2021/05/24 05:06:32 PM] Tracking objects in frames 300 to 399 (of 426)...\n",
      "[INFO][2021/05/24 05:07:02 PM]  - Timing (Bayesian updates: 335.00ms, Linking: 8.00ms)\n",
      "[INFO][2021/05/24 05:07:02 PM]  - Probabilities (Link: 1.00000, Lost: 1.00000)\n",
      "[INFO][2021/05/24 05:07:02 PM]  - Stats (Active: 667, Lost: 13275, Conflicts resolved: 5764)\n",
      "[INFO][2021/05/24 05:07:02 PM] Tracking objects in frames 400 to 426 (of 426)...\n",
      "[INFO][2021/05/24 05:07:11 PM]  - Timing (Bayesian updates: 344.00ms, Linking: 5.00ms)\n",
      "[INFO][2021/05/24 05:07:11 PM]  - Probabilities (Link: 1.00000, Lost: 0.55926)\n",
      "[INFO][2021/05/24 05:07:11 PM] SUCCESS.\n",
      "[INFO][2021/05/24 05:07:11 PM]  - Found 3963 tracks in 426 frames (in 0.0s)\n",
      "[INFO][2021/05/24 05:07:11 PM]  - Inserted 1712 dummy objects to fill tracking gaps\n",
      "[INFO][2021/05/24 05:07:11 PM] Loading hypothesis model: cell_hypothesis\n",
      "[INFO][2021/05/24 05:07:11 PM] Calculating hypotheses (relax: True)...\n",
      "[INFO][2021/05/24 05:07:11 PM] Setting up constraints matrix for global optimisation...\n",
      "[INFO][2021/05/24 05:07:11 PM] Optimizing...\n",
      "[INFO][2021/05/24 05:07:12 PM] Optimization complete. (Solution: optimal)\n",
      "[INFO][2021/05/24 05:07:12 PM]  - Fates.FALSE_POSITIVE: 519 (of 3963)\n",
      "[INFO][2021/05/24 05:07:12 PM]  - Fates.LINK: 1732 (of 2124)\n",
      "[INFO][2021/05/24 05:07:12 PM]  - Fates.DIVIDE: 92 (of 163)\n",
      "[INFO][2021/05/24 05:07:12 PM]  - Fates.INITIALIZE_BORDER: 871 (of 1064)\n",
      "[INFO][2021/05/24 05:07:12 PM]  - Fates.INITIALIZE_FRONT: 188 (of 217)\n",
      "[INFO][2021/05/24 05:07:12 PM]  - Fates.INITIALIZE_LAZY: 469 (of 2682)\n",
      "[INFO][2021/05/24 05:07:12 PM]  - Fates.TERMINATE_BORDER: 603 (of 798)\n",
      "[INFO][2021/05/24 05:07:12 PM]  - Fates.TERMINATE_BACK: 658 (of 667)\n",
      "[INFO][2021/05/24 05:07:12 PM]  - Fates.TERMINATE_LAZY: 359 (of 2498)\n",
      "[INFO][2021/05/24 05:07:12 PM]  - TOTAL: 14176 hypotheses\n",
      "[INFO][2021/05/24 05:07:12 PM] Completed optimization with 2231 tracks\n",
      "[INFO][2021/05/24 05:07:12 PM] Opening HDF file: D:\\BARC\\Martha_2021\\Martha_tracks_mod.h5...\n",
      "[INFO][2021/05/24 05:07:13 PM] Writing tracks/obj_type_1\n",
      "[WARNING][2021/05/24 05:07:13 PM] Removing tracks/obj_type_1.\n",
      "[INFO][2021/05/24 05:07:13 PM] Writing dummies/obj_type_1\n",
      "[INFO][2021/05/24 05:07:13 PM] Writing LBEP/obj_type_1\n",
      "[INFO][2021/05/24 05:07:13 PM] Writing fates/obj_type_1\n",
      "[INFO][2021/05/24 05:07:13 PM] Closing HDF file: D:\\BARC\\Martha_2021\\Martha_tracks_mod.h5\n",
      "[INFO][2021/05/24 05:07:15 PM] Ending BayesianTracker session\n"
     ]
    }
   ],
   "source": [
    "# initialise a tracker session using a context manager\n",
    "with btrack.BayesianTracker() as tracker:\n",
    "\n",
    "  # configure the tracker using a config file\n",
    "  tracker.configure_from_file(modelPath)\n",
    "\n",
    "  # append the objects to be tracked\n",
    "  tracker.append(objects)\n",
    "\n",
    "  # set the volume (Z axis volume is set very large for 2D data)\n",
    "  tracker.volume=((0, inProgressTracks.shape[1]), (0, inProgressTracks.shape[2]), (-1e5, 1e5))\n",
    "\n",
    "  # track them (in interactive mode)\n",
    "  tracker.track_interactive(step_size=100)\n",
    "\n",
    "  # generate hypotheses and run the global optimizer\n",
    "  tracker.optimize()\n",
    "\n",
    "  # store the data in an HDF5 file\n",
    "  tracker.export(btrack_mod_path, obj_type='obj_type_1')\n",
    "\n",
    "  # get the tracks as a python list\n",
    "  tracks = tracker.tracks\n",
    "\n",
    "  # optional: get the data in a format for napari\n",
    "  data, properties, graph = tracker.to_napari(ndim=2)"
   ]
  },
  {
   "cell_type": "code",
   "execution_count": 51,
   "id": "1856a71e",
   "metadata": {},
   "outputs": [],
   "source": [
    "# build tracking from accepted data\n",
    "# how to build generation, root, parent data"
   ]
  },
  {
   "cell_type": "code",
   "execution_count": 56,
   "id": "0a328b90",
   "metadata": {},
   "outputs": [
    {
     "data": {
      "text/plain": [
       "2"
      ]
     },
     "execution_count": 56,
     "metadata": {},
     "output_type": "execute_result"
    }
   ],
   "source": [
    "np.max(properties['generation'])"
   ]
  },
  {
   "cell_type": "code",
   "execution_count": 48,
   "id": "06b400d4",
   "metadata": {},
   "outputs": [
    {
     "name": "stderr",
     "output_type": "stream",
     "text": [
      "[INFO][2021/05/24 04:57:34 PM] Localizing objects from segmentation...\n",
      "[INFO][2021/05/24 04:57:46 PM] Objects are of type: <class 'dict'>\n",
      "[INFO][2021/05/24 04:57:46 PM] ...Found 852 objects in 426 frames.\n"
     ]
    }
   ],
   "source": [
    "\n",
    "\n",
    "objects = btrack.utils.segmentation_to_objects(acceptedTracks, properties=('area', 'major_axis_length','minor_axis_length'))"
   ]
  },
  {
   "cell_type": "code",
   "execution_count": 49,
   "id": "ccf3b6f7",
   "metadata": {},
   "outputs": [
    {
     "name": "stderr",
     "output_type": "stream",
     "text": [
      "[INFO][2021/05/24 04:58:38 PM] Loaded btrack: C:\\ProgramData\\Anaconda3\\envs\\cellpose\\lib\\site-packages\\btrack\\libs\\libtracker.DLL\n",
      "[INFO][2021/05/24 04:58:38 PM] btrack (v0.4.1) library imported\n",
      "[INFO][2021/05/24 04:58:38 PM] Setting max XYZ search radius to: 100\n",
      "[INFO][2021/05/24 04:58:38 PM] Starting BayesianTracker session\n",
      "[INFO][2021/05/24 04:58:38 PM] Loading configuration file: D:\\BARC\\Sonja_2021\\b_track\\cell_config.json\n",
      "[INFO][2021/05/24 04:58:38 PM] Loading motion model: b'cell_motion'\n",
      "[INFO][2021/05/24 04:58:38 PM] Objects are of type: <class 'list'>\n",
      "[INFO][2021/05/24 04:58:38 PM] Set volume to ((0, 1946), (0, 1946), (-100000.0, 100000.0))\n",
      "[INFO][2021/05/24 04:58:38 PM] Starting tracking... \n",
      "[INFO][2021/05/24 04:58:38 PM] Tracking objects in frames 0 to 99 (of 426)...\n",
      "[INFO][2021/05/24 04:58:38 PM]  - Timing (Bayesian updates: 0.00ms, Linking: 0.00ms)\n",
      "[INFO][2021/05/24 04:58:38 PM]  - Probabilities (Link: 1.00000, Lost: 0.94720)\n",
      "[INFO][2021/05/24 04:58:38 PM]  - Stats (Active: 2, Lost: 8, Conflicts resolved: 4)\n",
      "[INFO][2021/05/24 04:58:38 PM] Tracking objects in frames 100 to 199 (of 426)...\n",
      "[INFO][2021/05/24 04:58:38 PM]  - Timing (Bayesian updates: 0.00ms, Linking: 0.00ms)\n",
      "[INFO][2021/05/24 04:58:38 PM]  - Probabilities (Link: 0.99998, Lost: 0.93948)\n",
      "[INFO][2021/05/24 04:58:38 PM]  - Stats (Active: 2, Lost: 16, Conflicts resolved: 8)\n",
      "[INFO][2021/05/24 04:58:38 PM] Tracking objects in frames 200 to 299 (of 426)...\n",
      "[INFO][2021/05/24 04:58:38 PM]  - Timing (Bayesian updates: 1.00ms, Linking: 0.00ms)\n",
      "[INFO][2021/05/24 04:58:38 PM]  - Probabilities (Link: 0.99995, Lost: 0.94455)\n",
      "[INFO][2021/05/24 04:58:38 PM]  - Stats (Active: 2, Lost: 24, Conflicts resolved: 12)\n",
      "[INFO][2021/05/24 04:58:38 PM] Tracking objects in frames 300 to 399 (of 426)...\n",
      "[INFO][2021/05/24 04:58:38 PM]  - Timing (Bayesian updates: 0.00ms, Linking: 0.00ms)\n",
      "[INFO][2021/05/24 04:58:38 PM]  - Probabilities (Link: 1.00000, Lost: 0.94455)\n",
      "[INFO][2021/05/24 04:58:38 PM]  - Stats (Active: 2, Lost: 24, Conflicts resolved: 12)\n",
      "[INFO][2021/05/24 04:58:38 PM] Tracking objects in frames 400 to 426 (of 426)...\n",
      "[INFO][2021/05/24 04:58:38 PM]  - Timing (Bayesian updates: 0.00ms, Linking: 0.00ms)\n",
      "[INFO][2021/05/24 04:58:38 PM]  - Probabilities (Link: 1.00000, Lost: 1.00000)\n",
      "[INFO][2021/05/24 04:58:38 PM] SUCCESS.\n",
      "[INFO][2021/05/24 04:58:38 PM]  - Found 8 tracks in 426 frames (in 0.0s)\n",
      "[INFO][2021/05/24 04:58:38 PM]  - Inserted 0 dummy objects to fill tracking gaps\n",
      "[INFO][2021/05/24 04:58:38 PM] Loading hypothesis model: cell_hypothesis\n",
      "[INFO][2021/05/24 04:58:38 PM] Calculating hypotheses (relax: True)...\n",
      "[INFO][2021/05/24 04:58:38 PM] Setting up constraints matrix for global optimisation...\n",
      "[INFO][2021/05/24 04:58:38 PM] Optimizing...\n",
      "[INFO][2021/05/24 04:58:38 PM] Optimization complete. (Solution: optimal)\n",
      "[INFO][2021/05/24 04:58:38 PM]  - Fates.FALSE_POSITIVE: 0 (of 8)\n",
      "[INFO][2021/05/24 04:58:38 PM]  - Fates.LINK: 6 (of 6)\n",
      "[INFO][2021/05/24 04:58:38 PM]  - Fates.INITIALIZE_FRONT: 2 (of 2)\n",
      "[INFO][2021/05/24 04:58:38 PM]  - Fates.INITIALIZE_LAZY: 0 (of 6)\n",
      "[INFO][2021/05/24 04:58:38 PM]  - Fates.TERMINATE_BACK: 2 (of 2)\n",
      "[INFO][2021/05/24 04:58:38 PM]  - Fates.TERMINATE_LAZY: 0 (of 6)\n",
      "[INFO][2021/05/24 04:58:38 PM]  - TOTAL: 30 hypotheses\n",
      "[INFO][2021/05/24 04:58:38 PM] Completed optimization with 2 tracks\n",
      "[INFO][2021/05/24 04:58:38 PM] Ending BayesianTracker session\n"
     ]
    }
   ],
   "source": [
    "# initialise a tracker session using a context manager\n",
    "with btrack.BayesianTracker() as tracker:\n",
    "\n",
    "  # configure the tracker using a config file\n",
    "  tracker.configure_from_file(modelPath)\n",
    "\n",
    "  # append the objects to be tracked\n",
    "  tracker.append(objects)\n",
    "\n",
    "  # set the volume (Z axis volume is set very large for 2D data)\n",
    "  tracker.volume=((0, acceptedTracks.shape[1]), (0, acceptedTracks.shape[2]), (-1e5, 1e5))\n",
    "\n",
    "  # track them (in interactive mode)\n",
    "  tracker.track_interactive(step_size=100)\n",
    "\n",
    "  # generate hypotheses and run the global optimizer\n",
    "  tracker.optimize()\n",
    "\n",
    "  # optional: get the data in a format for napari\n",
    "  data_acc, properties_acc, graph_acc = tracker.to_napari(ndim=2)"
   ]
  },
  {
   "cell_type": "code",
   "execution_count": 19,
   "id": "5e98f6a5",
   "metadata": {},
   "outputs": [],
   "source": [
    "with open(btrack_mod_path.replace('h5','pkl'),'wb') as f:\n",
    "    pickle.dump([data,properties,graph],f)"
   ]
  },
  {
   "cell_type": "code",
   "execution_count": 45,
   "id": "c476c23d",
   "metadata": {},
   "outputs": [
    {
     "data": {
      "text/plain": [
       "193023"
      ]
     },
     "execution_count": 45,
     "metadata": {},
     "output_type": "execute_result"
    }
   ],
   "source": [
    "np.sum(properties['t']==data[:,1])"
   ]
  },
  {
   "cell_type": "code",
   "execution_count": 47,
   "id": "d5d56bf7",
   "metadata": {},
   "outputs": [
    {
     "data": {
      "text/plain": [
       "{'t': array([  0,   1,   2, ..., 425, 425, 425]),\n",
       " 'state': array([5, 5, 5, ..., 5, 5, 5]),\n",
       " 'generation': array([0, 0, 0, ..., 0, 0, 0]),\n",
       " 'root': array([   1,    1,    1, ..., 3960, 3961, 3962]),\n",
       " 'parent': array([   1,    1,    1, ..., 3960, 3961, 3962]),\n",
       " 'major_axis_length': array([35.47797919, 35.07999452, 37.50516787, ..., 16.59471649,\n",
       "        38.55793435, 15.47378568]),\n",
       " 'area': array([748., 736., 805., ..., 104., 632., 130.]),\n",
       " 'minor_axis_length': array([27.19400299, 27.02497758, 27.7785213 , ...,  8.53638228,\n",
       "        21.1229483 , 10.9748531 ])}"
      ]
     },
     "execution_count": 47,
     "metadata": {},
     "output_type": "execute_result"
    }
   ],
   "source": [
    "properties"
   ]
  },
  {
   "cell_type": "code",
   "execution_count": 46,
   "id": "abbb3065",
   "metadata": {},
   "outputs": [
    {
     "data": {
      "text/plain": [
       "(193023,)"
      ]
     },
     "execution_count": 46,
     "metadata": {},
     "output_type": "execute_result"
    }
   ],
   "source": [
    "properties['t'].shape"
   ]
  },
  {
   "cell_type": "code",
   "execution_count": 35,
   "id": "e335ec66",
   "metadata": {},
   "outputs": [
    {
     "data": {
      "text/plain": [
       "array([[   0,  918, 1096]])"
      ]
     },
     "execution_count": 35,
     "metadata": {},
     "output_type": "execute_result"
    }
   ],
   "source": [
    "donePoints = viewer.layers['correct'].data.astype(int)\n",
    "donePoints"
   ]
  },
  {
   "cell_type": "code",
   "execution_count": 29,
   "id": "8ba719fa",
   "metadata": {},
   "outputs": [
    {
     "name": "stdout",
     "output_type": "stream",
     "text": [
      "83\n"
     ]
    }
   ],
   "source": [
    "donePoints = viewer.layers['correct'].data.astype(int)\n",
    "donePoints\n",
    "\n",
    "for myPoint in donePoints:\n",
    "    \n",
    "    # get the track that was marked as done\n",
    "    myTrackNum = inProgressTracks[tuple(myPoint)]\n",
    "    \n",
    "    acceptedTracks[inProgressTracks==myTrackNum]=myTrackNum\n",
    "    inProgressTracks[inProgressTracks==myTrackNum]=0"
   ]
  },
  {
   "cell_type": "code",
   "execution_count": null,
   "id": "b6de40b0",
   "metadata": {},
   "outputs": [],
   "source": [
    "acceptedTracks[inProgressTracks==myTrackNum]=myTrackNum\n",
    "inProgressTracks[inProgressTracks==myTrackNum]=0"
   ]
  },
  {
   "cell_type": "code",
   "execution_count": 27,
   "id": "eb5f236f",
   "metadata": {},
   "outputs": [
    {
     "data": {
      "text/plain": [
       "(426, 1946, 1946)"
      ]
     },
     "execution_count": 27,
     "metadata": {},
     "output_type": "execute_result"
    }
   ],
   "source": [
    "# get modified labels\n",
    "inProgressTracks = viewer.layers['inProgressStack'].data.astype('uint16')\n",
    "inProgressTracks.shape"
   ]
  },
  {
   "cell_type": "code",
   "execution_count": 28,
   "id": "ef25cec7",
   "metadata": {},
   "outputs": [
    {
     "ename": "KeyError",
     "evalue": "\"'acceptedStack' is not in list\"",
     "output_type": "error",
     "traceback": [
      "\u001b[1;31m---------------------------------------------------------------------------\u001b[0m",
      "\u001b[1;31mValueError\u001b[0m                                Traceback (most recent call last)",
      "\u001b[1;32mC:\\ProgramData\\Anaconda3\\envs\\cellpose\\lib\\site-packages\\napari\\utils\\events\\containers\\_typed.py\u001b[0m in \u001b[0;36m__getitem__\u001b[1;34m(self, key)\u001b[0m\n\u001b[0;32m    137\u001b[0m             \u001b[1;32mtry\u001b[0m\u001b[1;33m:\u001b[0m\u001b[1;33m\u001b[0m\u001b[1;33m\u001b[0m\u001b[0m\n\u001b[1;32m--> 138\u001b[1;33m                 \u001b[1;32mreturn\u001b[0m \u001b[0mself\u001b[0m\u001b[1;33m.\u001b[0m\u001b[0m__getitem__\u001b[0m\u001b[1;33m(\u001b[0m\u001b[0mself\u001b[0m\u001b[1;33m.\u001b[0m\u001b[0mindex\u001b[0m\u001b[1;33m(\u001b[0m\u001b[0mkey\u001b[0m\u001b[1;33m)\u001b[0m\u001b[1;33m)\u001b[0m\u001b[1;33m\u001b[0m\u001b[1;33m\u001b[0m\u001b[0m\n\u001b[0m\u001b[0;32m    139\u001b[0m             \u001b[1;32mexcept\u001b[0m \u001b[0mValueError\u001b[0m \u001b[1;32mas\u001b[0m \u001b[0me\u001b[0m\u001b[1;33m:\u001b[0m\u001b[1;33m\u001b[0m\u001b[1;33m\u001b[0m\u001b[0m\n",
      "\u001b[1;32mC:\\ProgramData\\Anaconda3\\envs\\cellpose\\lib\\site-packages\\napari\\utils\\events\\containers\\_typed.py\u001b[0m in \u001b[0;36mindex\u001b[1;34m(self, value, start, stop)\u001b[0m\n\u001b[0;32m    226\u001b[0m \u001b[1;33m\u001b[0m\u001b[0m\n\u001b[1;32m--> 227\u001b[1;33m         \u001b[1;32mraise\u001b[0m \u001b[0mValueError\u001b[0m\u001b[1;33m(\u001b[0m\u001b[1;34mf\"{value!r} is not in list\"\u001b[0m\u001b[1;33m)\u001b[0m\u001b[1;33m\u001b[0m\u001b[1;33m\u001b[0m\u001b[0m\n\u001b[0m\u001b[0;32m    228\u001b[0m \u001b[1;33m\u001b[0m\u001b[0m\n",
      "\u001b[1;31mValueError\u001b[0m: 'acceptedStack' is not in list",
      "\nThe above exception was the direct cause of the following exception:\n",
      "\u001b[1;31mKeyError\u001b[0m                                  Traceback (most recent call last)",
      "\u001b[1;32m<ipython-input-28-12fbe69cf973>\u001b[0m in \u001b[0;36m<module>\u001b[1;34m\u001b[0m\n\u001b[0;32m      1\u001b[0m \u001b[1;31m# get modified labels\u001b[0m\u001b[1;33m\u001b[0m\u001b[1;33m\u001b[0m\u001b[1;33m\u001b[0m\u001b[0m\n\u001b[1;32m----> 2\u001b[1;33m \u001b[0macceptedTracks\u001b[0m \u001b[1;33m=\u001b[0m \u001b[0mviewer\u001b[0m\u001b[1;33m.\u001b[0m\u001b[0mlayers\u001b[0m\u001b[1;33m[\u001b[0m\u001b[1;34m'acceptedStack'\u001b[0m\u001b[1;33m]\u001b[0m\u001b[1;33m.\u001b[0m\u001b[0mdata\u001b[0m\u001b[1;33m.\u001b[0m\u001b[0mastype\u001b[0m\u001b[1;33m(\u001b[0m\u001b[1;34m'uint16'\u001b[0m\u001b[1;33m)\u001b[0m\u001b[1;33m\u001b[0m\u001b[1;33m\u001b[0m\u001b[0m\n\u001b[0m\u001b[0;32m      3\u001b[0m \u001b[0macceptedTracks\u001b[0m\u001b[1;33m.\u001b[0m\u001b[0mshape\u001b[0m\u001b[1;33m\u001b[0m\u001b[1;33m\u001b[0m\u001b[0m\n",
      "\u001b[1;32mC:\\ProgramData\\Anaconda3\\envs\\cellpose\\lib\\site-packages\\napari\\utils\\events\\containers\\_typed.py\u001b[0m in \u001b[0;36m__getitem__\u001b[1;34m(self, key)\u001b[0m\n\u001b[0;32m    138\u001b[0m                 \u001b[1;32mreturn\u001b[0m \u001b[0mself\u001b[0m\u001b[1;33m.\u001b[0m\u001b[0m__getitem__\u001b[0m\u001b[1;33m(\u001b[0m\u001b[0mself\u001b[0m\u001b[1;33m.\u001b[0m\u001b[0mindex\u001b[0m\u001b[1;33m(\u001b[0m\u001b[0mkey\u001b[0m\u001b[1;33m)\u001b[0m\u001b[1;33m)\u001b[0m\u001b[1;33m\u001b[0m\u001b[1;33m\u001b[0m\u001b[0m\n\u001b[0;32m    139\u001b[0m             \u001b[1;32mexcept\u001b[0m \u001b[0mValueError\u001b[0m \u001b[1;32mas\u001b[0m \u001b[0me\u001b[0m\u001b[1;33m:\u001b[0m\u001b[1;33m\u001b[0m\u001b[1;33m\u001b[0m\u001b[0m\n\u001b[1;32m--> 140\u001b[1;33m                 \u001b[1;32mraise\u001b[0m \u001b[0mKeyError\u001b[0m\u001b[1;33m(\u001b[0m\u001b[0mstr\u001b[0m\u001b[1;33m(\u001b[0m\u001b[0me\u001b[0m\u001b[1;33m)\u001b[0m\u001b[1;33m)\u001b[0m \u001b[1;32mfrom\u001b[0m \u001b[0me\u001b[0m\u001b[1;33m\u001b[0m\u001b[1;33m\u001b[0m\u001b[0m\n\u001b[0m\u001b[0;32m    141\u001b[0m \u001b[1;33m\u001b[0m\u001b[0m\n\u001b[0;32m    142\u001b[0m         \u001b[0mresult\u001b[0m \u001b[1;33m=\u001b[0m \u001b[0mself\u001b[0m\u001b[1;33m.\u001b[0m\u001b[0m_list\u001b[0m\u001b[1;33m[\u001b[0m\u001b[0mkey\u001b[0m\u001b[1;33m]\u001b[0m\u001b[1;33m\u001b[0m\u001b[1;33m\u001b[0m\u001b[0m\n",
      "\u001b[1;31mKeyError\u001b[0m: \"'acceptedStack' is not in list\""
     ]
    }
   ],
   "source": [
    "# get modified labels\n",
    "acceptedTracks = viewer.layers['acceptedStack'].data.astype('uint16')\n",
    "acceptedTracks.shape"
   ]
  },
  {
   "cell_type": "markdown",
   "id": "acf28668",
   "metadata": {},
   "source": [
    "Here you can maybe do it smarter and recalculate only if there was a change."
   ]
  },
  {
   "cell_type": "code",
   "execution_count": 73,
   "id": "bf5af7db",
   "metadata": {},
   "outputs": [
    {
     "name": "stdout",
     "output_type": "stream",
     "text": [
      "Wall time: 1min 31s\n"
     ]
    }
   ],
   "source": [
    "%%time\n",
    "\n",
    "# settings for properties to calculate\n",
    "regionProperties = ['label', 'area','centroid','major_axis_length','minor_axis_length','bbox','image']\n",
    "\n",
    "cellDataList=[]\n",
    "\n",
    "i=startFrame\n",
    "for labels_2D in inProgressTracks:\n",
    "\n",
    "    # calculate properties of regions\n",
    "    cellData = pd.DataFrame(measure.regionprops_table(labels_2D, properties=regionProperties))\n",
    "\n",
    "    # add info of these measurements\n",
    "    cellData['t'] = i\n",
    "\n",
    "    cellDataList.append(cellData)\n",
    "    i = i + 1\n",
    "\n",
    "# put all together\n",
    "cellDataAll = pd.concat(cellDataList,ignore_index=True)"
   ]
  },
  {
   "cell_type": "code",
   "execution_count": 74,
   "id": "4b40bff9",
   "metadata": {},
   "outputs": [
    {
     "data": {
      "text/html": [
       "<div>\n",
       "<style scoped>\n",
       "    .dataframe tbody tr th:only-of-type {\n",
       "        vertical-align: middle;\n",
       "    }\n",
       "\n",
       "    .dataframe tbody tr th {\n",
       "        vertical-align: top;\n",
       "    }\n",
       "\n",
       "    .dataframe thead th {\n",
       "        text-align: right;\n",
       "    }\n",
       "</style>\n",
       "<table border=\"1\" class=\"dataframe\">\n",
       "  <thead>\n",
       "    <tr style=\"text-align: right;\">\n",
       "      <th></th>\n",
       "      <th>label</th>\n",
       "      <th>area</th>\n",
       "      <th>centroid-0</th>\n",
       "      <th>centroid-1</th>\n",
       "      <th>major_axis_length</th>\n",
       "      <th>minor_axis_length</th>\n",
       "      <th>bbox-0</th>\n",
       "      <th>bbox-1</th>\n",
       "      <th>bbox-2</th>\n",
       "      <th>bbox-3</th>\n",
       "      <th>image</th>\n",
       "      <th>t</th>\n",
       "      <th>x</th>\n",
       "      <th>y</th>\n",
       "    </tr>\n",
       "  </thead>\n",
       "  <tbody>\n",
       "    <tr>\n",
       "      <th>0</th>\n",
       "      <td>1</td>\n",
       "      <td>594</td>\n",
       "      <td>1136.489899</td>\n",
       "      <td>1389.333333</td>\n",
       "      <td>30.935467</td>\n",
       "      <td>24.647658</td>\n",
       "      <td>1125</td>\n",
       "      <td>1372</td>\n",
       "      <td>1149</td>\n",
       "      <td>1405</td>\n",
       "      <td>[[False, False, False, False, False, False, Fa...</td>\n",
       "      <td>0</td>\n",
       "      <td>1389</td>\n",
       "      <td>1136</td>\n",
       "    </tr>\n",
       "    <tr>\n",
       "      <th>1</th>\n",
       "      <td>2</td>\n",
       "      <td>429</td>\n",
       "      <td>1035.256410</td>\n",
       "      <td>1021.067599</td>\n",
       "      <td>31.773448</td>\n",
       "      <td>18.266324</td>\n",
       "      <td>1026</td>\n",
       "      <td>1010</td>\n",
       "      <td>1050</td>\n",
       "      <td>1036</td>\n",
       "      <td>[[False, False, False, False, False, False, Fa...</td>\n",
       "      <td>0</td>\n",
       "      <td>1021</td>\n",
       "      <td>1035</td>\n",
       "    </tr>\n",
       "    <tr>\n",
       "      <th>2</th>\n",
       "      <td>3</td>\n",
       "      <td>432</td>\n",
       "      <td>1046.462963</td>\n",
       "      <td>374.643519</td>\n",
       "      <td>31.138550</td>\n",
       "      <td>18.234134</td>\n",
       "      <td>1031</td>\n",
       "      <td>365</td>\n",
       "      <td>1062</td>\n",
       "      <td>386</td>\n",
       "      <td>[[False, False, False, False, False, True, Tru...</td>\n",
       "      <td>0</td>\n",
       "      <td>374</td>\n",
       "      <td>1046</td>\n",
       "    </tr>\n",
       "    <tr>\n",
       "      <th>3</th>\n",
       "      <td>4</td>\n",
       "      <td>568</td>\n",
       "      <td>1048.593310</td>\n",
       "      <td>1347.799296</td>\n",
       "      <td>33.461723</td>\n",
       "      <td>22.048148</td>\n",
       "      <td>1036</td>\n",
       "      <td>1332</td>\n",
       "      <td>1062</td>\n",
       "      <td>1363</td>\n",
       "      <td>[[False, False, False, False, False, False, Fa...</td>\n",
       "      <td>0</td>\n",
       "      <td>1347</td>\n",
       "      <td>1048</td>\n",
       "    </tr>\n",
       "    <tr>\n",
       "      <th>4</th>\n",
       "      <td>5</td>\n",
       "      <td>501</td>\n",
       "      <td>1051.788423</td>\n",
       "      <td>956.137725</td>\n",
       "      <td>27.223351</td>\n",
       "      <td>23.667042</td>\n",
       "      <td>1041</td>\n",
       "      <td>944</td>\n",
       "      <td>1064</td>\n",
       "      <td>970</td>\n",
       "      <td>[[False, False, False, False, False, False, Fa...</td>\n",
       "      <td>0</td>\n",
       "      <td>956</td>\n",
       "      <td>1051</td>\n",
       "    </tr>\n",
       "  </tbody>\n",
       "</table>\n",
       "</div>"
      ],
      "text/plain": [
       "   label  area   centroid-0   centroid-1  major_axis_length  \\\n",
       "0      1   594  1136.489899  1389.333333          30.935467   \n",
       "1      2   429  1035.256410  1021.067599          31.773448   \n",
       "2      3   432  1046.462963   374.643519          31.138550   \n",
       "3      4   568  1048.593310  1347.799296          33.461723   \n",
       "4      5   501  1051.788423   956.137725          27.223351   \n",
       "\n",
       "   minor_axis_length  bbox-0  bbox-1  bbox-2  bbox-3  \\\n",
       "0          24.647658    1125    1372    1149    1405   \n",
       "1          18.266324    1026    1010    1050    1036   \n",
       "2          18.234134    1031     365    1062     386   \n",
       "3          22.048148    1036    1332    1062    1363   \n",
       "4          23.667042    1041     944    1064     970   \n",
       "\n",
       "                                               image  t     x     y  \n",
       "0  [[False, False, False, False, False, False, Fa...  0  1389  1136  \n",
       "1  [[False, False, False, False, False, False, Fa...  0  1021  1035  \n",
       "2  [[False, False, False, False, False, True, Tru...  0   374  1046  \n",
       "3  [[False, False, False, False, False, False, Fa...  0  1347  1048  \n",
       "4  [[False, False, False, False, False, False, Fa...  0   956  1051  "
      ]
     },
     "execution_count": 74,
     "metadata": {},
     "output_type": "execute_result"
    }
   ],
   "source": [
    "cellDataAll['x']=cellDataAll['centroid-1'].astype(int)\n",
    "cellDataAll['y']=cellDataAll['centroid-0'].astype(int)\n",
    "cellDataAll.head()"
   ]
  },
  {
   "cell_type": "code",
   "execution_count": 64,
   "id": "6492a18c",
   "metadata": {},
   "outputs": [],
   "source": [
    "for myPoint in donePoints:\n",
    "    \n",
    "    # get the track that was marked as done\n",
    "    myTrackNum = modTracks[tuple(myPoint)]\n",
    "    \n",
    "    #myTrack = tracks[[x.ID for x in tracks].index(myTrackNum)]\n",
    "    \n",
    "    # check if it has a mito mark and don't label as 'done' beyond this point\n",
    "    \n",
    "    cellDataAll.loc[cellDataAll.label == myTrackNum,'done']=True"
   ]
  },
  {
   "cell_type": "code",
   "execution_count": null,
   "id": "907ed723",
   "metadata": {},
   "outputs": [],
   "source": [
    "# find labels with mito mark\n"
   ]
  },
  {
   "cell_type": "code",
   "execution_count": 65,
   "id": "a6e45469",
   "metadata": {},
   "outputs": [
    {
     "data": {
      "text/plain": [
       "426"
      ]
     },
     "execution_count": 65,
     "metadata": {},
     "output_type": "execute_result"
    }
   ],
   "source": [
    "np.sum(cellDataAll.done==True)"
   ]
  },
  {
   "cell_type": "code",
   "execution_count": 66,
   "id": "c260f261",
   "metadata": {},
   "outputs": [],
   "source": [
    "allData = cellDataAll.copy()"
   ]
  },
  {
   "cell_type": "markdown",
   "id": "f012045f",
   "metadata": {},
   "source": [
    "## Reconstruct accepted and work in progress"
   ]
  },
  {
   "cell_type": "code",
   "execution_count": 67,
   "id": "2359f063",
   "metadata": {},
   "outputs": [
    {
     "name": "stdout",
     "output_type": "stream",
     "text": [
      "Wall time: 8.66 s\n"
     ]
    },
    {
     "data": {
      "text/plain": [
       "(426, 1946, 1946)"
      ]
     },
     "execution_count": 67,
     "metadata": {},
     "output_type": "execute_result"
    }
   ],
   "source": [
    "%%time\n",
    "\n",
    "acceptedStack=[]\n",
    "for i in range(stopFrame):\n",
    "    \n",
    "    # choose data from this frame\n",
    "    selData = allData.loc[((allData.t==i) & (allData.done == True)),:]\n",
    "    \n",
    "    # create an empty image\n",
    "    labelImage = np.zeros([myLabels.shape[1],myLabels.shape[2]]).astype('uint16')\n",
    "    \n",
    "    # add objects\n",
    "    for ind,myCell in selData.iterrows():\n",
    "        \n",
    "        min_row = myCell['bbox-0']\n",
    "        max_row = myCell['bbox-2']\n",
    "        min_col = myCell['bbox-1']\n",
    "        max_col = myCell['bbox-3']\n",
    "        \n",
    "        labelImage[min_row:max_row,min_col:max_col]=labelImage[min_row:max_row,min_col:max_col]+(myCell.image*myCell.label)\n",
    "        \n",
    "    acceptedStack.append(labelImage)\n",
    "\n",
    "acceptedStack = np.array(acceptedStack)\n",
    "acceptedStack.shape"
   ]
  },
  {
   "cell_type": "code",
   "execution_count": 68,
   "id": "33258b00",
   "metadata": {},
   "outputs": [],
   "source": [
    "acceptedStack = acceptedStack + acceptedTracks"
   ]
  },
  {
   "cell_type": "code",
   "execution_count": 69,
   "id": "9d860f31",
   "metadata": {},
   "outputs": [
    {
     "name": "stdout",
     "output_type": "stream",
     "text": [
      "Wall time: 43 s\n"
     ]
    },
    {
     "data": {
      "text/plain": [
       "(426, 1946, 1946)"
      ]
     },
     "execution_count": 69,
     "metadata": {},
     "output_type": "execute_result"
    }
   ],
   "source": [
    "%%time\n",
    "\n",
    "inProgressStack=[]\n",
    "for i in range(stopFrame):\n",
    "    \n",
    "    # choose data from this frame\n",
    "    selData = allData.loc[((allData.t==i) & (allData.done != True)),:]\n",
    "    \n",
    "    # create an empty image\n",
    "    labelImage = np.zeros([myLabels.shape[1],myLabels.shape[2]]).astype('uint16')\n",
    "    \n",
    "    # add objects\n",
    "    for ind,myCell in selData.iterrows():\n",
    "        \n",
    "        min_row = myCell['bbox-0']\n",
    "        max_row = myCell['bbox-2']\n",
    "        min_col = myCell['bbox-1']\n",
    "        max_col = myCell['bbox-3']\n",
    "        \n",
    "        labelImage[min_row:max_row,min_col:max_col]=labelImage[min_row:max_row,min_col:max_col]+(myCell.image*myCell.label)\n",
    "        \n",
    "    inProgressStack.append(labelImage)\n",
    "\n",
    "inProgressStack = np.array(inProgressStack)\n",
    "inProgressStack.shape"
   ]
  },
  {
   "cell_type": "code",
   "execution_count": 70,
   "id": "1e3d13ae",
   "metadata": {},
   "outputs": [
    {
     "data": {
      "text/plain": [
       "<Points layer 'correct' at 0x1cf5db59888>"
      ]
     },
     "execution_count": 70,
     "metadata": {},
     "output_type": "execute_result"
    }
   ],
   "source": [
    "viewer = napari.Viewer()\n",
    "viewer.add_image(myIm)\n",
    "viewer.add_labels(acceptedStack)\n",
    "viewer.add_labels(inProgressStack)\n",
    "viewer.add_tracks(data, properties=properties, graph=graph)\n",
    "\n",
    "viewer.add_points(donePoints,name='correct',face_color='black')"
   ]
  },
  {
   "cell_type": "code",
   "execution_count": 57,
   "id": "d0cee9eb",
   "metadata": {},
   "outputs": [
    {
     "data": {
      "text/plain": [
       "<Points layer 'correct' at 0x1ce4b1f19c8>"
      ]
     },
     "execution_count": 57,
     "metadata": {},
     "output_type": "execute_result"
    }
   ],
   "source": [
    "viewer.add_points(donePoints,name='correct',face_color='black')"
   ]
  },
  {
   "cell_type": "code",
   "execution_count": null,
   "id": "2c21b7a8",
   "metadata": {},
   "outputs": [],
   "source": [
    "tracksList=[]\n",
    "\n",
    "for i in range(len(tracks)):\n",
    "    \n",
    "    # process track data\n",
    "    t = tracks[i]\n",
    "\n",
    "    track_temp = pd.DataFrame(data=np.array([t.t,t.x,t.y,t.dummy,t.properties['major_axis_length'],\n",
    "                                             t.properties['minor_axis_length'],t.properties['area']]).T,\n",
    "                           columns=('t','x','y','dummy','major_axis_length','minor_axis_length','area'))\n",
    "\n",
    "    track_temp['ID'] = t.ID\n",
    "    track_temp['generation'] = t.generation\n",
    "    track_temp['parent'] = t.parent\n",
    "    track_temp['root'] = t.root\n",
    "\n",
    "    track_temp['x']=track_temp['x'].astype(int)\n",
    "    track_temp['y']=track_temp['y'].astype(int)\n",
    "    \n",
    "    tracksList.append(track_temp)\n",
    "    \n",
    "# put all together\n",
    "trackDataAll = pd.concat(tracksList,ignore_index=True)"
   ]
  },
  {
   "cell_type": "code",
   "execution_count": 87,
   "id": "18c066f0",
   "metadata": {},
   "outputs": [
    {
     "data": {
      "text/plain": [
       "array([[  0, 776, 659]])"
      ]
     },
     "execution_count": 87,
     "metadata": {},
     "output_type": "execute_result"
    }
   ],
   "source": [
    "mitosisPoints = viewer.layers['mitosis'].data.astype(int)\n",
    "mitosisPoints"
   ]
  },
  {
   "cell_type": "code",
   "execution_count": 88,
   "id": "dcedf8aa",
   "metadata": {},
   "outputs": [
    {
     "data": {
      "text/plain": [
       "array([[  0, 776, 659]])"
      ]
     },
     "execution_count": 88,
     "metadata": {},
     "output_type": "execute_result"
    }
   ],
   "source": [
    "mitosisPoints"
   ]
  },
  {
   "cell_type": "code",
   "execution_count": null,
   "id": "a0a14771",
   "metadata": {},
   "outputs": [],
   "source": [
    "modTracks[tuple(donePoints[0])]"
   ]
  },
  {
   "cell_type": "code",
   "execution_count": 38,
   "id": "ab287399",
   "metadata": {},
   "outputs": [
    {
     "name": "stdout",
     "output_type": "stream",
     "text": [
      "Wall time: 17.7 s\n"
     ]
    }
   ],
   "source": [
    "%%time\n",
    "\n",
    "#\n",
    "\n",
    "imsave(os.path.join(dirMod,myFile.replace('.tif','_mod.tif')),modTracks)"
   ]
  },
  {
   "cell_type": "code",
   "execution_count": 52,
   "id": "294c042a",
   "metadata": {},
   "outputs": [
    {
     "data": {
      "text/plain": [
       "array([425, 600, 737])"
      ]
     },
     "execution_count": 52,
     "metadata": {},
     "output_type": "execute_result"
    }
   ],
   "source": [
    "donePoints = viewer.layers['done'].data.astype(int)"
   ]
  },
  {
   "cell_type": "code",
   "execution_count": 58,
   "id": "f112ec91",
   "metadata": {},
   "outputs": [
    {
     "data": {
      "text/plain": [
       "(425, 600, 737)"
      ]
     },
     "execution_count": 58,
     "metadata": {},
     "output_type": "execute_result"
    }
   ],
   "source": [
    "tuple(donePoints[0])"
   ]
  },
  {
   "cell_type": "code",
   "execution_count": 53,
   "id": "141da3c3",
   "metadata": {},
   "outputs": [
    {
     "ename": "IndexError",
     "evalue": "index 600 is out of bounds for axis 0 with size 426",
     "output_type": "error",
     "traceback": [
      "\u001b[1;31m---------------------------------------------------------------------------\u001b[0m",
      "\u001b[1;31mIndexError\u001b[0m                                Traceback (most recent call last)",
      "\u001b[1;32m<ipython-input-53-85d163be9730>\u001b[0m in \u001b[0;36m<module>\u001b[1;34m\u001b[0m\n\u001b[1;32m----> 1\u001b[1;33m \u001b[0mdoneTracks\u001b[0m \u001b[1;33m=\u001b[0m \u001b[0mmodTracks\u001b[0m\u001b[1;33m[\u001b[0m\u001b[0mdonePoints\u001b[0m\u001b[1;33m[\u001b[0m\u001b[1;36m0\u001b[0m\u001b[1;33m]\u001b[0m\u001b[1;33m]\u001b[0m\u001b[1;33m\u001b[0m\u001b[1;33m\u001b[0m\u001b[0m\n\u001b[0m",
      "\u001b[1;31mIndexError\u001b[0m: index 600 is out of bounds for axis 0 with size 426"
     ]
    }
   ],
   "source": [
    "doneTracks = modTracks[donePoints[0]]"
   ]
  },
  {
   "cell_type": "code",
   "execution_count": 59,
   "id": "e7584ed9",
   "metadata": {},
   "outputs": [
    {
     "data": {
      "text/plain": [
       "116"
      ]
     },
     "execution_count": 59,
     "metadata": {},
     "output_type": "execute_result"
    }
   ],
   "source": [
    "modTracks[tuple(donePoints[0])]"
   ]
  },
  {
   "cell_type": "code",
   "execution_count": 17,
   "id": "eabf9c2f",
   "metadata": {},
   "outputs": [
    {
     "data": {
      "text/plain": [
       "{190: [176],\n",
       " 191: [176],\n",
       " 199: [128],\n",
       " 202: [128],\n",
       " 213: [184],\n",
       " 214: [184],\n",
       " 242: [222],\n",
       " 243: [222],\n",
       " 258: [225],\n",
       " 262: [225],\n",
       " 263: [81],\n",
       " 269: [81],\n",
       " 270: [76],\n",
       " 271: [76],\n",
       " 292: [272],\n",
       " 293: [272],\n",
       " 332: [35],\n",
       " 333: [35],\n",
       " 383: [102],\n",
       " 384: [102],\n",
       " 387: [353],\n",
       " 389: [353],\n",
       " 398: [376],\n",
       " 399: [376],\n",
       " 408: [59],\n",
       " 409: [59],\n",
       " 510: [245],\n",
       " 511: [245],\n",
       " 517: [512],\n",
       " 530: [512],\n",
       " 531: [41],\n",
       " 532: [41],\n",
       " 542: [130],\n",
       " 543: [130],\n",
       " 551: [116],\n",
       " 552: [116],\n",
       " 557: [60],\n",
       " 564: [317],\n",
       " 565: [317],\n",
       " 568: [60],\n",
       " 576: [421],\n",
       " 590: [421],\n",
       " 616: [305],\n",
       " 617: [532],\n",
       " 618: [532],\n",
       " 627: [553],\n",
       " 629: [305],\n",
       " 641: [553],\n",
       " 661: [24],\n",
       " 662: [24],\n",
       " 675: [40],\n",
       " 677: [40],\n",
       " 699: [110],\n",
       " 700: [110],\n",
       " 708: [67],\n",
       " 709: [67],\n",
       " 748: [726],\n",
       " 749: [726],\n",
       " 756: [17],\n",
       " 757: [17],\n",
       " 767: [51],\n",
       " 768: [51],\n",
       " 769: [125],\n",
       " 770: [125],\n",
       " 798: [77],\n",
       " 799: [77],\n",
       " 801: [782],\n",
       " 802: [782],\n",
       " 844: [106],\n",
       " 845: [106],\n",
       " 852: [151],\n",
       " 853: [151],\n",
       " 896: [737],\n",
       " 897: [737],\n",
       " 933: [902],\n",
       " 934: [902],\n",
       " 961: [13],\n",
       " 962: [271],\n",
       " 963: [271],\n",
       " 964: [13],\n",
       " 981: [72],\n",
       " 983: [72],\n",
       " 1003: [161],\n",
       " 1005: [982],\n",
       " 1006: [982],\n",
       " 1012: [161],\n",
       " 1041: [132],\n",
       " 1043: [132],\n",
       " 1112: [340],\n",
       " 1113: [340],\n",
       " 1117: [443],\n",
       " 1121: [443],\n",
       " 1124: [122],\n",
       " 1135: [122],\n",
       " 1138: [20],\n",
       " 1139: [20],\n",
       " 1140: [642],\n",
       " 1141: [642],\n",
       " 1142: [653],\n",
       " 1143: [653],\n",
       " 1155: [93],\n",
       " 1156: [1120],\n",
       " 1157: [1120],\n",
       " 1161: [104],\n",
       " 1162: [104],\n",
       " 1163: [93],\n",
       " 1181: [557],\n",
       " 1182: [557],\n",
       " 1191: [27],\n",
       " 1192: [27],\n",
       " 1207: [111],\n",
       " 1208: [111],\n",
       " 1247: [1082],\n",
       " 1249: [1082],\n",
       " 1253: [889],\n",
       " 1266: [889],\n",
       " 1278: [143],\n",
       " 1279: [143],\n",
       " 1336: [334],\n",
       " 1337: [334],\n",
       " 1341: [98],\n",
       " 1342: [98],\n",
       " 1346: [1326],\n",
       " 1347: [1326],\n",
       " 1362: [83],\n",
       " 1363: [83],\n",
       " 1398: [105],\n",
       " 1399: [105],\n",
       " 1446: [82],\n",
       " 1448: [82],\n",
       " 1494: [180],\n",
       " 1495: [180],\n",
       " 1516: [1330],\n",
       " 1519: [1330],\n",
       " 1558: [150],\n",
       " 1560: [150],\n",
       " 1568: [534],\n",
       " 1571: [534],\n",
       " 1643: [120],\n",
       " 1644: [120],\n",
       " 1781: [349],\n",
       " 1782: [349],\n",
       " 1787: [342],\n",
       " 1794: [342],\n",
       " 2045: [213],\n",
       " 2046: [213],\n",
       " 2287: [1895],\n",
       " 2288: [1895],\n",
       " 2421: [2255],\n",
       " 2422: [2255],\n",
       " 2666: [1305],\n",
       " 2681: [1305],\n",
       " 2756: [352],\n",
       " 2758: [352],\n",
       " 2882: [2697],\n",
       " 2883: [2697],\n",
       " 2970: [113],\n",
       " 2973: [113],\n",
       " 3079: [2331],\n",
       " 3088: [2331],\n",
       " 3091: [2283],\n",
       " 3092: [2283],\n",
       " 3238: [2311],\n",
       " 3239: [2311],\n",
       " 3268: [2922],\n",
       " 3281: [2922],\n",
       " 3343: [2522],\n",
       " 3344: [2522],\n",
       " 3458: [1322],\n",
       " 3459: [1322],\n",
       " 3679: [32],\n",
       " 3680: [32],\n",
       " 3825: [3655],\n",
       " 3828: [3655],\n",
       " 3852: [3842],\n",
       " 3853: [3842],\n",
       " 3866: [3016],\n",
       " 3867: [3016],\n",
       " 3982: [3967],\n",
       " 3983: [3967],\n",
       " 3989: [2972],\n",
       " 3990: [2972]}"
      ]
     },
     "execution_count": 17,
     "metadata": {},
     "output_type": "execute_result"
    }
   ],
   "source": [
    "graph"
   ]
  },
  {
   "cell_type": "code",
   "execution_count": 28,
   "id": "c9323118",
   "metadata": {},
   "outputs": [
    {
     "data": {
      "text/plain": [
       "1119"
      ]
     },
     "execution_count": 28,
     "metadata": {},
     "output_type": "execute_result"
    }
   ],
   "source": [
    "[x.ID for x in tracks].index(1848)"
   ]
  },
  {
   "cell_type": "code",
   "execution_count": 29,
   "id": "2b05b872",
   "metadata": {},
   "outputs": [
    {
     "data": {
      "text/html": [
       "<table border=\"1\" class=\"dataframe\">\n",
       "  <thead>\n",
       "    <tr style=\"text-align: right;\">\n",
       "      <th></th>\n",
       "      <th>ID</th>\n",
       "      <th>t</th>\n",
       "      <th>x</th>\n",
       "      <th>y</th>\n",
       "      <th>z</th>\n",
       "      <th>parent</th>\n",
       "      <th>root</th>\n",
       "      <th>state</th>\n",
       "      <th>generation</th>\n",
       "      <th>dummy</th>\n",
       "      <th>area</th>\n",
       "      <th>minor_axis_length</th>\n",
       "      <th>major_axis_length</th>\n",
       "    </tr>\n",
       "  </thead>\n",
       "  <tbody>\n",
       "    <tr>\n",
       "      <th>0</th>\n",
       "      <td>1848</td>\n",
       "      <td>198</td>\n",
       "      <td>818.802111</td>\n",
       "      <td>1258.738786</td>\n",
       "      <td>0.0</td>\n",
       "      <td>1848</td>\n",
       "      <td>1848</td>\n",
       "      <td>5</td>\n",
       "      <td>0</td>\n",
       "      <td>False</td>\n",
       "      <td>758</td>\n",
       "      <td>26.272827</td>\n",
       "      <td>37.201714</td>\n",
       "    </tr>\n",
       "  </tbody>\n",
       "</table>"
      ],
      "text/plain": [
       "OrderedDict([('ID', 1848), ('t', [198]), ('x', [818.802110817942]), ('y', [1258.7387862796834]), ('z', [0.0]), ('parent', 1848), ('root', 1848), ('state', [5]), ('generation', 0), ('dummy', [False]), ('area', array([758])), ('minor_axis_length', array([26.2728267])), ('major_axis_length', array([37.20171398]))])"
      ]
     },
     "execution_count": 29,
     "metadata": {},
     "output_type": "execute_result"
    }
   ],
   "source": [
    "tracks[[x.ID for x in tracks].index(1848)]"
   ]
  },
  {
   "cell_type": "markdown",
   "id": "1757ae7b",
   "metadata": {},
   "source": [
    "## Recalculate tracking"
   ]
  },
  {
   "cell_type": "code",
   "execution_count": 8,
   "id": "f2ccd511",
   "metadata": {},
   "outputs": [
    {
     "name": "stdout",
     "output_type": "stream",
     "text": [
      "D:\\BARC\\Sonja_2021\\man_mod\\20210414imagingmjxy03c1_bckCorr_mod.tif\n"
     ]
    }
   ],
   "source": [
    "# get modified labels\n",
    "\n",
    "myPath = os.path.join(dirMod,os.listdir(dirMod)[0])\n",
    "print(myPath)\n",
    "\n",
    "modTracks = imread(myPath)"
   ]
  },
  {
   "cell_type": "code",
   "execution_count": 39,
   "id": "acfc386f",
   "metadata": {},
   "outputs": [],
   "source": [
    "savePath = r'D:\\BARC\\Martha_2021\\Martha_tracks_v_01.h5'"
   ]
  },
  {
   "cell_type": "code",
   "execution_count": 40,
   "id": "f2c88022",
   "metadata": {},
   "outputs": [
    {
     "name": "stderr",
     "output_type": "stream",
     "text": [
      "[INFO][2021/05/20 01:19:43 PM] Localizing objects from segmentation...\n",
      "[INFO][2021/05/20 01:21:13 PM] Objects are of type: <class 'dict'>\n",
      "[INFO][2021/05/20 01:21:16 PM] ...Found 192165 objects in 426 frames.\n"
     ]
    }
   ],
   "source": [
    "objects = btrack.utils.segmentation_to_objects(modTracks, properties=('area', 'major_axis_length','minor_axis_length'))"
   ]
  },
  {
   "cell_type": "code",
   "execution_count": 41,
   "id": "849b8c6c",
   "metadata": {},
   "outputs": [
    {
     "name": "stderr",
     "output_type": "stream",
     "text": [
      "[INFO][2021/05/20 01:21:16 PM] Loaded btrack: C:\\ProgramData\\Anaconda3\\envs\\cellpose\\lib\\site-packages\\btrack\\libs\\libtracker.DLL\n",
      "[INFO][2021/05/20 01:21:16 PM] btrack (v0.4.1) library imported\n",
      "[INFO][2021/05/20 01:21:16 PM] Setting max XYZ search radius to: 100\n",
      "[INFO][2021/05/20 01:21:16 PM] Starting BayesianTracker session\n",
      "[INFO][2021/05/20 01:21:16 PM] Loading configuration file: D:\\BARC\\Sonja_2021\\b_track\\cell_config.json\n",
      "[INFO][2021/05/20 01:21:16 PM] Loading motion model: b'cell_motion'\n",
      "[INFO][2021/05/20 01:21:16 PM] Objects are of type: <class 'list'>\n",
      "[INFO][2021/05/20 01:21:16 PM] Set volume to ((0, 1946), (0, 1946), (-100000.0, 100000.0))\n",
      "[INFO][2021/05/20 01:21:16 PM] Starting tracking... \n",
      "[INFO][2021/05/20 01:21:17 PM] Tracking objects in frames 0 to 99 (of 426)...\n",
      "[INFO][2021/05/20 01:21:22 PM]  - Timing (Bayesian updates: 79.00ms, Linking: 2.00ms)\n",
      "[INFO][2021/05/20 01:21:22 PM]  - Probabilities (Link: 1.00000, Lost: 1.00000)\n",
      "[INFO][2021/05/20 01:21:22 PM]  - Stats (Active: 358, Lost: 3500, Conflicts resolved: 1234)\n",
      "[INFO][2021/05/20 01:21:22 PM] Tracking objects in frames 100 to 199 (of 426)...\n",
      "[INFO][2021/05/20 01:21:34 PM]  - Timing (Bayesian updates: 161.00ms, Linking: 4.00ms)\n",
      "[INFO][2021/05/20 01:21:34 PM]  - Probabilities (Link: 0.98889, Lost: 0.98421)\n",
      "[INFO][2021/05/20 01:21:34 PM]  - Stats (Active: 493, Lost: 6337, Conflicts resolved: 2432)\n",
      "[INFO][2021/05/20 01:21:34 PM] Tracking objects in frames 200 to 299 (of 426)...\n",
      "[INFO][2021/05/20 01:21:57 PM]  - Timing (Bayesian updates: 269.00ms, Linking: 6.00ms)\n",
      "[INFO][2021/05/20 01:21:57 PM]  - Probabilities (Link: 0.99999, Lost: 1.00000)\n",
      "[INFO][2021/05/20 01:21:57 PM]  - Stats (Active: 611, Lost: 10778, Conflicts resolved: 4487)\n",
      "[INFO][2021/05/20 01:21:57 PM] Tracking objects in frames 300 to 399 (of 426)...\n",
      "[INFO][2021/05/20 01:22:30 PM]  - Timing (Bayesian updates: 365.00ms, Linking: 7.00ms)\n",
      "[INFO][2021/05/20 01:22:30 PM]  - Probabilities (Link: 1.00000, Lost: 1.00000)\n",
      "[INFO][2021/05/20 01:22:30 PM]  - Stats (Active: 668, Lost: 13414, Conflicts resolved: 5812)\n",
      "[INFO][2021/05/20 01:22:30 PM] Tracking objects in frames 400 to 426 (of 426)...\n",
      "[INFO][2021/05/20 01:22:39 PM]  - Timing (Bayesian updates: 379.00ms, Linking: 5.00ms)\n",
      "[INFO][2021/05/20 01:22:39 PM]  - Probabilities (Link: 0.99546, Lost: 0.55929)\n",
      "[INFO][2021/05/20 01:22:39 PM] SUCCESS.\n",
      "[INFO][2021/05/20 01:22:39 PM]  - Found 3997 tracks in 426 frames (in 0.0s)\n",
      "[INFO][2021/05/20 01:22:39 PM]  - Inserted 1718 dummy objects to fill tracking gaps\n",
      "[INFO][2021/05/20 01:22:39 PM] Loading hypothesis model: cell_hypothesis\n",
      "[INFO][2021/05/20 01:22:39 PM] Calculating hypotheses (relax: True)...\n",
      "[INFO][2021/05/20 01:22:39 PM] Setting up constraints matrix for global optimisation...\n",
      "[INFO][2021/05/20 01:22:39 PM] Optimizing...\n",
      "[INFO][2021/05/20 01:22:40 PM] Optimization complete. (Solution: optimal)\n",
      "[INFO][2021/05/20 01:22:40 PM]  - Fates.FALSE_POSITIVE: 522 (of 3997)\n",
      "[INFO][2021/05/20 01:22:40 PM]  - Fates.LINK: 1753 (of 2148)\n",
      "[INFO][2021/05/20 01:22:40 PM]  - Fates.DIVIDE: 91 (of 170)\n",
      "[INFO][2021/05/20 01:22:40 PM]  - Fates.INITIALIZE_BORDER: 870 (of 1066)\n",
      "[INFO][2021/05/20 01:22:40 PM]  - Fates.INITIALIZE_FRONT: 189 (of 219)\n",
      "[INFO][2021/05/20 01:22:40 PM]  - Fates.INITIALIZE_LAZY: 481 (of 2712)\n",
      "[INFO][2021/05/20 01:22:40 PM]  - Fates.TERMINATE_BORDER: 603 (of 801)\n",
      "[INFO][2021/05/20 01:22:40 PM]  - Fates.TERMINATE_BACK: 660 (of 669)\n",
      "[INFO][2021/05/20 01:22:40 PM]  - Fates.TERMINATE_LAZY: 368 (of 2527)\n",
      "[INFO][2021/05/20 01:22:40 PM]  - TOTAL: 14309 hypotheses\n",
      "[INFO][2021/05/20 01:22:40 PM] Completed optimization with 2244 tracks\n",
      "[INFO][2021/05/20 01:22:40 PM] Opening HDF file: D:\\BARC\\Martha_2021\\Martha_tracks_v_01.h5...\n",
      "[INFO][2021/05/20 01:22:41 PM] Writing tracks/obj_type_1\n",
      "[WARNING][2021/05/20 01:22:41 PM] Removing tracks/obj_type_1.\n",
      "[INFO][2021/05/20 01:22:41 PM] Writing dummies/obj_type_1\n",
      "[INFO][2021/05/20 01:22:41 PM] Writing LBEP/obj_type_1\n",
      "[INFO][2021/05/20 01:22:41 PM] Writing fates/obj_type_1\n",
      "[INFO][2021/05/20 01:22:41 PM] Closing HDF file: D:\\BARC\\Martha_2021\\Martha_tracks_v_01.h5\n",
      "[INFO][2021/05/20 01:22:43 PM] Ending BayesianTracker session\n"
     ]
    }
   ],
   "source": [
    "# initialise a tracker session using a context manager\n",
    "with btrack.BayesianTracker() as tracker:\n",
    "\n",
    "  # configure the tracker using a config file\n",
    "  tracker.configure_from_file(modelPath)\n",
    "\n",
    "  # append the objects to be tracked\n",
    "  tracker.append(objects)\n",
    "\n",
    "  # set the volume (Z axis volume is set very large for 2D data)\n",
    "  tracker.volume=((0, modTracks.shape[1]), (0, modTracks.shape[2]), (-1e5, 1e5))\n",
    "\n",
    "  # track them (in interactive mode)\n",
    "  tracker.track_interactive(step_size=100)\n",
    "\n",
    "  # generate hypotheses and run the global optimizer\n",
    "  tracker.optimize()\n",
    "\n",
    "  # store the data in an HDF5 file\n",
    "  tracker.export(savePath, obj_type='obj_type_1')\n",
    "\n",
    "  # get the tracks as a python list\n",
    "  tracks = tracker.tracks\n",
    "\n",
    "  # optional: get the data in a format for napari\n",
    "  data, properties, graph = tracker.to_napari(ndim=2)"
   ]
  },
  {
   "cell_type": "markdown",
   "id": "9656f2f9",
   "metadata": {},
   "source": [
    "## Visualize"
   ]
  },
  {
   "cell_type": "code",
   "execution_count": 42,
   "id": "7b5f4fd0",
   "metadata": {},
   "outputs": [
    {
     "data": {
      "text/plain": [
       "<Tracks layer 'data' at 0x2017b06abc8>"
      ]
     },
     "execution_count": 42,
     "metadata": {},
     "output_type": "execute_result"
    }
   ],
   "source": [
    "viewer = napari.Viewer()\n",
    "viewer.add_image(myIm)\n",
    "viewer.add_labels(modTracks)\n",
    "viewer.add_tracks(data, properties=properties, graph=graph)"
   ]
  },
  {
   "cell_type": "code",
   "execution_count": null,
   "id": "fdf6087e",
   "metadata": {},
   "outputs": [],
   "source": []
  }
 ],
 "metadata": {
  "kernelspec": {
   "display_name": "Python 3",
   "language": "python",
   "name": "python3"
  },
  "language_info": {
   "codemirror_mode": {
    "name": "ipython",
    "version": 3
   },
   "file_extension": ".py",
   "mimetype": "text/x-python",
   "name": "python",
   "nbconvert_exporter": "python",
   "pygments_lexer": "ipython3",
   "version": "3.7.10"
  }
 },
 "nbformat": 4,
 "nbformat_minor": 5
}
