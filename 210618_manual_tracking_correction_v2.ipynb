{
 "cells": [
  {
   "cell_type": "code",
   "execution_count": 1,
   "id": "f49352f4",
   "metadata": {},
   "outputs": [],
   "source": [
    "import os\n",
    "import sys\n",
    "import time\n",
    "import napari\n",
    "import pickle\n",
    "import h5py\n",
    "import importlib\n",
    "import numpy as np\n",
    "import pandas as pd\n",
    "\n",
    "\n",
    "\n",
    "from napari import Viewer\n",
    "\n",
    "from napari.qt.threading import thread_worker\n",
    "from matplotlib.backends.backend_qt5agg import FigureCanvas\n",
    "from matplotlib.figure import Figure\n",
    "\n",
    "from tifffile import imread,imsave,TiffFile\n",
    "import matplotlib.pyplot as plt\n",
    "import seaborn as sn\n",
    "\n",
    "import btrack\n",
    "\n",
    "from magicgui import magicgui\n",
    "\n",
    "sys.path.append(r'D:\\imPy\\libraries') \n",
    "sys.path.append(r'D:\\BARC\\napari_tracking_manual')\n",
    "\n",
    "gallery_functions = importlib.import_module('gallery_functions')\n",
    "my_napari = importlib.import_module('napari_display_functions')\n",
    "fov_f = importlib.import_module('fovRingsLibrary')\n",
    "gen = importlib.import_module('general_functions')\n",
    "\n",
    "import warnings\n",
    "warnings.filterwarnings('ignore')"
   ]
  },
  {
   "cell_type": "code",
   "execution_count": 490,
   "id": "28c56fe5",
   "metadata": {},
   "outputs": [
    {
     "data": {
      "text/plain": [
       "<module 'general_functions' from 'D:\\\\BARC\\\\napari_tracking_manual\\\\general_functions.py'>"
      ]
     },
     "execution_count": 490,
     "metadata": {},
     "output_type": "execute_result"
    }
   ],
   "source": [
    "importlib.reload(gallery_functions)\n",
    "importlib.reload(my_napari)\n",
    "importlib.reload(fov_f)\n",
    "importlib.reload(gen)"
   ]
  },
  {
   "cell_type": "code",
   "execution_count": 3,
   "id": "cfcf87fa",
   "metadata": {},
   "outputs": [],
   "source": [
    "myFov = '01'\n",
    "\n",
    "myDirIm = r'Z:\\Wayne\\20210618_RPE_p21_cycD1_DHB_H2B\\tiffs'\n",
    "\n",
    "# specify tracking channel\n",
    "myFile_track_im = f'20210618_RPE_p21_cycD1_DHB_H2B_series_{myFov}_ch_01.tif'\n",
    "track_intensity = 'intensity_01_nuc_corr' # name of the column\n",
    "\n",
    "# specify additional channels\n",
    "myFile_signal_im = [f'20210618_RPE_p21_cycD1_DHB_H2B_series_{myFov}_ch_02.tif',\n",
    "                    f'20210618_RPE_p21_cycD1_DHB_H2B_series_{myFov}_ch_03.tif',\n",
    "                   f'20210618_RPE_p21_cycD1_DHB_H2B_series_{myFov}_ch_04.tif']\n",
    "\n",
    "colors_list = ['red','green','magenta']\n",
    "names_list = ['DHB','cyclinD','p21']\n",
    "\n",
    "# specify columns to plot\n",
    "to_plot_signals = ['DHB_ratio','intensity_03_nuc_corr','intensity_04_nuc_corr','cyc_D_over_p21'] # name of the column\n",
    "to_plot_names = ['DHB_ratio [cyt/nuc]','cyclinD','p21','Cyclin D/p21 (mean)']\n",
    "to_plot_colors = ['red','green','blue','black']\n",
    "\n",
    "\n",
    "myDirTracks = r'Z:\\Wayne\\20210618_RPE_p21_cycD1_DHB_H2B\\tracking'\n",
    "myDirTracks = os.path.join(myDirTracks,myFov)\n",
    "dfDir = r'Z:\\Wayne\\20210618_RPE_p21_cycD1_DHB_H2B\\tracking'\n",
    "dfDir = os.path.join(dfDir,f'{myFov}_napari')"
   ]
  },
  {
   "cell_type": "code",
   "execution_count": 384,
   "id": "5438524f",
   "metadata": {},
   "outputs": [],
   "source": [
    "modelPath = r'D:\\BARC\\Sonja_2021\\b_track\\cell_config.json'\n",
    "\n",
    "btrack_init_path = os.path.join(dfDir,f'{myFov}_tracks_init.h5')\n",
    "btrack_mod_path = os.path.join(dfDir,f'{myFov}_tracks_mod.h5')"
   ]
  },
  {
   "cell_type": "markdown",
   "id": "5930f0d4",
   "metadata": {},
   "source": [
    "## Read in the tracking channel"
   ]
  },
  {
   "cell_type": "code",
   "execution_count": 5,
   "id": "d809782d",
   "metadata": {},
   "outputs": [
    {
     "name": "stdout",
     "output_type": "stream",
     "text": [
      "Wall time: 50.6 s\n"
     ]
    }
   ],
   "source": [
    "%%time\n",
    "\n",
    "# read in image\n",
    "myIm = imread(os.path.join(myDirIm,myFile_track_im))"
   ]
  },
  {
   "cell_type": "markdown",
   "id": "296f85d4",
   "metadata": {},
   "source": [
    "## Read in signal channels"
   ]
  },
  {
   "cell_type": "code",
   "execution_count": 6,
   "id": "a91d448f",
   "metadata": {},
   "outputs": [
    {
     "name": "stdout",
     "output_type": "stream",
     "text": [
      "Wall time: 2min 32s\n"
     ]
    }
   ],
   "source": [
    "%%time\n",
    "\n",
    "myIm_signal_list = []\n",
    "# read in additional signal images\n",
    "for myFile in myFile_signal_im:\n",
    "    temp = imread(os.path.join(myDirIm,myFile))\n",
    "    myIm_signal_list.append(temp)"
   ]
  },
  {
   "cell_type": "markdown",
   "id": "560fa163",
   "metadata": {},
   "source": [
    "## Read in tracks in a form of labels"
   ]
  },
  {
   "cell_type": "code",
   "execution_count": 436,
   "id": "daaebf83",
   "metadata": {},
   "outputs": [
    {
     "name": "stdout",
     "output_type": "stream",
     "text": [
      "Wall time: 1min 1s\n"
     ]
    }
   ],
   "source": [
    "%%time\n",
    "\n",
    "# read in labels as tracks\n",
    "myLabels =[]\n",
    "\n",
    "fovFiles = [x for x in os.listdir(myDirTracks) if f'series_{myFov}_' in x]\n",
    "\n",
    "for myFile in fovFiles:\n",
    "    \n",
    "    # read a mask\n",
    "    labels = imread(os.path.join(myDirTracks,myFile))\n",
    "    \n",
    "    myLabels.append(labels)\n",
    "    \n",
    "myLabels = np.array(myLabels)"
   ]
  },
  {
   "cell_type": "markdown",
   "id": "476883fb",
   "metadata": {},
   "source": [
    "## Get the full data frame"
   ]
  },
  {
   "cell_type": "code",
   "execution_count": 437,
   "id": "cb192116",
   "metadata": {},
   "outputs": [],
   "source": [
    "cellDataAll=pd.read_pickle(os.path.join(dfDir,f'cellPose_btrack_regionprops_bck_{myFov}.pkl'))\n",
    "cellDataAll.drop(['file','x','y'],axis=1,inplace=True)\n",
    "\n",
    "# sort \n",
    "cellDataAll = cellDataAll.sort_values(by=['track_id','t'])"
   ]
  },
  {
   "cell_type": "code",
   "execution_count": 438,
   "id": "8c174de8",
   "metadata": {},
   "outputs": [],
   "source": [
    "# create an array for visualization of accepted points\n",
    "selData=cellDataAll.loc[cellDataAll.accepted==True,:]\n",
    "acceptedPoints = np.array([selData['t'],selData['centroid-0'],selData['centroid-1']]).T "
   ]
  },
  {
   "cell_type": "code",
   "execution_count": 439,
   "id": "55c5e103",
   "metadata": {},
   "outputs": [],
   "source": [
    "# generate data for the tracking layer\n",
    "data,properties,graph = gen.trackData_from_df(cellDataAll)"
   ]
  },
  {
   "cell_type": "markdown",
   "id": "521c6322",
   "metadata": {},
   "source": [
    "## Main viewer"
   ]
  },
  {
   "cell_type": "code",
   "execution_count": 440,
   "id": "3e02ba9b",
   "metadata": {},
   "outputs": [],
   "source": [
    "viewer = napari.Viewer()\n",
    "\n",
    "# tracking layers\n",
    "viewer.add_image(myIm,colormap='gray',contrast_limits=(0, 2000),opacity = 1)\n",
    "\n",
    "track_layer=viewer.add_tracks(data, properties=properties, graph=graph,name='tracking')\n",
    "track_layer.display_id=True\n",
    "\n",
    "layer_inProgress = viewer.add_labels(myLabels,name='objects',opacity = 0.5)\n",
    "\n",
    "# signal layers\n",
    "for myIm_signal,myColor,myName in zip(myIm_signal_list,colors_list,names_list):\n",
    "    viewer.add_image(myIm_signal,colormap=myColor,contrast_limits=(0, 4000),opacity = 1,visible=False,name = myName)\n",
    "\n",
    "# helper layers\n",
    "layer_accepted = viewer.add_points(acceptedPoints,name='accepted objects',face_color='green', opacity =0.5, ndim=3)\n",
    "layer_mod = viewer.add_points([],name='modPoints',face_color='red',ndim=3)"
   ]
  },
  {
   "cell_type": "code",
   "execution_count": 507,
   "id": "faf4cfae",
   "metadata": {},
   "outputs": [
    {
     "data": {
      "text/plain": [
       "<module 'general_functions' from 'D:\\\\BARC\\\\napari_tracking_manual\\\\general_functions.py'>"
      ]
     },
     "execution_count": 507,
     "metadata": {},
     "output_type": "execute_result"
    }
   ],
   "source": [
    "importlib.reload(gallery_functions)\n",
    "importlib.reload(my_napari)\n",
    "importlib.reload(fov_f)\n",
    "importlib.reload(gen)"
   ]
  },
  {
   "cell_type": "code",
   "execution_count": 499,
   "id": "c0c330cf",
   "metadata": {},
   "outputs": [],
   "source": [
    "a={1,2,3}"
   ]
  },
  {
   "cell_type": "code",
   "execution_count": 506,
   "id": "1ead7d09",
   "metadata": {},
   "outputs": [
    {
     "data": {
      "text/plain": [
       "3"
      ]
     },
     "execution_count": 506,
     "metadata": {},
     "output_type": "execute_result"
    }
   ],
   "source": [
    "a=np.array(list(a))\n",
    "a[a>2][0]"
   ]
  },
  {
   "cell_type": "code",
   "execution_count": 508,
   "id": "06133462",
   "metadata": {},
   "outputs": [
    {
     "name": "stderr",
     "output_type": "stream",
     "text": [
      "C:\\ProgramData\\Anaconda3\\envs\\cellpose\\lib\\site-packages\\napari\\layers\\tracks\\tracks.py:391: UserWarning: Previous color_by key 't' not present in new properties. Falling back to track_id\n",
      "  UserWarning,\n"
     ]
    }
   ],
   "source": [
    "viewer,cellDataAll = my_napari.cut_track(viewer,cellDataAll)"
   ]
  },
  {
   "cell_type": "markdown",
   "id": "856cbfdf",
   "metadata": {},
   "source": [
    "## Add functions for modifying tracks"
   ]
  },
  {
   "cell_type": "code",
   "execution_count": 509,
   "id": "cdf12ba9",
   "metadata": {},
   "outputs": [
    {
     "data": {
      "text/plain": [
       "<napari._qt.widgets.qt_viewer_dock_widget.QtViewerDockWidget at 0x221ee485af8>"
      ]
     },
     "execution_count": 509,
     "metadata": {},
     "output_type": "execute_result"
    },
    {
     "name": "stderr",
     "output_type": "stream",
     "text": [
      "C:\\ProgramData\\Anaconda3\\envs\\cellpose\\lib\\site-packages\\napari\\layers\\tracks\\tracks.py:391: UserWarning: Previous color_by key 't' not present in new properties. Falling back to track_id\n",
      "  UserWarning,\n",
      "WARNING: QMainWindow::saveState(): 'objectName' not set for QDockWidget 0x221de41bd90 ';\n"
     ]
    }
   ],
   "source": [
    "@magicgui(call_button='Cut Track')\n",
    "def show_stack(viewer: Viewer):\n",
    "    \n",
    "    global cellDataAll\n",
    "    global myLabels\n",
    "    \n",
    "    viewer,cellDataAll = my_napari.cut_track(viewer,cellDataAll)\n",
    "    myLabels = viewer.layers['objects'].data\n",
    "    \n",
    "viewer.window.add_dock_widget(show_stack,area='right')\n",
    "\n",
    "\n",
    "@magicgui(call_button='Merge Track')\n",
    "def show_stack(viewer: Viewer):\n",
    "    \n",
    "    global cellDataAll\n",
    "    global myLabels\n",
    "    \n",
    "    viewer,cellDataAll = my_napari.merge_track(viewer,cellDataAll)\n",
    "    myLabels = viewer.layers['objects'].data\n",
    "    \n",
    "viewer.window.add_dock_widget(show_stack,area='right')\n",
    "\n",
    "\n",
    "@magicgui(call_button='Connect Track')\n",
    "def show_stack(viewer: Viewer):\n",
    "    \n",
    "    global cellDataAll\n",
    "    global myLabels\n",
    "    \n",
    "    viewer,cellDataAll = my_napari.connect_track(viewer,cellDataAll)\n",
    "    myLabels = viewer.layers['objects'].data\n",
    "    \n",
    "viewer.window.add_dock_widget(show_stack,area='right')"
   ]
  },
  {
   "cell_type": "markdown",
   "id": "eb0daf41",
   "metadata": {},
   "source": [
    "## Add functions for modifying labels"
   ]
  },
  {
   "cell_type": "code",
   "execution_count": 442,
   "id": "52fbd9d4",
   "metadata": {},
   "outputs": [
    {
     "name": "stderr",
     "output_type": "stream",
     "text": [
      "C:\\ProgramData\\Anaconda3\\envs\\cellpose\\lib\\site-packages\\napari\\layers\\tracks\\tracks.py:391: UserWarning: Previous color_by key 't' not present in new properties. Falling back to track_id\n",
      "  UserWarning,\n",
      "C:\\ProgramData\\Anaconda3\\envs\\cellpose\\lib\\site-packages\\napari\\layers\\tracks\\tracks.py:391: UserWarning: Previous color_by key 't' not present in new properties. Falling back to track_id\n",
      "  UserWarning,\n",
      "C:\\ProgramData\\Anaconda3\\envs\\cellpose\\lib\\site-packages\\napari\\layers\\tracks\\tracks.py:391: UserWarning: Previous color_by key 't' not present in new properties. Falling back to track_id\n",
      "  UserWarning,\n"
     ]
    }
   ],
   "source": [
    "@magicgui(call_button='Modify label')\n",
    "def show_stack(viewer: Viewer):\n",
    "    \n",
    "    global cellDataAll\n",
    "\n",
    "    viewer,cellDataAll = my_napari.update_single_object(viewer,cellDataAll,myIm,myIm_signal_list)\n",
    "    \n",
    "viewer.window.add_dock_widget(show_stack,area='right')\n",
    "\n",
    "\n",
    "@viewer.bind_key('u',overwrite=True)\n",
    "def update_inProgress(viewer):\n",
    "    \n",
    "    global cellDataAll\n",
    "    \n",
    "    viewer,cellDataAll = my_napari.update_single_object(viewer,cellDataAll,myIm,myIm_signal_list)"
   ]
  },
  {
   "cell_type": "markdown",
   "id": "07be04e7",
   "metadata": {},
   "source": [
    "## Mark track as accepted"
   ]
  },
  {
   "cell_type": "code",
   "execution_count": 510,
   "id": "d07f34be",
   "metadata": {},
   "outputs": [],
   "source": [
    "# right click for accepting points\n",
    "# toggles status of a track and visualizes it in the accepted objects layer if changed into accepted\n",
    "\n",
    "@layer_inProgress.mouse_drag_callbacks.append\n",
    "def accept_track(layer, event):\n",
    "\n",
    "    if(event.button == 2):\n",
    "        \n",
    "        # look up cursor position\n",
    "        x = int(viewer.cursor.position[1])\n",
    "        y = int(viewer.cursor.position[2])\n",
    "        \n",
    "        # get data\n",
    "        inProgressTracks = layer_inProgress.data\n",
    "        \n",
    "        # check which cell was clicked\n",
    "        myTrackNum = inProgressTracks[viewer.dims.current_step[0],x,y]\n",
    "        \n",
    "        if myTrackNum > 0:\n",
    "\n",
    "            # check status\n",
    "            trackStatus = list(cellDataAll.loc[cellDataAll.track_id==myTrackNum,'accepted'])[0]\n",
    "\n",
    "            # change status of this track\n",
    "            cellDataAll.loc[cellDataAll.track_id==myTrackNum,'accepted'] = not(trackStatus)\n",
    "\n",
    "            # regenerate accepted points\n",
    "            selData=cellDataAll.loc[cellDataAll.accepted==True,:]\n",
    "            acceptedPoints = np.array([selData['t'],selData['centroid-0'],selData['centroid-1']]).T \n",
    "\n",
    "            # update viewer    \n",
    "            layer_accepted.data = acceptedPoints"
   ]
  },
  {
   "cell_type": "markdown",
   "id": "cb82b8fc",
   "metadata": {},
   "source": [
    "## Stack viewer"
   ]
  },
  {
   "cell_type": "code",
   "execution_count": 483,
   "id": "90669290",
   "metadata": {},
   "outputs": [
    {
     "data": {
      "text/plain": [
       "<napari._qt.widgets.qt_viewer_dock_widget.QtViewerDockWidget at 0x227ed1ab288>"
      ]
     },
     "execution_count": 483,
     "metadata": {},
     "output_type": "execute_result"
    },
    {
     "name": "stderr",
     "output_type": "stream",
     "text": [
      "WARNING: QMainWindow::saveState(): 'objectName' not set for QDockWidget 0x221d6158340 ';\n",
      "C:\\ProgramData\\Anaconda3\\envs\\cellpose\\lib\\site-packages\\napari_arboretum\\plugin.py:88: FutureWarning: layer.position is deprecated and will be removed in version 0.4.9. It should no longer be used as layers should no longer know where the cursor position is. You can get the cursor position in world coordinates from viewer.cursor.position.\n",
      "  track_id = layer.get_value(layer.position)\n",
      "C:\\ProgramData\\Anaconda3\\envs\\cellpose\\lib\\site-packages\\napari_arboretum\\plugin.py:88: FutureWarning: layer.position is deprecated and will be removed in version 0.4.9. It should no longer be used as layers should no longer know where the cursor position is. You can get the cursor position in world coordinates from viewer.cursor.position.\n",
      "  track_id = layer.get_value(layer.position)\n",
      "C:\\ProgramData\\Anaconda3\\envs\\cellpose\\lib\\site-packages\\napari_arboretum\\plugin.py:88: FutureWarning: layer.position is deprecated and will be removed in version 0.4.9. It should no longer be used as layers should no longer know where the cursor position is. You can get the cursor position in world coordinates from viewer.cursor.position.\n",
      "  track_id = layer.get_value(layer.position)\n",
      "C:\\ProgramData\\Anaconda3\\envs\\cellpose\\lib\\site-packages\\napari_arboretum\\plugin.py:88: FutureWarning: layer.position is deprecated and will be removed in version 0.4.9. It should no longer be used as layers should no longer know where the cursor position is. You can get the cursor position in world coordinates from viewer.cursor.position.\n",
      "  track_id = layer.get_value(layer.position)\n",
      "C:\\ProgramData\\Anaconda3\\envs\\cellpose\\lib\\site-packages\\napari_arboretum\\plugin.py:88: FutureWarning: layer.position is deprecated and will be removed in version 0.4.9. It should no longer be used as layers should no longer know where the cursor position is. You can get the cursor position in world coordinates from viewer.cursor.position.\n",
      "  track_id = layer.get_value(layer.position)\n",
      "C:\\ProgramData\\Anaconda3\\envs\\cellpose\\lib\\site-packages\\napari_arboretum\\plugin.py:88: FutureWarning: layer.position is deprecated and will be removed in version 0.4.9. It should no longer be used as layers should no longer know where the cursor position is. You can get the cursor position in world coordinates from viewer.cursor.position.\n",
      "  track_id = layer.get_value(layer.position)\n",
      "C:\\ProgramData\\Anaconda3\\envs\\cellpose\\lib\\site-packages\\napari_arboretum\\plugin.py:88: FutureWarning: layer.position is deprecated and will be removed in version 0.4.9. It should no longer be used as layers should no longer know where the cursor position is. You can get the cursor position in world coordinates from viewer.cursor.position.\n",
      "  track_id = layer.get_value(layer.position)\n",
      "C:\\ProgramData\\Anaconda3\\envs\\cellpose\\lib\\site-packages\\napari_arboretum\\plugin.py:88: FutureWarning: layer.position is deprecated and will be removed in version 0.4.9. It should no longer be used as layers should no longer know where the cursor position is. You can get the cursor position in world coordinates from viewer.cursor.position.\n",
      "  track_id = layer.get_value(layer.position)\n",
      "C:\\ProgramData\\Anaconda3\\envs\\cellpose\\lib\\site-packages\\napari_arboretum\\plugin.py:88: FutureWarning: layer.position is deprecated and will be removed in version 0.4.9. It should no longer be used as layers should no longer know where the cursor position is. You can get the cursor position in world coordinates from viewer.cursor.position.\n",
      "  track_id = layer.get_value(layer.position)\n",
      "C:\\ProgramData\\Anaconda3\\envs\\cellpose\\lib\\site-packages\\napari\\layers\\tracks\\tracks.py:391: UserWarning: Previous color_by key 't' not present in new properties. Falling back to track_id\n",
      "  UserWarning,\n"
     ]
    }
   ],
   "source": [
    "def update_stack(viewer_stack,myTrack):\n",
    "    \n",
    "    global viewer\n",
    "    \n",
    "    data = viewer.layers['tracking'].data\n",
    "    myLabels = viewer.layers['objects'].data\n",
    "        \n",
    "    # ask for an update\n",
    "    stack_track,stack_labels,stack_signal_list = gallery_functions.stack_create_all(myIm,myLabels,myIm_signal_list,data,myTrack,imSize=100)\n",
    "    \n",
    "    # display new layers\n",
    "    my_napari.display_set(viewer_stack,stack_track,stack_labels,stack_signal_list,colors_list,names_list,label_contour=0)\n",
    "    \n",
    "def update_graph(viewer_stack,myTrack):\n",
    "    \n",
    "    # remove previous graph\n",
    "    h = viewer_stack.window._dock_widgets['']\n",
    "    viewer_stack.window.remove_dock_widget(h)\n",
    "        \n",
    "    # add new graph\n",
    "    mpl_widget = my_napari.create_graph_widget(track_intensity,to_plot_signals,to_plot_colors,to_plot_names,cellDataAll,myTrack) \n",
    "    h = viewer_stack.window.add_dock_widget(mpl_widget)\n",
    "\n",
    "@magicgui(call_button='Show Stack')\n",
    "def show_stack(viewer: Viewer):\n",
    "    \n",
    "    # find current track\n",
    "    myLabel = viewer.layers['objects'].selected_label\n",
    "    \n",
    "    viewer_stack = napari.Viewer()\n",
    "    update_stack(viewer_stack,myLabel)\n",
    "    \n",
    "    # select the right label\n",
    "    viewer_stack.layers['objects'].selected_label = myLabel\n",
    "    \n",
    "    # init graph - there must be a more elegant solution (without this global handle)\n",
    "    mpl_widget = my_napari.create_graph_widget(track_intensity,to_plot_signals,to_plot_colors,to_plot_names,cellDataAll,myLabel) \n",
    "    viewer_stack.window.add_dock_widget(mpl_widget)\n",
    "    \n",
    "    # add an update button\n",
    "    # in the future - connect it to directly changing the selected layer\n",
    "    @magicgui(call_button='Update Stack')\n",
    "    def button_stack(viewer_stack: Viewer):\n",
    "\n",
    "        myTrack = viewer_stack.layers['objects'].selected_label\n",
    "\n",
    "        # update stack\n",
    "        update_stack(viewer_stack,myTrack)\n",
    "\n",
    "        # update graph\n",
    "        update_graph(viewer_stack,myTrack)\n",
    "\n",
    "    viewer_stack.window.add_dock_widget(button_stack,area='bottom')\n",
    "    \n",
    "viewer.window.add_dock_widget(show_stack,area='bottom')"
   ]
  },
  {
   "cell_type": "markdown",
   "id": "4ae4de0f",
   "metadata": {},
   "source": [
    "## Gallery viewer"
   ]
  },
  {
   "cell_type": "code",
   "execution_count": 511,
   "id": "0c562133",
   "metadata": {},
   "outputs": [
    {
     "data": {
      "text/plain": [
       "<napari._qt.widgets.qt_viewer_dock_widget.QtViewerDockWidget at 0x22807b0eee8>"
      ]
     },
     "execution_count": 511,
     "metadata": {},
     "output_type": "execute_result"
    },
    {
     "name": "stderr",
     "output_type": "stream",
     "text": [
      "WARNING: QMainWindow::saveState(): 'objectName' not set for QDockWidget 0x221d6156dd0 ';\n"
     ]
    }
   ],
   "source": [
    "def update_gallery(viewer_gallery,myTrack):\n",
    "    \n",
    "    global viewer\n",
    "    \n",
    "    data = viewer.layers['tracking'].data\n",
    "    myLabels = viewer.layers['objects'].data\n",
    "        \n",
    "    # ask for an update\n",
    "    gallery_track,gallery_labels,gallery_signal_list = gallery_functions.gallery_create_all(myIm,myLabels,myIm_signal_list,data,myTrack,imSize=100)\n",
    "    \n",
    "    # display new layers\n",
    "    my_napari.display_set(viewer_gallery,gallery_track,gallery_labels,gallery_signal_list,colors_list,names_list,label_contour=2)\n",
    "    \n",
    "def update_graph(viewer_gallery,myTrack):\n",
    "    \n",
    "    # remove previous graph\n",
    "    h = viewer_gallery.window._dock_widgets['']\n",
    "    viewer_gallery.window.remove_dock_widget(h)\n",
    "        \n",
    "    # add new graph\n",
    "    mpl_widget = my_napari.create_graph_widget(track_intensity,to_plot_signals,to_plot_colors,to_plot_names,cellDataAll,myTrack) \n",
    "    h = viewer_gallery.window.add_dock_widget(mpl_widget)\n",
    "\n",
    "@magicgui(call_button='Show Gallery')\n",
    "def show_gallery(viewer: Viewer):\n",
    "    \n",
    "    # find current track\n",
    "    myLabel = viewer.layers['objects'].selected_label\n",
    "    \n",
    "    viewer_gallery = napari.Viewer()\n",
    "    update_gallery(viewer_gallery,myLabel)\n",
    "    \n",
    "    # select the right label\n",
    "    viewer_gallery.layers['objects'].selected_label = myLabel\n",
    "    \n",
    "    # init graph - there must be a more elegant solution (without this global handle)\n",
    "    mpl_widget = my_napari.create_graph_widget(track_intensity,to_plot_signals,to_plot_colors,to_plot_names,cellDataAll,myLabel) \n",
    "    viewer_gallery.window.add_dock_widget(mpl_widget)\n",
    "    \n",
    "    # add an update button\n",
    "    # in the future - connect it to directly changing the selected layer\n",
    "    @magicgui(call_button='Update Gallery')\n",
    "    def button_gallery(viewer_gallery: Viewer):\n",
    "\n",
    "        myTrack = viewer_gallery.layers['objects'].selected_label\n",
    "\n",
    "        # update gallery\n",
    "        update_gallery(viewer_gallery,myTrack)\n",
    "\n",
    "        # update graph\n",
    "        update_graph(viewer_gallery,myTrack)\n",
    "\n",
    "    viewer_gallery.window.add_dock_widget(button_gallery,area='bottom')\n",
    "    \n",
    "viewer.window.add_dock_widget(show_gallery,area='bottom')"
   ]
  },
  {
   "cell_type": "code",
   "execution_count": 132,
   "id": "e884ea4a",
   "metadata": {},
   "outputs": [
    {
     "name": "stderr",
     "output_type": "stream",
     "text": [
      "C:\\ProgramData\\Anaconda3\\envs\\cellpose\\lib\\site-packages\\napari\\layers\\tracks\\tracks.py:391: UserWarning: Previous color_by key 't' not present in new properties. Falling back to track_id\n",
      "  UserWarning,\n"
     ]
    }
   ],
   "source": [
    "# swapping tracks based on 4 points - in development\n",
    "\n",
    "@viewer.bind_key('r',overwrite=True)\n",
    "def swap_points(viewer):\n",
    "\n",
    "    swapPoints = viewer.layers['swapPoints'].data.astype(int)\n",
    "\n",
    "    # check that you get a good set of swapPoints\n",
    "    lenTest = (len(swapPoints) == 4)\n",
    "\n",
    "    if lenTest:\n",
    "\n",
    "        framesToSwap = list(set(swapPoints[:,0]))\n",
    "        framesToSwap.sort()\n",
    "        frameTest = (framesToSwap[1] == framesToSwap[0]+1)\n",
    "\n",
    "\n",
    "        # read in in-progress tracks\n",
    "        inProgressTracks = viewer.layers['inProgressStack'].data\n",
    "\n",
    "        # check tracks\n",
    "        myTracks = []\n",
    "        for myPoint in swapPoints:\n",
    "\n",
    "            myTracks.append(inProgressTracks[tuple(myPoint)])\n",
    "\n",
    "        trackTest = (len(set(myTracks)) == 2)\n",
    "\n",
    "        if (lenTest and frameTest and trackTest):\n",
    "\n",
    "            # get tracks numbers\n",
    "            track_1 = list((set(myTracks)))[0] \n",
    "            track_2 = list((set(myTracks)))[1]\n",
    "\n",
    "            frame_change = np.max(framesToSwap)\n",
    "\n",
    "\n",
    "            inProgressTracks[frame_change:,:,:][inProgressTracks[frame_change:,:,:]==track_1]=4095\n",
    "            inProgressTracks[frame_change:,:,:][inProgressTracks[frame_change:,:,:]==track_2]=track_1\n",
    "            inProgressTracks[frame_change:,:,:][inProgressTracks[frame_change:,:,:]==4095]=track_2\n",
    "\n",
    "            # change labels layer\n",
    "            viewer.layers.pop('inProgressStack')\n",
    "            viewer.add_labels(inProgressTracks,name='inProgressStack',opacity = 0.5)\n",
    "\n",
    "\n",
    "            # change graph\n",
    "            children_1 = set(data[((properties['parent']==track_1) & (properties['generation']>0)),0])\n",
    "\n",
    "            for child in children_1:\n",
    "\n",
    "                graph[int(child)] = track_2\n",
    "\n",
    "            children_2 = set(data[((properties['parent']==track_2) & (properties['generation']>0)),0])\n",
    "\n",
    "            for child in children_2:\n",
    "\n",
    "                graph[int(child)] = track_1\n",
    "\n",
    "\n",
    "            # change tracking data\n",
    "            track1_change = ((data[:,0]==track_1) & (data[:,1]>=frame_change))\n",
    "            track2_change = ((data[:,0]==track_2) & (data[:,1]>=frame_change))\n",
    "\n",
    "            data[track2_change,0] = track_1\n",
    "            data[track1_change,0] = track_2\n",
    "\n",
    "            # change info about the parent \n",
    "            track1_change = ((properties['parent']==track_1) & (data[:,1]>=frame_change))\n",
    "            track2_change = ((properties['parent']==track_2) & (data[:,1]>=frame_change))\n",
    "\n",
    "            properties['parent'][track1_change] = track_2\n",
    "            properties['parent'][track2_change] = track_1\n",
    "\n",
    "            # change info about the root\n",
    "            root1 = properties['root'][track1_change][0]\n",
    "            root2 = properties['root'][track2_change][0]\n",
    "\n",
    "            track1_change = ((properties['root']==root1) & (data[:,1]>=frame_change))\n",
    "            track2_change = ((properties['root']==root2) & (data[:,1]>=frame_change))\n",
    "\n",
    "            properties['root'][track1_change] = root2\n",
    "            properties['root'][track2_change] = root1\n",
    "\n",
    "            # change info about the generation\n",
    "            gen1 = properties['generation'][(properties['t']==(frame_change-1)) & (data[:,0]==track_1)]\n",
    "            gen2 = properties['generation'][(properties['t']==(frame_change-1)) & (data[:,0]==track_2)]\n",
    "\n",
    "            properties['generation'][track1_change] = properties['generation'][track1_change] + gen2 - gen1\n",
    "            properties['generation'][track2_change] = properties['generation'][track2_change] + gen1 - gen2\n",
    "\n",
    "\n",
    "\n",
    "            # update tracking data\n",
    "            viewer.layers['data'].data = data\n",
    "            viewer.layers['data'].properties = properties\n",
    "            viewer.layers['data'].graph = graph\n",
    "\n",
    "            # clean swap points\n",
    "            viewer.layers['swapPoints'].data = []\n",
    "\n",
    "            viewer.status='Tracks have been swapped.'\n",
    "\n",
    "        else:\n",
    "\n",
    "            viewer.status='Swap points are incorrect.'\n",
    "    else:\n",
    "\n",
    "        viewer.status='Swap points are incorrect.'"
   ]
  },
  {
   "cell_type": "code",
   "execution_count": null,
   "id": "32903889",
   "metadata": {},
   "outputs": [],
   "source": [
    "# fix update of the small stack to nothing (at the moment it keeps the old cell)"
   ]
  },
  {
   "cell_type": "code",
   "execution_count": null,
   "id": "53ca389f",
   "metadata": {},
   "outputs": [],
   "source": [
    "# move graphs from matplotlib to qt and add them vertical lines\n",
    "# add numbering of the frames to gallery"
   ]
  },
  {
   "cell_type": "code",
   "execution_count": null,
   "id": "5bb8367b",
   "metadata": {},
   "outputs": [],
   "source": [
    "# what to do with ghost objects"
   ]
  },
  {
   "cell_type": "code",
   "execution_count": null,
   "id": "b315eab7",
   "metadata": {},
   "outputs": [],
   "source": [
    "# key binding for linking function\n",
    "\n",
    "# check if parent have different offspring\n",
    "\n",
    "# no other offspring\n",
    "# connect points\n",
    "\n",
    "# other offspring\n",
    "# connect\n",
    "# add to the graph\n",
    "\n",
    "# what if objects didn;t"
   ]
  },
  {
   "cell_type": "code",
   "execution_count": null,
   "id": "8e305633",
   "metadata": {},
   "outputs": [],
   "source": [
    "# label image should probably become a float image"
   ]
  }
 ],
 "metadata": {
  "kernelspec": {
   "display_name": "Python 3",
   "language": "python",
   "name": "python3"
  },
  "language_info": {
   "codemirror_mode": {
    "name": "ipython",
    "version": 3
   },
   "file_extension": ".py",
   "mimetype": "text/x-python",
   "name": "python",
   "nbconvert_exporter": "python",
   "pygments_lexer": "ipython3",
   "version": "3.7.10"
  }
 },
 "nbformat": 4,
 "nbformat_minor": 5
}
