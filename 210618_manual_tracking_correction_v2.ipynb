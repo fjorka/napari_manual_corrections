{
 "cells": [
  {
   "cell_type": "code",
   "execution_count": 1,
   "id": "f49352f4",
   "metadata": {},
   "outputs": [],
   "source": [
    "import os\n",
    "import sys\n",
    "import time\n",
    "import napari\n",
    "import pickle\n",
    "import h5py\n",
    "import importlib\n",
    "import numpy as np\n",
    "import pandas as pd\n",
    "\n",
    "from napari import Viewer\n",
    "\n",
    "from skimage import measure\n",
    "from skimage.filters import threshold_otsu\n",
    "from skimage.segmentation import clear_border\n",
    "from skimage.morphology import white_tophat, disk\n",
    "\n",
    "from napari.qt.threading import thread_worker\n",
    "from matplotlib.backends.backend_qt5agg import FigureCanvas\n",
    "from matplotlib.figure import Figure\n",
    "\n",
    "from tifffile import imread,imsave,TiffFile\n",
    "import matplotlib.pyplot as plt\n",
    "import seaborn as sn\n",
    "\n",
    "from nd2reader import ND2Reader\n",
    "import btrack\n",
    "\n",
    "from magicgui import magicgui\n",
    "\n",
    "sys.path.append(r'D:\\imPy\\libraries') \n",
    "sys.path.append(r'D:\\BARC\\napari_tracking_manual')\n",
    "\n",
    "gallery_functions = importlib.import_module('gallery_functions')\n",
    "my_napari = importlib.import_module('napari_display_functions')\n",
    "fov_f = importlib.import_module('fovRingsLibrary')\n",
    "gen = importlib.import_module('general_functions')"
   ]
  },
  {
   "cell_type": "code",
   "execution_count": 59,
   "id": "28c56fe5",
   "metadata": {},
   "outputs": [
    {
     "data": {
      "text/plain": [
       "<module 'general_functions' from 'D:\\\\BARC\\\\napari_tracking_manual\\\\general_functions.py'>"
      ]
     },
     "execution_count": 59,
     "metadata": {},
     "output_type": "execute_result"
    }
   ],
   "source": [
    "importlib.reload(gallery_functions)\n",
    "importlib.reload(my_napari)\n",
    "importlib.reload(fov_f)\n",
    "importlib.reload(gen)"
   ]
  },
  {
   "cell_type": "code",
   "execution_count": 3,
   "id": "cfcf87fa",
   "metadata": {},
   "outputs": [],
   "source": [
    "myFov = '01'\n",
    "\n",
    "myDirIm = r'Z:\\Wayne\\20210618_RPE_p21_cycD1_DHB_H2B\\tiffs'\n",
    "\n",
    "# specify tracking channel\n",
    "myFile_track_im = f'20210618_RPE_p21_cycD1_DHB_H2B_series_{myFov}_ch_01.tif'\n",
    "track_intensity = 'intensity_01_nuc_corr' # name of the column\n",
    "\n",
    "# specify additional channels\n",
    "myFile_signal_im = [f'20210618_RPE_p21_cycD1_DHB_H2B_series_{myFov}_ch_02.tif',\n",
    "                    f'20210618_RPE_p21_cycD1_DHB_H2B_series_{myFov}_ch_03.tif',\n",
    "                   f'20210618_RPE_p21_cycD1_DHB_H2B_series_{myFov}_ch_04.tif']\n",
    "\n",
    "colors_list = ['red','green','magenta']\n",
    "names_list = ['DHB','cyclinD','p21']\n",
    "\n",
    "# specify columns to plot\n",
    "to_plot_signals = ['DHB_ratio','intensity_03_nuc_corr','intensity_04_nuc_corr','cyc_D_over_p21'] # name of the column\n",
    "to_plot_names = ['DHB_ratio [cyt/nuc]','cyclinD','p21','Cyclin D/p21 (mean)']\n",
    "to_plot_colors = ['red','green','blue','black']\n",
    "\n",
    "\n",
    "myDirTracks = r'Z:\\Wayne\\20210618_RPE_p21_cycD1_DHB_H2B\\tracking'\n",
    "myDirTracks = os.path.join(myDirTracks,myFov)\n",
    "dfDir = r'Z:\\Wayne\\20210618_RPE_p21_cycD1_DHB_H2B\\tracking'\n",
    "dfDir = os.path.join(dfDir,f'{myFov}_napari')"
   ]
  },
  {
   "cell_type": "code",
   "execution_count": 4,
   "id": "5438524f",
   "metadata": {},
   "outputs": [],
   "source": [
    "modelPath = r'D:\\BARC\\Sonja_2021\\b_track\\cell_config.json'\n",
    "\n",
    "btrack_init_path = os.path.join(dfDir,f'{myFov}_tracks_init.h5')\n",
    "btrack_mod_path = os.path.join(dfDir,f'{myFov}_tracks_mod.h5')"
   ]
  },
  {
   "cell_type": "markdown",
   "id": "5930f0d4",
   "metadata": {},
   "source": [
    "## Read in the tracking channel"
   ]
  },
  {
   "cell_type": "code",
   "execution_count": 5,
   "id": "d809782d",
   "metadata": {},
   "outputs": [
    {
     "name": "stdout",
     "output_type": "stream",
     "text": [
      "Wall time: 50.6 s\n"
     ]
    }
   ],
   "source": [
    "%%time\n",
    "\n",
    "# read in image\n",
    "myIm = imread(os.path.join(myDirIm,myFile_track_im))"
   ]
  },
  {
   "cell_type": "markdown",
   "id": "296f85d4",
   "metadata": {},
   "source": [
    "## Read in signal channels"
   ]
  },
  {
   "cell_type": "code",
   "execution_count": 6,
   "id": "a91d448f",
   "metadata": {},
   "outputs": [
    {
     "name": "stdout",
     "output_type": "stream",
     "text": [
      "Wall time: 2min 32s\n"
     ]
    }
   ],
   "source": [
    "%%time\n",
    "\n",
    "myIm_signal_list = []\n",
    "# read in additional signal images\n",
    "for myFile in myFile_signal_im:\n",
    "    temp = imread(os.path.join(myDirIm,myFile))\n",
    "    myIm_signal_list.append(temp)"
   ]
  },
  {
   "cell_type": "markdown",
   "id": "560fa163",
   "metadata": {},
   "source": [
    "## Read in tracks in a form of labels"
   ]
  },
  {
   "cell_type": "code",
   "execution_count": 7,
   "id": "daaebf83",
   "metadata": {},
   "outputs": [
    {
     "name": "stdout",
     "output_type": "stream",
     "text": [
      "Wall time: 1min 21s\n"
     ]
    }
   ],
   "source": [
    "%%time\n",
    "\n",
    "# read in labels as tracks\n",
    "myLabels =[]\n",
    "\n",
    "fovFiles = [x for x in os.listdir(myDirTracks) if f'series_{myFov}_' in x]\n",
    "\n",
    "for myFile in fovFiles:\n",
    "    \n",
    "    # read a mask\n",
    "    labels = imread(os.path.join(myDirTracks,myFile))\n",
    "    \n",
    "    myLabels.append(labels)\n",
    "    \n",
    "myLabels = np.array(myLabels)"
   ]
  },
  {
   "cell_type": "markdown",
   "id": "5fae2cda",
   "metadata": {},
   "source": [
    "## Get latest tracking"
   ]
  },
  {
   "cell_type": "code",
   "execution_count": 8,
   "id": "f46fd875",
   "metadata": {},
   "outputs": [
    {
     "name": "stdout",
     "output_type": "stream",
     "text": [
      "Opening original tracking.\n"
     ]
    }
   ],
   "source": [
    "# check if modified tracking exists\n",
    "\n",
    "try:\n",
    "    f = open(btrack_mod_path.replace('h5','pkl'),'rb')\n",
    "    \n",
    "    print('Opening corrected tracking.')\n",
    "\n",
    "except(FileNotFoundError):\n",
    "  \n",
    "    f = open(btrack_init_path.replace('h5','pkl'),'rb')\n",
    "    print('Opening original tracking.')\n",
    "\n",
    "data, properties, graph = pickle.load(f)"
   ]
  },
  {
   "cell_type": "markdown",
   "id": "476883fb",
   "metadata": {},
   "source": [
    "## Get the full data frame"
   ]
  },
  {
   "cell_type": "code",
   "execution_count": 9,
   "id": "cb192116",
   "metadata": {},
   "outputs": [],
   "source": [
    "cellDataAll=pd.read_pickle(os.path.join(dfDir,f'cellPose_btrack_regionprops_bck_{myFov}.pkl'))\n",
    "cellDataAll.drop(['file','x','y'],axis=1,inplace=True)"
   ]
  },
  {
   "cell_type": "code",
   "execution_count": 10,
   "id": "8c174de8",
   "metadata": {},
   "outputs": [],
   "source": [
    "# create an array for visualization of accepted points\n",
    "selData=cellDataAll.loc[cellDataAll.accepted==True,:]\n",
    "acceptedPoints = np.array([selData['t'],selData['centroid-0'],selData['centroid-1']]).T "
   ]
  },
  {
   "cell_type": "code",
   "execution_count": 11,
   "id": "ba11dfc8",
   "metadata": {},
   "outputs": [
    {
     "data": {
      "text/html": [
       "<div>\n",
       "<style scoped>\n",
       "    .dataframe tbody tr th:only-of-type {\n",
       "        vertical-align: middle;\n",
       "    }\n",
       "\n",
       "    .dataframe tbody tr th {\n",
       "        vertical-align: top;\n",
       "    }\n",
       "\n",
       "    .dataframe thead th {\n",
       "        text-align: right;\n",
       "    }\n",
       "</style>\n",
       "<table border=\"1\" class=\"dataframe\">\n",
       "  <thead>\n",
       "    <tr style=\"text-align: right;\">\n",
       "      <th></th>\n",
       "      <th>label</th>\n",
       "      <th>area</th>\n",
       "      <th>centroid-0</th>\n",
       "      <th>centroid-1</th>\n",
       "      <th>orientation</th>\n",
       "      <th>major_axis_length</th>\n",
       "      <th>minor_axis_length</th>\n",
       "      <th>bbox-0</th>\n",
       "      <th>bbox-1</th>\n",
       "      <th>bbox-2</th>\n",
       "      <th>...</th>\n",
       "      <th>intensity_02_nuc_corr</th>\n",
       "      <th>intensity_02_ring_corr</th>\n",
       "      <th>background_03</th>\n",
       "      <th>intensity_03_nuc_corr</th>\n",
       "      <th>intensity_03_ring_corr</th>\n",
       "      <th>background_04</th>\n",
       "      <th>intensity_04_nuc_corr</th>\n",
       "      <th>intensity_04_ring_corr</th>\n",
       "      <th>DHB_ratio</th>\n",
       "      <th>cyc_D_over_p21</th>\n",
       "    </tr>\n",
       "  </thead>\n",
       "  <tbody>\n",
       "    <tr>\n",
       "      <th>0</th>\n",
       "      <td>1.0</td>\n",
       "      <td>353.0</td>\n",
       "      <td>7.277620</td>\n",
       "      <td>2400.410765</td>\n",
       "      <td>-1.410806</td>\n",
       "      <td>25.969168</td>\n",
       "      <td>18.036581</td>\n",
       "      <td>0.0</td>\n",
       "      <td>2388.0</td>\n",
       "      <td>18.0</td>\n",
       "      <td>...</td>\n",
       "      <td>1205.090791</td>\n",
       "      <td>227.170204</td>\n",
       "      <td>748.129512</td>\n",
       "      <td>227.595700</td>\n",
       "      <td>33.141729</td>\n",
       "      <td>1934.079928</td>\n",
       "      <td>-41.558682</td>\n",
       "      <td>-31.655091</td>\n",
       "      <td>0.188509</td>\n",
       "      <td>-5.476490</td>\n",
       "    </tr>\n",
       "    <tr>\n",
       "      <th>1</th>\n",
       "      <td>2.0</td>\n",
       "      <td>632.0</td>\n",
       "      <td>26.928797</td>\n",
       "      <td>1711.330696</td>\n",
       "      <td>-0.934733</td>\n",
       "      <td>30.203461</td>\n",
       "      <td>26.730650</td>\n",
       "      <td>13.0</td>\n",
       "      <td>1697.0</td>\n",
       "      <td>42.0</td>\n",
       "      <td>...</td>\n",
       "      <td>322.688395</td>\n",
       "      <td>388.158446</td>\n",
       "      <td>748.129512</td>\n",
       "      <td>59.300867</td>\n",
       "      <td>29.218314</td>\n",
       "      <td>1934.079928</td>\n",
       "      <td>-27.586257</td>\n",
       "      <td>-14.976667</td>\n",
       "      <td>1.202889</td>\n",
       "      <td>-2.149653</td>\n",
       "    </tr>\n",
       "    <tr>\n",
       "      <th>2</th>\n",
       "      <td>3.0</td>\n",
       "      <td>511.0</td>\n",
       "      <td>29.324853</td>\n",
       "      <td>2736.291585</td>\n",
       "      <td>-1.315686</td>\n",
       "      <td>38.273719</td>\n",
       "      <td>17.379927</td>\n",
       "      <td>19.0</td>\n",
       "      <td>2717.0</td>\n",
       "      <td>39.0</td>\n",
       "      <td>...</td>\n",
       "      <td>246.690931</td>\n",
       "      <td>27.343267</td>\n",
       "      <td>748.129512</td>\n",
       "      <td>231.623912</td>\n",
       "      <td>52.668360</td>\n",
       "      <td>1934.079928</td>\n",
       "      <td>7.828095</td>\n",
       "      <td>-15.663261</td>\n",
       "      <td>0.110840</td>\n",
       "      <td>29.588795</td>\n",
       "    </tr>\n",
       "    <tr>\n",
       "      <th>3</th>\n",
       "      <td>4.0</td>\n",
       "      <td>555.0</td>\n",
       "      <td>49.800000</td>\n",
       "      <td>1879.099099</td>\n",
       "      <td>-1.228809</td>\n",
       "      <td>30.717216</td>\n",
       "      <td>23.097163</td>\n",
       "      <td>38.0</td>\n",
       "      <td>1865.0</td>\n",
       "      <td>62.0</td>\n",
       "      <td>...</td>\n",
       "      <td>105.312157</td>\n",
       "      <td>127.468386</td>\n",
       "      <td>748.129512</td>\n",
       "      <td>16.958776</td>\n",
       "      <td>-6.331781</td>\n",
       "      <td>1934.079928</td>\n",
       "      <td>-63.663712</td>\n",
       "      <td>-66.399399</td>\n",
       "      <td>1.210386</td>\n",
       "      <td>-0.266381</td>\n",
       "    </tr>\n",
       "    <tr>\n",
       "      <th>4</th>\n",
       "      <td>5.0</td>\n",
       "      <td>423.0</td>\n",
       "      <td>56.040189</td>\n",
       "      <td>286.456265</td>\n",
       "      <td>-1.239673</td>\n",
       "      <td>30.591690</td>\n",
       "      <td>17.750233</td>\n",
       "      <td>46.0</td>\n",
       "      <td>273.0</td>\n",
       "      <td>66.0</td>\n",
       "      <td>...</td>\n",
       "      <td>369.661234</td>\n",
       "      <td>66.441352</td>\n",
       "      <td>748.129512</td>\n",
       "      <td>238.402402</td>\n",
       "      <td>39.864340</td>\n",
       "      <td>1934.079928</td>\n",
       "      <td>-22.744231</td>\n",
       "      <td>-18.465174</td>\n",
       "      <td>0.179736</td>\n",
       "      <td>-10.481885</td>\n",
       "    </tr>\n",
       "  </tbody>\n",
       "</table>\n",
       "<p>5 rows × 42 columns</p>\n",
       "</div>"
      ],
      "text/plain": [
       "   label   area  centroid-0   centroid-1  orientation  major_axis_length  \\\n",
       "0    1.0  353.0    7.277620  2400.410765    -1.410806          25.969168   \n",
       "1    2.0  632.0   26.928797  1711.330696    -0.934733          30.203461   \n",
       "2    3.0  511.0   29.324853  2736.291585    -1.315686          38.273719   \n",
       "3    4.0  555.0   49.800000  1879.099099    -1.228809          30.717216   \n",
       "4    5.0  423.0   56.040189   286.456265    -1.239673          30.591690   \n",
       "\n",
       "   minor_axis_length  bbox-0  bbox-1  bbox-2  ...  intensity_02_nuc_corr  \\\n",
       "0          18.036581     0.0  2388.0    18.0  ...            1205.090791   \n",
       "1          26.730650    13.0  1697.0    42.0  ...             322.688395   \n",
       "2          17.379927    19.0  2717.0    39.0  ...             246.690931   \n",
       "3          23.097163    38.0  1865.0    62.0  ...             105.312157   \n",
       "4          17.750233    46.0   273.0    66.0  ...             369.661234   \n",
       "\n",
       "  intensity_02_ring_corr  background_03  intensity_03_nuc_corr  \\\n",
       "0             227.170204     748.129512             227.595700   \n",
       "1             388.158446     748.129512              59.300867   \n",
       "2              27.343267     748.129512             231.623912   \n",
       "3             127.468386     748.129512              16.958776   \n",
       "4              66.441352     748.129512             238.402402   \n",
       "\n",
       "   intensity_03_ring_corr  background_04  intensity_04_nuc_corr  \\\n",
       "0               33.141729    1934.079928             -41.558682   \n",
       "1               29.218314    1934.079928             -27.586257   \n",
       "2               52.668360    1934.079928               7.828095   \n",
       "3               -6.331781    1934.079928             -63.663712   \n",
       "4               39.864340    1934.079928             -22.744231   \n",
       "\n",
       "   intensity_04_ring_corr  DHB_ratio  cyc_D_over_p21  \n",
       "0              -31.655091   0.188509       -5.476490  \n",
       "1              -14.976667   1.202889       -2.149653  \n",
       "2              -15.663261   0.110840       29.588795  \n",
       "3              -66.399399   1.210386       -0.266381  \n",
       "4              -18.465174   0.179736      -10.481885  \n",
       "\n",
       "[5 rows x 42 columns]"
      ]
     },
     "execution_count": 11,
     "metadata": {},
     "output_type": "execute_result"
    }
   ],
   "source": [
    "cellDataAll.head()"
   ]
  },
  {
   "cell_type": "code",
   "execution_count": 31,
   "id": "11204f0c",
   "metadata": {},
   "outputs": [],
   "source": [
    "cellDataAll = cellDataAll.sort_values(by=['track_id','t'])"
   ]
  },
  {
   "cell_type": "code",
   "execution_count": 60,
   "id": "5631bbfb",
   "metadata": {},
   "outputs": [
    {
     "name": "stdout",
     "output_type": "stream",
     "text": [
      "Wall time: 49 ms\n"
     ]
    }
   ],
   "source": [
    "%%time\n",
    "# generate data for the tracking layer\n",
    "data,properties,graph = gen.trackData_from_df(cellDataAll)"
   ]
  },
  {
   "cell_type": "markdown",
   "id": "521c6322",
   "metadata": {},
   "source": [
    "## Main viewer"
   ]
  },
  {
   "cell_type": "code",
   "execution_count": 61,
   "id": "3e02ba9b",
   "metadata": {},
   "outputs": [],
   "source": [
    "viewer = napari.Viewer()\n",
    "\n",
    "# tracking layers\n",
    "viewer.add_image(myIm,colormap='gray',contrast_limits=(0, 2000),opacity = 1)\n",
    "\n",
    "track_layer=viewer.add_tracks(data, properties=properties, graph=graph,name='tracking')\n",
    "track_layer.display_id=True\n",
    "\n",
    "layer_inProgress = viewer.add_labels(myLabels,name='objects',opacity = 0.5)\n",
    "\n",
    "# signal layers\n",
    "for myIm_signal,myColor,myName in zip(myIm_signal_list,colors_list,names_list):\n",
    "    viewer.add_image(myIm_signal,colormap=myColor,contrast_limits=(0, 4000),opacity = 1,visible=False,name = myName)\n",
    "\n",
    "# helper layers\n",
    "layer_accepted = viewer.add_points(acceptedPoints,name='accepted objects',face_color='green', opacity =0.5, ndim=3)\n",
    "layer_mod = viewer.add_points([],name='modPoints',face_color='red',ndim=3)"
   ]
  },
  {
   "cell_type": "code",
   "execution_count": 347,
   "id": "cdf12ba9",
   "metadata": {},
   "outputs": [],
   "source": [
    "def find_all_paths(graph, node, path=[]):\n",
    "    \n",
    "    path = path + [node]\n",
    "    paths = [path]\n",
    "    \n",
    "    offspring_list = []\n",
    "    for key, value in graph.items():   # iter on both keys and values\n",
    "            if (value == [node]):\n",
    "                offspring_list.append(key)\n",
    "    \n",
    "    for node in offspring_list:\n",
    "        newpaths = find_all_paths(graph, node, path)\n",
    "        for newpath in newpaths:\n",
    "            paths.append(newpath)\n",
    "            \n",
    "    return paths"
   ]
  },
  {
   "cell_type": "code",
   "execution_count": 365,
   "id": "d7658d10",
   "metadata": {},
   "outputs": [
    {
     "name": "stdout",
     "output_type": "stream",
     "text": [
      "Wall time: 297 ms\n"
     ]
    }
   ],
   "source": [
    "%%time\n",
    "\n",
    "# development of cutting of a track\n",
    "\n",
    "# get the position in time\n",
    "myT = viewer.dims.current_step[0]\n",
    "\n",
    "# get my label\n",
    "myLabel = layer_inProgress.selected_label\n",
    "\n",
    "# find new track number\n",
    "newTrack = gen.newTrack_number(cellDataAll.track_id)\n",
    "\n",
    "#####################################################################\n",
    "# change labels layer\n",
    "#####################################################################\n",
    "# look up stop frame\n",
    "stopFrame = int(np.max(data[data[:,0]==myLabel,1]))\n",
    "\n",
    "orgImShape = myLabels.shape\n",
    "\n",
    "\n",
    "for myInd in np.where(data[:,0]==myLabel)[0]:\n",
    "\n",
    "    x = int(data[myInd,2])\n",
    "    y = int(data[myInd,3])\n",
    "    myFrame = int(data[myInd,1])  \n",
    "\n",
    "    # calculate cut parameters\n",
    "    row_start,row_stop,column_start,column_stop,row_in_start,row_in_stop,column_in_start,column_in_stop = gallery_functions.calculate_cut(100,orgImShape,x,y) \n",
    "\n",
    "\n",
    "    temp = myLabels[myFrame,row_start:row_stop,column_start:column_stop]\n",
    "    temp[temp == myLabel] = newTrack\n",
    "    \n",
    "    myLabels[myFrame,row_start:row_stop,column_start:column_stop] = temp\n",
    "    \n",
    "layer_inProgress.data = myLabels\n",
    "\n",
    "########################################################\n",
    "# modify data frame\n",
    "########################################################\n",
    "# find info about the cut track\n",
    "myLabel_generation = list(cellDataAll.loc[cellDataAll.track_id==myLabel,'generation'].drop_duplicates())[0]\n",
    "\n",
    "# find kids\n",
    "kids_list = []\n",
    "for key, value in graph.items():   # iter on both keys and values\n",
    "        if (value == [myLabel]):\n",
    "            kids_list.append(key)\n",
    "\n",
    "# find all family members\n",
    "all_paths = find_all_paths(graph, myLabel)\n",
    "family_members = [item for sublist in all_paths for item in sublist]\n",
    "\n",
    "for myDescendant in family_members:\n",
    "    \n",
    "    # find which rows need to be changed\n",
    "    changeIndex = (cellDataAll.t>=myT) & (cellDataAll.track_id==myDescendant)\n",
    "    \n",
    "    cellDataAll.loc[changeIndex,'root'] = newTrack\n",
    "    cellDataAll.loc[changeIndex,'generation'] = cellDataAll.loc[changeIndex,'generation'] - myLabel_generation\n",
    "    \n",
    "    if(myDescendant == myLabel):\n",
    "    \n",
    "        cellDataAll.loc[changeIndex,'track_id'] = newTrack\n",
    "        cellDataAll.loc[changeIndex,'parent'] = newTrack\n",
    "          \n",
    "    elif (myDescendant in kids_list): #2nd generation\n",
    "        \n",
    "        cellDataAll.loc[changeIndex,'parent'] = newTrack\n",
    "'''     \n",
    "#####################################################################\n",
    "# change tracking layer\n",
    "#####################################################################\n",
    "\n",
    "# get current status of a tracking layer\n",
    "data = viewer.layers['tracking'].data\n",
    "properties = viewer.layers['tracking'].properties\n",
    "\n",
    "# modify the data for the layer\n",
    "data, properties = gen.mod_trackLayer(data,properties,cellDataAll,myT,myLabel)\n",
    "\n",
    "# change tracks layer\n",
    "viewer.layers['tracking'].data = data\n",
    "viewer.layers['tracking'].properties = properties\n",
    "\n",
    "'''   \n",
    "########################################################\n",
    "# change viewer status\n",
    "########################################################\n",
    "viewer.status = f'Track {myLabel} was cut at frame {myT}.' "
   ]
  },
  {
   "cell_type": "code",
   "execution_count": 13,
   "id": "8bb7c07e",
   "metadata": {},
   "outputs": [
    {
     "name": "stdout",
     "output_type": "stream",
     "text": [
      "Wall time: 36 ms\n"
     ]
    }
   ],
   "source": [
    "%%time\n",
    "\n",
    "# get the position in time\n",
    "myT = viewer.dims.current_step[0]\n",
    "\n",
    "# get my label\n",
    "myLabel = layer_inProgress.selected_label\n",
    "\n",
    "# find new track number\n",
    "newTrack = gen.newTrack_number(cellDataAll.track_id)\n",
    "\n",
    "# find position of this cell in the tracking data structure\n",
    "changeIndex = ((data[:,1]>=myT) & (data[:,0]==myLabel))\n",
    "\n",
    "data[changeIndex,0] = newTrack"
   ]
  },
  {
   "cell_type": "code",
   "execution_count": 30,
   "id": "06c55e9d",
   "metadata": {},
   "outputs": [
    {
     "name": "stdout",
     "output_type": "stream",
     "text": [
      "Wall time: 605 ms\n"
     ]
    }
   ],
   "source": [
    "%%time\n",
    "track_layer.data = data\n",
    "track_layer.properties = properties"
   ]
  },
  {
   "cell_type": "code",
   "execution_count": 29,
   "id": "3555ff81",
   "metadata": {},
   "outputs": [
    {
     "name": "stdout",
     "output_type": "stream",
     "text": [
      "Wall time: 50.9 ms\n"
     ]
    }
   ],
   "source": [
    "%%time\n",
    "\n",
    "# get data and properties from the data frame into a tracking layer forma\n",
    "\n",
    "cellDataAll = cellDataAll.sort_values(by=['track_id','t'])\n",
    "data_df = np.array(cellDataAll.loc[:,['track_id','t','centroid-0','centroid-1']])\n",
    "selVector = (data_df[:,0]==data_df[:,0])\n",
    "data_df = data_df[selVector,:] # drop objects that don't belong to tracks\n",
    "data_df[:,0]=data_df[:,0].astype(int)\n",
    "data_df[:,1]=data_df[:,1].astype(int)\n",
    "\n",
    "prop_prop = ['t', 'generation', 'root', 'parent', 'minor_axis_length', 'major_axis_length', 'area']\n",
    "\n",
    "for tProp in prop_prop:\n",
    "\n",
    "    properties[tProp] = cellDataAll.loc[selVector,tProp]\n",
    "\n",
    "properties['state'] = [5]*len(properties['t'])"
   ]
  },
  {
   "cell_type": "code",
   "execution_count": 28,
   "id": "b80ae62f",
   "metadata": {},
   "outputs": [
    {
     "name": "stdout",
     "output_type": "stream",
     "text": [
      "Wall time: 10 ms\n"
     ]
    }
   ],
   "source": [
    "%%time\n",
    "\n",
    "prop_prop = ['t', 'generation', 'root', 'parent', 'minor_axis_length', 'major_axis_length', 'area']\n",
    "\n",
    "for tProp in prop_prop:\n",
    "\n",
    "    properties[tProp] = cellDataAll.loc[selVector,tProp]\n",
    "\n",
    "properties['state'] = [5]*len(properties['t'])"
   ]
  },
  {
   "cell_type": "code",
   "execution_count": 27,
   "id": "e273dfd9",
   "metadata": {},
   "outputs": [
    {
     "data": {
      "text/plain": [
       "[5, 5, 5, 5, 5, 5, 5, 5, 5, 5]"
      ]
     },
     "execution_count": 27,
     "metadata": {},
     "output_type": "execute_result"
    }
   ],
   "source": [
    "[5]*10"
   ]
  },
  {
   "cell_type": "code",
   "execution_count": 22,
   "id": "8c75b35a",
   "metadata": {},
   "outputs": [
    {
     "data": {
      "text/plain": [
       "{'t': array([  0,   1,   2, ..., 360, 360, 360]),\n",
       " 'state': array([5, 5, 5, ..., 5, 5, 5]),\n",
       " 'generation': array([0, 0, 0, ..., 0, 0, 0]),\n",
       " 'root': array([   1,    1,    1, ..., 2766, 2767, 2768]),\n",
       " 'parent': array([   1,    1,    1, ..., 2766, 2767, 2768]),\n",
       " 'minor_axis_length': array([24.94230475, 25.81359078, 26.75985249, ..., 18.634833  ,\n",
       "        19.11165778, 22.10400083]),\n",
       " 'major_axis_length': array([36.3822781 , 37.74096622, 37.64097934, ..., 31.63611169,\n",
       "        22.73494965, 23.28040989]),\n",
       " 'area': array([708., 763., 788., ..., 461., 338., 401.])}"
      ]
     },
     "execution_count": 22,
     "metadata": {},
     "output_type": "execute_result"
    }
   ],
   "source": [
    "properties"
   ]
  },
  {
   "cell_type": "code",
   "execution_count": 23,
   "id": "656e13e7",
   "metadata": {},
   "outputs": [
    {
     "data": {
      "text/plain": [
       "Index(['label', 'area', 'centroid-0', 'centroid-1', 'orientation',\n",
       "       'major_axis_length', 'minor_axis_length', 'bbox-0', 'bbox-1', 'bbox-2',\n",
       "       'bbox-3', 'image', 'mean_intensity-0_nuc', 'mean_intensity-1_nuc',\n",
       "       'mean_intensity-2_nuc', 'mean_intensity-3_nuc', 't', 'centroid-0_ring',\n",
       "       'centroid-1_ring', 'mean_intensity-0_ring', 'mean_intensity-1_ring',\n",
       "       'mean_intensity-2_ring', 'mean_intensity-3_ring', 'track_id', 'parent',\n",
       "       'generation', 'root', 'accepted', 'background_01',\n",
       "       'intensity_01_nuc_corr', 'intensity_01_ring_corr', 'background_02',\n",
       "       'intensity_02_nuc_corr', 'intensity_02_ring_corr', 'background_03',\n",
       "       'intensity_03_nuc_corr', 'intensity_03_ring_corr', 'background_04',\n",
       "       'intensity_04_nuc_corr', 'intensity_04_ring_corr', 'DHB_ratio',\n",
       "       'cyc_D_over_p21'],\n",
       "      dtype='object')"
      ]
     },
     "execution_count": 23,
     "metadata": {},
     "output_type": "execute_result"
    }
   ],
   "source": [
    "cellDataAll.columns"
   ]
  },
  {
   "cell_type": "code",
   "execution_count": 16,
   "id": "1ab4b721",
   "metadata": {},
   "outputs": [
    {
     "name": "stdout",
     "output_type": "stream",
     "text": [
      "Wall time: 699 ms\n"
     ]
    }
   ],
   "source": [
    "\n",
    "\n",
    "\n",
    "# change tracks layer\n",
    "track_layer.data=data_df\n",
    "#viewer.layers['tracking'].properties = properties"
   ]
  },
  {
   "cell_type": "code",
   "execution_count": 60,
   "id": "952824ba",
   "metadata": {},
   "outputs": [
    {
     "data": {
      "text/plain": [
       "(67803, 4)"
      ]
     },
     "execution_count": 60,
     "metadata": {},
     "output_type": "execute_result"
    }
   ],
   "source": [
    "data.shape"
   ]
  },
  {
   "cell_type": "code",
   "execution_count": 71,
   "id": "e4be057b",
   "metadata": {},
   "outputs": [
    {
     "data": {
      "text/plain": [
       "1.0"
      ]
     },
     "execution_count": 71,
     "metadata": {},
     "output_type": "execute_result"
    }
   ],
   "source": [
    "np.min(cellDataAll.track_id)"
   ]
  },
  {
   "cell_type": "code",
   "execution_count": 79,
   "id": "a6a9d3b0",
   "metadata": {},
   "outputs": [
    {
     "data": {
      "text/plain": [
       "1.0"
      ]
     },
     "execution_count": 79,
     "metadata": {},
     "output_type": "execute_result"
    }
   ],
   "source": [
    "np.min(data_df[:,0])"
   ]
  },
  {
   "cell_type": "code",
   "execution_count": 30,
   "id": "612197b9",
   "metadata": {},
   "outputs": [
    {
     "ename": "ValueError",
     "evalue": "('Lengths must match to compare', (65525,), (67803,))",
     "output_type": "error",
     "traceback": [
      "\u001b[1;31m---------------------------------------------------------------------------\u001b[0m",
      "\u001b[1;31mValueError\u001b[0m                                Traceback (most recent call last)",
      "\u001b[1;32m<ipython-input-30-ef885a94d9f6>\u001b[0m in \u001b[0;36m<module>\u001b[1;34m\u001b[0m\n\u001b[1;32m----> 1\u001b[1;33m \u001b[0mnp\u001b[0m\u001b[1;33m.\u001b[0m\u001b[0msum\u001b[0m\u001b[1;33m(\u001b[0m\u001b[0mcellDataAll\u001b[0m\u001b[1;33m[\u001b[0m\u001b[1;34m'track_id'\u001b[0m\u001b[1;33m]\u001b[0m \u001b[1;33m==\u001b[0m \u001b[0mdata\u001b[0m\u001b[1;33m[\u001b[0m\u001b[1;33m:\u001b[0m\u001b[1;33m,\u001b[0m\u001b[1;36m0\u001b[0m\u001b[1;33m]\u001b[0m\u001b[1;33m)\u001b[0m\u001b[1;33m\u001b[0m\u001b[1;33m\u001b[0m\u001b[0m\n\u001b[0m",
      "\u001b[1;32mC:\\ProgramData\\Anaconda3\\envs\\cellpose\\lib\\site-packages\\pandas\\core\\ops\\common.py\u001b[0m in \u001b[0;36mnew_method\u001b[1;34m(self, other)\u001b[0m\n\u001b[0;32m     63\u001b[0m         \u001b[0mother\u001b[0m \u001b[1;33m=\u001b[0m \u001b[0mitem_from_zerodim\u001b[0m\u001b[1;33m(\u001b[0m\u001b[0mother\u001b[0m\u001b[1;33m)\u001b[0m\u001b[1;33m\u001b[0m\u001b[1;33m\u001b[0m\u001b[0m\n\u001b[0;32m     64\u001b[0m \u001b[1;33m\u001b[0m\u001b[0m\n\u001b[1;32m---> 65\u001b[1;33m         \u001b[1;32mreturn\u001b[0m \u001b[0mmethod\u001b[0m\u001b[1;33m(\u001b[0m\u001b[0mself\u001b[0m\u001b[1;33m,\u001b[0m \u001b[0mother\u001b[0m\u001b[1;33m)\u001b[0m\u001b[1;33m\u001b[0m\u001b[1;33m\u001b[0m\u001b[0m\n\u001b[0m\u001b[0;32m     66\u001b[0m \u001b[1;33m\u001b[0m\u001b[0m\n\u001b[0;32m     67\u001b[0m     \u001b[1;32mreturn\u001b[0m \u001b[0mnew_method\u001b[0m\u001b[1;33m\u001b[0m\u001b[1;33m\u001b[0m\u001b[0m\n",
      "\u001b[1;32mC:\\ProgramData\\Anaconda3\\envs\\cellpose\\lib\\site-packages\\pandas\\core\\arraylike.py\u001b[0m in \u001b[0;36m__eq__\u001b[1;34m(self, other)\u001b[0m\n\u001b[0;32m     27\u001b[0m     \u001b[1;33m@\u001b[0m\u001b[0munpack_zerodim_and_defer\u001b[0m\u001b[1;33m(\u001b[0m\u001b[1;34m\"__eq__\"\u001b[0m\u001b[1;33m)\u001b[0m\u001b[1;33m\u001b[0m\u001b[1;33m\u001b[0m\u001b[0m\n\u001b[0;32m     28\u001b[0m     \u001b[1;32mdef\u001b[0m \u001b[0m__eq__\u001b[0m\u001b[1;33m(\u001b[0m\u001b[0mself\u001b[0m\u001b[1;33m,\u001b[0m \u001b[0mother\u001b[0m\u001b[1;33m)\u001b[0m\u001b[1;33m:\u001b[0m\u001b[1;33m\u001b[0m\u001b[1;33m\u001b[0m\u001b[0m\n\u001b[1;32m---> 29\u001b[1;33m         \u001b[1;32mreturn\u001b[0m \u001b[0mself\u001b[0m\u001b[1;33m.\u001b[0m\u001b[0m_cmp_method\u001b[0m\u001b[1;33m(\u001b[0m\u001b[0mother\u001b[0m\u001b[1;33m,\u001b[0m \u001b[0moperator\u001b[0m\u001b[1;33m.\u001b[0m\u001b[0meq\u001b[0m\u001b[1;33m)\u001b[0m\u001b[1;33m\u001b[0m\u001b[1;33m\u001b[0m\u001b[0m\n\u001b[0m\u001b[0;32m     30\u001b[0m \u001b[1;33m\u001b[0m\u001b[0m\n\u001b[0;32m     31\u001b[0m     \u001b[1;33m@\u001b[0m\u001b[0munpack_zerodim_and_defer\u001b[0m\u001b[1;33m(\u001b[0m\u001b[1;34m\"__ne__\"\u001b[0m\u001b[1;33m)\u001b[0m\u001b[1;33m\u001b[0m\u001b[1;33m\u001b[0m\u001b[0m\n",
      "\u001b[1;32mC:\\ProgramData\\Anaconda3\\envs\\cellpose\\lib\\site-packages\\pandas\\core\\series.py\u001b[0m in \u001b[0;36m_cmp_method\u001b[1;34m(self, other, op)\u001b[0m\n\u001b[0;32m   4976\u001b[0m         \u001b[0mrvalues\u001b[0m \u001b[1;33m=\u001b[0m \u001b[0mextract_array\u001b[0m\u001b[1;33m(\u001b[0m\u001b[0mother\u001b[0m\u001b[1;33m,\u001b[0m \u001b[0mextract_numpy\u001b[0m\u001b[1;33m=\u001b[0m\u001b[1;32mTrue\u001b[0m\u001b[1;33m)\u001b[0m\u001b[1;33m\u001b[0m\u001b[1;33m\u001b[0m\u001b[0m\n\u001b[0;32m   4977\u001b[0m \u001b[1;33m\u001b[0m\u001b[0m\n\u001b[1;32m-> 4978\u001b[1;33m         \u001b[0mres_values\u001b[0m \u001b[1;33m=\u001b[0m \u001b[0mops\u001b[0m\u001b[1;33m.\u001b[0m\u001b[0mcomparison_op\u001b[0m\u001b[1;33m(\u001b[0m\u001b[0mlvalues\u001b[0m\u001b[1;33m,\u001b[0m \u001b[0mrvalues\u001b[0m\u001b[1;33m,\u001b[0m \u001b[0mop\u001b[0m\u001b[1;33m)\u001b[0m\u001b[1;33m\u001b[0m\u001b[1;33m\u001b[0m\u001b[0m\n\u001b[0m\u001b[0;32m   4979\u001b[0m \u001b[1;33m\u001b[0m\u001b[0m\n\u001b[0;32m   4980\u001b[0m         \u001b[1;32mreturn\u001b[0m \u001b[0mself\u001b[0m\u001b[1;33m.\u001b[0m\u001b[0m_construct_result\u001b[0m\u001b[1;33m(\u001b[0m\u001b[0mres_values\u001b[0m\u001b[1;33m,\u001b[0m \u001b[0mname\u001b[0m\u001b[1;33m=\u001b[0m\u001b[0mres_name\u001b[0m\u001b[1;33m)\u001b[0m\u001b[1;33m\u001b[0m\u001b[1;33m\u001b[0m\u001b[0m\n",
      "\u001b[1;32mC:\\ProgramData\\Anaconda3\\envs\\cellpose\\lib\\site-packages\\pandas\\core\\ops\\array_ops.py\u001b[0m in \u001b[0;36mcomparison_op\u001b[1;34m(left, right, op)\u001b[0m\n\u001b[0;32m    222\u001b[0m         \u001b[1;32mif\u001b[0m \u001b[0mlen\u001b[0m\u001b[1;33m(\u001b[0m\u001b[0mlvalues\u001b[0m\u001b[1;33m)\u001b[0m \u001b[1;33m!=\u001b[0m \u001b[0mlen\u001b[0m\u001b[1;33m(\u001b[0m\u001b[0mrvalues\u001b[0m\u001b[1;33m)\u001b[0m\u001b[1;33m:\u001b[0m\u001b[1;33m\u001b[0m\u001b[1;33m\u001b[0m\u001b[0m\n\u001b[0;32m    223\u001b[0m             raise ValueError(\n\u001b[1;32m--> 224\u001b[1;33m                 \u001b[1;34m\"Lengths must match to compare\"\u001b[0m\u001b[1;33m,\u001b[0m \u001b[0mlvalues\u001b[0m\u001b[1;33m.\u001b[0m\u001b[0mshape\u001b[0m\u001b[1;33m,\u001b[0m \u001b[0mrvalues\u001b[0m\u001b[1;33m.\u001b[0m\u001b[0mshape\u001b[0m\u001b[1;33m\u001b[0m\u001b[1;33m\u001b[0m\u001b[0m\n\u001b[0m\u001b[0;32m    225\u001b[0m             )\n\u001b[0;32m    226\u001b[0m \u001b[1;33m\u001b[0m\u001b[0m\n",
      "\u001b[1;31mValueError\u001b[0m: ('Lengths must match to compare', (65525,), (67803,))"
     ]
    }
   ],
   "source": [
    "np.sum(cellDataAll['track_id'] == data[:,0])"
   ]
  },
  {
   "cell_type": "code",
   "execution_count": 27,
   "id": "c8310fb3",
   "metadata": {},
   "outputs": [
    {
     "data": {
      "text/plain": [
       "array([1.        , 0.        , 3.96      , 3.69937657])"
      ]
     },
     "execution_count": 27,
     "metadata": {},
     "output_type": "execute_result"
    }
   ],
   "source": [
    "np.min(data,axis=0)"
   ]
  },
  {
   "cell_type": "code",
   "execution_count": 14,
   "id": "58f2620d",
   "metadata": {},
   "outputs": [
    {
     "name": "stdout",
     "output_type": "stream",
     "text": [
      "Wall time: 1min 4s\n"
     ]
    }
   ],
   "source": [
    "%%time\n",
    "\n",
    "# create tracking data from the full data frame\n",
    "data = cellDataAll.loc[:,['track_id','t','centroid-0','centroid-1']].to_numpy()\n",
    "data[:,0]=data[:,0].astype(int)\n",
    "\n",
    "# change tracks layer\n",
    "viewer.layers['tracking'].data = data\n",
    "viewer.layers['tracking'].properties = properties"
   ]
  },
  {
   "cell_type": "code",
   "execution_count": 366,
   "id": "166cbea2",
   "metadata": {},
   "outputs": [
    {
     "data": {
      "text/plain": [
       "Index(['label', 'area', 'centroid-0', 'centroid-1', 'orientation',\n",
       "       'major_axis_length', 'minor_axis_length', 'bbox-0', 'bbox-1', 'bbox-2',\n",
       "       'bbox-3', 'image', 'mean_intensity-0_nuc', 'mean_intensity-1_nuc',\n",
       "       'mean_intensity-2_nuc', 'mean_intensity-3_nuc', 't', 'centroid-0_ring',\n",
       "       'centroid-1_ring', 'mean_intensity-0_ring', 'mean_intensity-1_ring',\n",
       "       'mean_intensity-2_ring', 'mean_intensity-3_ring', 'track_id', 'parent',\n",
       "       'generation', 'root', 'accepted', 'background_01',\n",
       "       'intensity_01_nuc_corr', 'intensity_01_ring_corr', 'background_02',\n",
       "       'intensity_02_nuc_corr', 'intensity_02_ring_corr', 'background_03',\n",
       "       'intensity_03_nuc_corr', 'intensity_03_ring_corr', 'background_04',\n",
       "       'intensity_04_nuc_corr', 'intensity_04_ring_corr', 'DHB_ratio',\n",
       "       'cyc_D_over_p21'],\n",
       "      dtype='object')"
      ]
     },
     "execution_count": 366,
     "metadata": {},
     "output_type": "execute_result"
    }
   ],
   "source": [
    "cellDataAll.columns"
   ]
  },
  {
   "cell_type": "code",
   "execution_count": 218,
   "id": "be651f48",
   "metadata": {},
   "outputs": [
    {
     "name": "stdout",
     "output_type": "stream",
     "text": [
      "Wall time: 1.03 s\n"
     ]
    }
   ],
   "source": [
    "%%time\n",
    "test = (myLabels[myT:,:,:] == myLabel)"
   ]
  },
  {
   "cell_type": "code",
   "execution_count": 215,
   "id": "3dec6aba",
   "metadata": {},
   "outputs": [
    {
     "data": {
      "text/plain": [
       "(160, 2765, 2765)"
      ]
     },
     "execution_count": 215,
     "metadata": {},
     "output_type": "execute_result"
    }
   ],
   "source": [
    "test.shape"
   ]
  },
  {
   "cell_type": "code",
   "execution_count": 219,
   "id": "8cffa97c",
   "metadata": {},
   "outputs": [
    {
     "data": {
      "text/plain": [
       "201"
      ]
     },
     "execution_count": 219,
     "metadata": {},
     "output_type": "execute_result"
    }
   ],
   "source": [
    "myT"
   ]
  },
  {
   "cell_type": "code",
   "execution_count": 220,
   "id": "bc52602e",
   "metadata": {},
   "outputs": [
    {
     "data": {
      "text/plain": [
       "483"
      ]
     },
     "execution_count": 220,
     "metadata": {},
     "output_type": "execute_result"
    }
   ],
   "source": [
    "myLabel"
   ]
  },
  {
   "cell_type": "code",
   "execution_count": 229,
   "id": "6a3078ea",
   "metadata": {},
   "outputs": [
    {
     "name": "stdout",
     "output_type": "stream",
     "text": [
      "Wall time: 259 ms\n"
     ]
    }
   ],
   "source": []
  },
  {
   "cell_type": "code",
   "execution_count": 225,
   "id": "741b4f1e",
   "metadata": {},
   "outputs": [
    {
     "data": {
      "text/plain": [
       "50"
      ]
     },
     "execution_count": 225,
     "metadata": {},
     "output_type": "execute_result"
    }
   ],
   "source": [
    "np.max(temp)"
   ]
  },
  {
   "cell_type": "code",
   "execution_count": 227,
   "id": "87125c44",
   "metadata": {},
   "outputs": [
    {
     "data": {
      "text/plain": [
       "array([  50.        ,   29.        , 1545.57985258, 1746.4041769 ])"
      ]
     },
     "execution_count": 227,
     "metadata": {},
     "output_type": "execute_result"
    }
   ],
   "source": [
    "data[myInd]"
   ]
  },
  {
   "cell_type": "code",
   "execution_count": 179,
   "id": "fe7e2b34",
   "metadata": {},
   "outputs": [
    {
     "data": {
      "text/plain": [
       "2768.0"
      ]
     },
     "execution_count": 179,
     "metadata": {},
     "output_type": "execute_result"
    },
    {
     "name": "stderr",
     "output_type": "stream",
     "text": [
      "WARNING: QMainWindow::saveState(): 'objectName' not set for QDockWidget 0x1c1bb19e310 ';\n",
      "WARNING: QMainWindow::saveState(): 'objectName' not set for QDockWidget 0x1c1b2b76c10 ';\n",
      "WARNING: QMainWindow::saveState(): 'objectName' not set for QDockWidget 0x1c1bb1a0300 ';\n"
     ]
    }
   ],
   "source": [
    "cellDataAll.loc[(() & ()),:]"
   ]
  },
  {
   "cell_type": "code",
   "execution_count": 177,
   "id": "d96e8349",
   "metadata": {},
   "outputs": [
    {
     "data": {
      "text/plain": [
       "201"
      ]
     },
     "execution_count": 177,
     "metadata": {},
     "output_type": "execute_result"
    }
   ],
   "source": [
    "myT"
   ]
  },
  {
   "cell_type": "code",
   "execution_count": 178,
   "id": "c63468e2",
   "metadata": {},
   "outputs": [
    {
     "data": {
      "text/plain": [
       "483"
      ]
     },
     "execution_count": 178,
     "metadata": {},
     "output_type": "execute_result"
    }
   ],
   "source": [
    "myLabel"
   ]
  },
  {
   "cell_type": "markdown",
   "id": "eb0daf41",
   "metadata": {},
   "source": [
    "## Update labels"
   ]
  },
  {
   "cell_type": "code",
   "execution_count": 173,
   "id": "52fbd9d4",
   "metadata": {},
   "outputs": [
    {
     "name": "stderr",
     "output_type": "stream",
     "text": [
      "D:\\BARC\\napari_tracking_manual\\general_functions.py:249: SettingWithCopyWarning: \n",
      "A value is trying to be set on a copy of a slice from a DataFrame.\n",
      "Try using .loc[row_indexer,col_indexer] = value instead\n",
      "\n",
      "See the caveats in the documentation: https://pandas.pydata.org/pandas-docs/stable/user_guide/indexing.html#returning-a-view-versus-a-copy\n",
      "D:\\BARC\\napari_tracking_manual\\general_functions.py:249: SettingWithCopyWarning: \n",
      "A value is trying to be set on a copy of a slice from a DataFrame.\n",
      "Try using .loc[row_indexer,col_indexer] = value instead\n",
      "\n",
      "See the caveats in the documentation: https://pandas.pydata.org/pandas-docs/stable/user_guide/indexing.html#returning-a-view-versus-a-copy\n",
      "C:\\ProgramData\\Anaconda3\\envs\\cellpose\\lib\\site-packages\\napari\\layers\\tracks\\tracks.py:391: UserWarning: Previous color_by key 't' not present in new properties. Falling back to track_id\n",
      "  UserWarning,\n"
     ]
    }
   ],
   "source": [
    "@viewer.bind_key('u',overwrite=True)\n",
    "def update_inProgress(viewer):\n",
    "    \n",
    "    global cellDataAll\n",
    "\n",
    "    # update single object function\n",
    "\n",
    "    ########################################################\n",
    "    # modify data frame\n",
    "    ########################################################\n",
    "\n",
    "    # get the position in time\n",
    "    myT = viewer.dims.current_step[0]\n",
    "\n",
    "    # get my label\n",
    "    myLabel = layer_inProgress.selected_label\n",
    "\n",
    "    # calculate features of a new cell and store in the general data frame\n",
    "    cellDataAll = gen.update_dataFrame(myIm,myIm_signal_list,myLabels,cellDataAll,myT,myLabel)\n",
    "\n",
    "    # add additional columns\n",
    "    cellDataAll['DHB_ratio'] = cellDataAll[f'intensity_02_ring_corr']/cellDataAll[f'intensity_02_nuc_corr']\n",
    "    cellDataAll['cyc_D_over_p21'] = cellDataAll[f'intensity_03_nuc_corr']/cellDataAll[f'intensity_04_nuc_corr']\n",
    "\n",
    "    ########################################################\n",
    "    # modify tracking layer\n",
    "    ########################################################\n",
    "\n",
    "    # get current status of a tracking layer\n",
    "    data = viewer.layers['tracking'].data\n",
    "    properties = viewer.layers['tracking'].properties\n",
    "\n",
    "    # modify the data for the layer\n",
    "    data, properties = gen.mod_trackLayer(data,properties,cellDataAll,myT,myLabel)\n",
    "\n",
    "    # change tracks layer\n",
    "    viewer.layers['tracking'].data = data\n",
    "    viewer.layers['tracking'].properties = properties\n",
    "\n",
    "    ########################################################\n",
    "    # change viewer status\n",
    "    ########################################################\n",
    "    viewer.status = f'Frame {myT} was modified.' "
   ]
  },
  {
   "cell_type": "markdown",
   "id": "07be04e7",
   "metadata": {},
   "source": [
    "## Mark track as accepted"
   ]
  },
  {
   "cell_type": "code",
   "execution_count": 174,
   "id": "d07f34be",
   "metadata": {},
   "outputs": [
    {
     "name": "stderr",
     "output_type": "stream",
     "text": [
      "WARNING: QMainWindow::saveState(): 'objectName' not set for QDockWidget 0x1c75253a200 ';\n"
     ]
    }
   ],
   "source": [
    "# right click for accepting points\n",
    "# toggles status of a track and visualizes it in the accepted objects layer if changed into accepted\n",
    "\n",
    "@layer_inProgress.mouse_drag_callbacks.append\n",
    "def accept_track(layer, event):\n",
    "\n",
    "    if(event.button == 2):\n",
    "        \n",
    "        # look up cursor position\n",
    "        x = int(viewer.cursor.position[1])\n",
    "        y = int(viewer.cursor.position[2])\n",
    "        \n",
    "        # get data\n",
    "        inProgressTracks = layer_inProgress.data\n",
    "        \n",
    "        # check which cell was clicked\n",
    "        myTrackNum = inProgressTracks[viewer.dims.current_step[0],x,y]\n",
    "        \n",
    "        if myTrackNum > 0:\n",
    "\n",
    "            # check status\n",
    "            trackStatus = list(cellDataAll.loc[cellDataAll.track_id==myTrackNum,'accepted'])[0]\n",
    "\n",
    "            # change status of this track\n",
    "            cellDataAll.loc[cellDataAll.track_id==myTrackNum,'accepted'] = not(trackStatus)\n",
    "\n",
    "            # regenerate accepted points\n",
    "            selData=cellDataAll.loc[cellDataAll.accepted==True,:]\n",
    "            acceptedPoints = np.array([selData['t'],selData['centroid-0'],selData['centroid-1']]).T \n",
    "\n",
    "            # update viewer    \n",
    "            layer_accepted.data = acceptedPoints"
   ]
  },
  {
   "cell_type": "markdown",
   "id": "cb82b8fc",
   "metadata": {},
   "source": [
    "## Stack viewer"
   ]
  },
  {
   "cell_type": "code",
   "execution_count": 175,
   "id": "90669290",
   "metadata": {},
   "outputs": [
    {
     "data": {
      "text/plain": [
       "<napari._qt.widgets.qt_viewer_dock_widget.QtViewerDockWidget at 0x1c750d8d8b8>"
      ]
     },
     "execution_count": 175,
     "metadata": {},
     "output_type": "execute_result"
    }
   ],
   "source": [
    "def update_stack(viewer_stack,myTrack):\n",
    "        \n",
    "    # ask for an update\n",
    "    stack_track,stack_labels,stack_signal_list = gallery_functions.stack_create_all(myIm,myLabels,myIm_signal_list,data,myTrack,imSize=100)\n",
    "    \n",
    "    # display new layers\n",
    "    my_napari.display_set(viewer_stack,stack_track,stack_labels,stack_signal_list,colors_list,names_list,label_contour=0)\n",
    "    \n",
    "def update_graph(viewer_stack,myTrack):\n",
    "    \n",
    "    # remove previous graph\n",
    "    h = viewer_stack.window._dock_widgets['']\n",
    "    viewer_stack.window.remove_dock_widget(h)\n",
    "        \n",
    "    # add new graph\n",
    "    mpl_widget = my_napari.create_graph_widget(track_intensity,to_plot_signals,to_plot_colors,to_plot_names,cellDataAll,myTrack) \n",
    "    h = viewer_stack.window.add_dock_widget(mpl_widget)\n",
    "\n",
    "@magicgui(call_button='Show Stack')\n",
    "def show_stack(viewer: Viewer):\n",
    "    \n",
    "    # find current track\n",
    "    myLabel = viewer.layers['objects'].selected_label\n",
    "    \n",
    "    viewer_stack = napari.Viewer()\n",
    "    update_stack(viewer_stack,myLabel)\n",
    "    \n",
    "    # select the right label\n",
    "    viewer_stack.layers['objects'].selected_label = myLabel\n",
    "    \n",
    "    # init graph - there must be a more elegant solution (without this global handle)\n",
    "    mpl_widget = my_napari.create_graph_widget(track_intensity,to_plot_signals,to_plot_colors,to_plot_names,cellDataAll,myLabel) \n",
    "    h = viewer_stack.window.add_dock_widget(mpl_widget)\n",
    "    graph_list.append(h)\n",
    "    \n",
    "    # add an update button\n",
    "    # in the future - connect it to directly changing the selected layer\n",
    "    @magicgui(call_button='Update Stack')\n",
    "    def button_stack(viewer_stack: Viewer):\n",
    "\n",
    "        myTrack = viewer_stack.layers['objects'].selected_label\n",
    "\n",
    "        # update stack\n",
    "        update_stack(viewer_stack,myTrack)\n",
    "\n",
    "        # update graph\n",
    "        update_graph(viewer_stack,myTrack)\n",
    "\n",
    "    viewer_stack.window.add_dock_widget(button_stack,area='bottom')\n",
    "    \n",
    "viewer.window.add_dock_widget(show_stack,area='bottom')"
   ]
  },
  {
   "cell_type": "code",
   "execution_count": 171,
   "id": "04eb6556",
   "metadata": {},
   "outputs": [],
   "source": []
  },
  {
   "cell_type": "code",
   "execution_count": 16,
   "id": "01bcec46",
   "metadata": {},
   "outputs": [],
   "source": [
    "def update_gallery(myTrack):\n",
    "    \n",
    "    global viewer_gallery\n",
    "    \n",
    "    # ask for an update\n",
    "    gallery_track,gallery_labels,gallery_signal_list = gallery_functions.gallery_create_all(myIm,myLabels,myIm_signal_list,data,myTrack,imSize=100)\n",
    "    \n",
    "    # display an update\n",
    "    try:\n",
    "        viewer_gallery.close()\n",
    "    except:\n",
    "        pass\n",
    "\n",
    "    viewer_gallery = napari.Viewer()\n",
    "    \n",
    "    my_napari.display_set(viewer_gallery,gallery_track,gallery_labels,gallery_signal_list,colors_list,names_list,label_contour=2)"
   ]
  },
  {
   "cell_type": "code",
   "execution_count": 132,
   "id": "e884ea4a",
   "metadata": {},
   "outputs": [
    {
     "name": "stderr",
     "output_type": "stream",
     "text": [
      "C:\\ProgramData\\Anaconda3\\envs\\cellpose\\lib\\site-packages\\napari\\layers\\tracks\\tracks.py:391: UserWarning: Previous color_by key 't' not present in new properties. Falling back to track_id\n",
      "  UserWarning,\n"
     ]
    }
   ],
   "source": [
    "# swapping tracks based on 4 points\n",
    "\n",
    "@viewer.bind_key('r',overwrite=True)\n",
    "def swap_points(viewer):\n",
    "\n",
    "    swapPoints = viewer.layers['swapPoints'].data.astype(int)\n",
    "\n",
    "    # check that you get a good set of swapPoints\n",
    "    lenTest = (len(swapPoints) == 4)\n",
    "\n",
    "    if lenTest:\n",
    "\n",
    "        framesToSwap = list(set(swapPoints[:,0]))\n",
    "        framesToSwap.sort()\n",
    "        frameTest = (framesToSwap[1] == framesToSwap[0]+1)\n",
    "\n",
    "\n",
    "        # read in in-progress tracks\n",
    "        inProgressTracks = viewer.layers['inProgressStack'].data\n",
    "\n",
    "        # check tracks\n",
    "        myTracks = []\n",
    "        for myPoint in swapPoints:\n",
    "\n",
    "            myTracks.append(inProgressTracks[tuple(myPoint)])\n",
    "\n",
    "        trackTest = (len(set(myTracks)) == 2)\n",
    "\n",
    "        if (lenTest and frameTest and trackTest):\n",
    "\n",
    "            # get tracks numbers\n",
    "            track_1 = list((set(myTracks)))[0] \n",
    "            track_2 = list((set(myTracks)))[1]\n",
    "\n",
    "            frame_change = np.max(framesToSwap)\n",
    "\n",
    "\n",
    "            inProgressTracks[frame_change:,:,:][inProgressTracks[frame_change:,:,:]==track_1]=4095\n",
    "            inProgressTracks[frame_change:,:,:][inProgressTracks[frame_change:,:,:]==track_2]=track_1\n",
    "            inProgressTracks[frame_change:,:,:][inProgressTracks[frame_change:,:,:]==4095]=track_2\n",
    "\n",
    "            # change labels layer\n",
    "            viewer.layers.pop('inProgressStack')\n",
    "            viewer.add_labels(inProgressTracks,name='inProgressStack',opacity = 0.5)\n",
    "\n",
    "\n",
    "            # change graph\n",
    "            children_1 = set(data[((properties['parent']==track_1) & (properties['generation']>0)),0])\n",
    "\n",
    "            for child in children_1:\n",
    "\n",
    "                graph[int(child)] = track_2\n",
    "\n",
    "            children_2 = set(data[((properties['parent']==track_2) & (properties['generation']>0)),0])\n",
    "\n",
    "            for child in children_2:\n",
    "\n",
    "                graph[int(child)] = track_1\n",
    "\n",
    "\n",
    "            # change tracking data\n",
    "            track1_change = ((data[:,0]==track_1) & (data[:,1]>=frame_change))\n",
    "            track2_change = ((data[:,0]==track_2) & (data[:,1]>=frame_change))\n",
    "\n",
    "            data[track2_change,0] = track_1\n",
    "            data[track1_change,0] = track_2\n",
    "\n",
    "            # change info about the parent \n",
    "            track1_change = ((properties['parent']==track_1) & (data[:,1]>=frame_change))\n",
    "            track2_change = ((properties['parent']==track_2) & (data[:,1]>=frame_change))\n",
    "\n",
    "            properties['parent'][track1_change] = track_2\n",
    "            properties['parent'][track2_change] = track_1\n",
    "\n",
    "            # change info about the root\n",
    "            root1 = properties['root'][track1_change][0]\n",
    "            root2 = properties['root'][track2_change][0]\n",
    "\n",
    "            track1_change = ((properties['root']==root1) & (data[:,1]>=frame_change))\n",
    "            track2_change = ((properties['root']==root2) & (data[:,1]>=frame_change))\n",
    "\n",
    "            properties['root'][track1_change] = root2\n",
    "            properties['root'][track2_change] = root1\n",
    "\n",
    "            # change info about the generation\n",
    "            gen1 = properties['generation'][(properties['t']==(frame_change-1)) & (data[:,0]==track_1)]\n",
    "            gen2 = properties['generation'][(properties['t']==(frame_change-1)) & (data[:,0]==track_2)]\n",
    "\n",
    "            properties['generation'][track1_change] = properties['generation'][track1_change] + gen2 - gen1\n",
    "            properties['generation'][track2_change] = properties['generation'][track2_change] + gen1 - gen2\n",
    "\n",
    "\n",
    "\n",
    "            # update tracking data\n",
    "            viewer.layers['data'].data = data\n",
    "            viewer.layers['data'].properties = properties\n",
    "            viewer.layers['data'].graph = graph\n",
    "\n",
    "            # clean swap points\n",
    "            viewer.layers['swapPoints'].data = []\n",
    "\n",
    "            viewer.status='Tracks have been swapped.'\n",
    "\n",
    "        else:\n",
    "\n",
    "            viewer.status='Swap points are incorrect.'\n",
    "    else:\n",
    "\n",
    "        viewer.status='Swap points are incorrect.'"
   ]
  },
  {
   "cell_type": "code",
   "execution_count": 170,
   "id": "3c9f9dc9",
   "metadata": {},
   "outputs": [
    {
     "data": {
      "text/plain": [
       "<module 'napari_display_functions' from 'D:\\\\BARC\\\\napari_tracking_manual\\\\napari_display_functions.py'>"
      ]
     },
     "execution_count": 170,
     "metadata": {},
     "output_type": "execute_result"
    }
   ],
   "source": [
    "importlib.reload(gallery_functions)\n",
    "importlib.reload(my_napari)"
   ]
  },
  {
   "cell_type": "code",
   "execution_count": 157,
   "id": "6795d9cb",
   "metadata": {},
   "outputs": [],
   "source": [
    "myInd=582"
   ]
  },
  {
   "cell_type": "code",
   "execution_count": 167,
   "id": "ea8df83d",
   "metadata": {},
   "outputs": [
    {
     "data": {
      "text/plain": [
       "1817"
      ]
     },
     "execution_count": 167,
     "metadata": {},
     "output_type": "execute_result"
    }
   ],
   "source": [
    "np.min([x+int(imSize/2),myIm.shape[1]])"
   ]
  },
  {
   "cell_type": "code",
   "execution_count": 110,
   "id": "3b7ba151",
   "metadata": {},
   "outputs": [],
   "source": [
    "mpl_widget = my_napari.create_graph_widget(track_intensity,signal_intensity_ch,colors_list,names_list,cellDataAll,myTrack)"
   ]
  },
  {
   "cell_type": "code",
   "execution_count": 99,
   "id": "9913cbd9",
   "metadata": {},
   "outputs": [
    {
     "data": {
      "text/plain": [
       "<napari._qt.widgets.qt_viewer_dock_widget.QtViewerDockWidget at 0x20eac5fa048>"
      ]
     },
     "execution_count": 99,
     "metadata": {},
     "output_type": "execute_result"
    }
   ],
   "source": [
    "@magicgui(call_button='Update gallery')\n",
    "def button_gallery(viewer: Viewer):\n",
    "    \n",
    "    myTrack = viewer.layers['objects'].selected_label\n",
    "    update_gallery(myTrack)\n",
    "    \n",
    "    mpl_widget = my_napari.create_graph_widget(track_intensity,signal_intensity_ch,colors_list,names_list,cellDataAll,myTrack) \n",
    "    viewer_gallery.window.add_dock_widget(mpl_widget)\n",
    "\n",
    "viewer.window.add_dock_widget(button_gallery,area='bottom')"
   ]
  },
  {
   "cell_type": "code",
   "execution_count": 68,
   "id": "a9e35231",
   "metadata": {},
   "outputs": [],
   "source": [
    "@track_layer.bind_key('s',overwrite=True)\n",
    "def update_inProgress(viewer):\n",
    "\n",
    "    viewer_small = napari.Viewer()\n",
    "    myTrack = 1 \n",
    "    \n",
    "    # create gallery\n",
    "    \n",
    "    viewer_small.add_image(myGallery,colormap='gray',contrast_limits=(0, 2000),opacity = 1)"
   ]
  },
  {
   "cell_type": "code",
   "execution_count": 199,
   "id": "8fd16726",
   "metadata": {},
   "outputs": [
    {
     "data": {
      "text/plain": [
       "array([[1092.        ,  318.        , 2162.92535971, 2026.29406475],\n",
       "       [1092.        ,  319.        , 2162.92535971, 2026.29406475],\n",
       "       [1092.        ,  320.        , 2139.88372093, 2058.0455814 ]])"
      ]
     },
     "execution_count": 199,
     "metadata": {},
     "output_type": "execute_result"
    }
   ],
   "source": [
    "data[data[:,0]==1092,:]"
   ]
  },
  {
   "cell_type": "code",
   "execution_count": 201,
   "id": "2311b9a4",
   "metadata": {},
   "outputs": [
    {
     "data": {
      "text/plain": [
       "array([[   7.        ,  318.        , 2172.5382482 , 2015.13455069]])"
      ]
     },
     "execution_count": 201,
     "metadata": {},
     "output_type": "execute_result"
    }
   ],
   "source": [
    "data[(data[:,0]==7) & (data[:,1]==318),:]"
   ]
  },
  {
   "cell_type": "code",
   "execution_count": null,
   "id": "32903889",
   "metadata": {},
   "outputs": [],
   "source": [
    "# fix update of the small stack to nothing (at the moment it keeps the old cell)"
   ]
  },
  {
   "cell_type": "code",
   "execution_count": null,
   "id": "53ca389f",
   "metadata": {},
   "outputs": [],
   "source": [
    "# move graphs from matplotlib to qt and add them vertical lines\n",
    "# add numbering of the frames to gallery"
   ]
  },
  {
   "cell_type": "code",
   "execution_count": null,
   "id": "5bb8367b",
   "metadata": {},
   "outputs": [],
   "source": [
    "# what to do with ghost objects"
   ]
  },
  {
   "cell_type": "code",
   "execution_count": null,
   "id": "b315eab7",
   "metadata": {},
   "outputs": [],
   "source": [
    "# key binding for linking function\n",
    "\n",
    "# check if parent have different offspring\n",
    "\n",
    "# no other offspring\n",
    "# connect points\n",
    "\n",
    "# other offspring\n",
    "# connect\n",
    "# add to the graph\n",
    "\n",
    "# what if objects didn;t"
   ]
  },
  {
   "cell_type": "code",
   "execution_count": null,
   "id": "8e305633",
   "metadata": {},
   "outputs": [],
   "source": [
    "# label image should probably become a float image"
   ]
  }
 ],
 "metadata": {
  "kernelspec": {
   "display_name": "Python 3",
   "language": "python",
   "name": "python3"
  },
  "language_info": {
   "codemirror_mode": {
    "name": "ipython",
    "version": 3
   },
   "file_extension": ".py",
   "mimetype": "text/x-python",
   "name": "python",
   "nbconvert_exporter": "python",
   "pygments_lexer": "ipython3",
   "version": "3.7.10"
  }
 },
 "nbformat": 4,
 "nbformat_minor": 5
}
