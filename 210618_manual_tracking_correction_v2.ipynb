{
 "cells": [
  {
   "cell_type": "code",
   "execution_count": 1,
   "id": "f49352f4",
   "metadata": {},
   "outputs": [],
   "source": [
    "import os\n",
    "import sys\n",
    "import time\n",
    "import napari\n",
    "import pickle\n",
    "import h5py\n",
    "import importlib\n",
    "import numpy as np\n",
    "import pandas as pd\n",
    "\n",
    "from napari import Viewer\n",
    "\n",
    "from napari.qt.threading import thread_worker\n",
    "from matplotlib.backends.backend_qt5agg import FigureCanvas\n",
    "from matplotlib.figure import Figure\n",
    "\n",
    "from tifffile import imread,imsave,TiffFile\n",
    "import matplotlib.pyplot as plt\n",
    "import seaborn as sn\n",
    "\n",
    "from magicgui import magicgui\n",
    "\n",
    "sys.path.append(r'D:\\imPy\\libraries') \n",
    "sys.path.append(r'D:\\BARC\\napari_tracking_manual')\n",
    "\n",
    "gallery_functions = importlib.import_module('gallery_functions')\n",
    "my_napari = importlib.import_module('napari_display_functions')\n",
    "fov_f = importlib.import_module('fovRingsLibrary')\n",
    "gen = importlib.import_module('general_functions')\n",
    "\n",
    "import warnings\n",
    "warnings.filterwarnings('ignore')"
   ]
  },
  {
   "cell_type": "code",
   "execution_count": 181,
   "id": "28c56fe5",
   "metadata": {},
   "outputs": [
    {
     "data": {
      "text/plain": [
       "<module 'general_functions' from 'D:\\\\BARC\\\\napari_tracking_manual\\\\general_functions.py'>"
      ]
     },
     "execution_count": 181,
     "metadata": {},
     "output_type": "execute_result"
    }
   ],
   "source": [
    "importlib.reload(gallery_functions)\n",
    "importlib.reload(my_napari)\n",
    "importlib.reload(fov_f)\n",
    "importlib.reload(gen)"
   ]
  },
  {
   "cell_type": "code",
   "execution_count": 3,
   "id": "cfcf87fa",
   "metadata": {},
   "outputs": [],
   "source": [
    "myFov = '01'\n",
    "\n",
    "myDirIm = r'Z:\\Wayne\\20210618_RPE_p21_cycD1_DHB_H2B\\tiffs'\n",
    "\n",
    "# specify tracking channel\n",
    "myFile_track_im = f'20210618_RPE_p21_cycD1_DHB_H2B_series_{myFov}_ch_01.tif'\n",
    "track_intensity = 'intensity_01_nuc_corr' # name of the column\n",
    "\n",
    "# specify additional channels\n",
    "myFile_signal_im = [f'20210618_RPE_p21_cycD1_DHB_H2B_series_{myFov}_ch_02.tif',\n",
    "                    f'20210618_RPE_p21_cycD1_DHB_H2B_series_{myFov}_ch_03.tif',\n",
    "                   f'20210618_RPE_p21_cycD1_DHB_H2B_series_{myFov}_ch_04.tif']\n",
    "\n",
    "colors_list = ['red','green','magenta']\n",
    "names_list = ['DHB','cyclinD','p21']\n",
    "\n",
    "# specify columns to plot\n",
    "to_plot_signals = ['DHB_ratio','intensity_03_nuc_corr','intensity_04_nuc_corr','cyc_D_over_p21'] # name of the column\n",
    "to_plot_names = ['DHB_ratio [cyt/nuc]','cyclinD','p21','Cyclin D/p21 (mean)']\n",
    "to_plot_colors = ['red','green','blue','black']\n",
    "\n",
    "\n",
    "myDirTracks = r'Z:\\Wayne\\20210618_RPE_p21_cycD1_DHB_H2B\\tracking'\n",
    "myDirTracks = os.path.join(myDirTracks,myFov)\n",
    "dfDir = r'Z:\\Wayne\\20210618_RPE_p21_cycD1_DHB_H2B\\tracking'\n",
    "dfDir = os.path.join(dfDir,f'{myFov}_napari')"
   ]
  },
  {
   "cell_type": "markdown",
   "id": "5930f0d4",
   "metadata": {},
   "source": [
    "## Read in the tracking channel"
   ]
  },
  {
   "cell_type": "code",
   "execution_count": 5,
   "id": "d809782d",
   "metadata": {},
   "outputs": [
    {
     "name": "stdout",
     "output_type": "stream",
     "text": [
      "Wall time: 50.5 s\n"
     ]
    }
   ],
   "source": [
    "%%time\n",
    "\n",
    "# read in image\n",
    "myIm = imread(os.path.join(myDirIm,myFile_track_im))"
   ]
  },
  {
   "cell_type": "markdown",
   "id": "296f85d4",
   "metadata": {},
   "source": [
    "## Read in signal channels"
   ]
  },
  {
   "cell_type": "code",
   "execution_count": 6,
   "id": "a91d448f",
   "metadata": {},
   "outputs": [
    {
     "name": "stdout",
     "output_type": "stream",
     "text": [
      "Wall time: 2min 32s\n"
     ]
    }
   ],
   "source": [
    "%%time\n",
    "\n",
    "myIm_signal_list = []\n",
    "# read in additional signal images\n",
    "for myFile in myFile_signal_im:\n",
    "    temp = imread(os.path.join(myDirIm,myFile))\n",
    "    myIm_signal_list.append(temp)"
   ]
  },
  {
   "cell_type": "markdown",
   "id": "560fa163",
   "metadata": {},
   "source": [
    "## Read in tracks in a form of labels"
   ]
  },
  {
   "cell_type": "code",
   "execution_count": 182,
   "id": "daaebf83",
   "metadata": {},
   "outputs": [
    {
     "name": "stdout",
     "output_type": "stream",
     "text": [
      "Wall time: 1min 3s\n"
     ]
    }
   ],
   "source": [
    "%%time\n",
    "\n",
    "# read in labels as tracks\n",
    "myLabels =[]\n",
    "\n",
    "fovFiles = [x for x in os.listdir(myDirTracks) if f'series_{myFov}_' in x]\n",
    "\n",
    "for myFile in fovFiles:\n",
    "    \n",
    "    # read a mask\n",
    "    labels = imread(os.path.join(myDirTracks,myFile))\n",
    "    \n",
    "    myLabels.append(labels)\n",
    "    \n",
    "myLabels = np.array(myLabels)"
   ]
  },
  {
   "cell_type": "markdown",
   "id": "476883fb",
   "metadata": {},
   "source": [
    "## Get the full data frame"
   ]
  },
  {
   "cell_type": "code",
   "execution_count": 183,
   "id": "cb192116",
   "metadata": {},
   "outputs": [],
   "source": [
    "cellDataAll=pd.read_pickle(os.path.join(dfDir,f'cellPose_btrack_regionprops_bck_{myFov}.pkl'))\n",
    "cellDataAll.drop(['file','x','y'],axis=1,inplace=True)\n",
    "\n",
    "# sort \n",
    "cellDataAll = cellDataAll.sort_values(by=['track_id','t'])"
   ]
  },
  {
   "cell_type": "code",
   "execution_count": 184,
   "id": "8c174de8",
   "metadata": {},
   "outputs": [],
   "source": [
    "# create an array for visualization of accepted points\n",
    "selData=cellDataAll.loc[cellDataAll.accepted==True,:]\n",
    "acceptedPoints = np.array([selData['t'],selData['centroid-0'],selData['centroid-1']]).T "
   ]
  },
  {
   "cell_type": "code",
   "execution_count": 185,
   "id": "6f1c2844",
   "metadata": {},
   "outputs": [],
   "source": [
    "# generate data for the tracking layer\n",
    "data,properties,graph = gen.trackData_from_df(cellDataAll)"
   ]
  },
  {
   "cell_type": "markdown",
   "id": "521c6322",
   "metadata": {},
   "source": [
    "## Main viewer"
   ]
  },
  {
   "cell_type": "code",
   "execution_count": 186,
   "id": "3e02ba9b",
   "metadata": {},
   "outputs": [],
   "source": [
    "viewer = napari.Viewer()\n",
    "\n",
    "# tracking layers\n",
    "viewer.add_image(myIm,colormap='gray',contrast_limits=(0, 2000),opacity = 1)\n",
    "\n",
    "track_layer=viewer.add_tracks(data, properties=properties, graph=graph,name='tracking')\n",
    "track_layer.display_id=True\n",
    "\n",
    "layer_inProgress = viewer.add_labels(myLabels,name='objects',opacity = 0.5)\n",
    "\n",
    "# signal layers\n",
    "for myIm_signal,myColor,myName in zip(myIm_signal_list,colors_list,names_list):\n",
    "    viewer.add_image(myIm_signal,colormap=myColor,contrast_limits=(0, 4000),opacity = 1,visible=False,name = myName)\n",
    "\n",
    "# helper layers\n",
    "layer_accepted = viewer.add_points(acceptedPoints,name='accepted objects',face_color='green', opacity =0.5, ndim=3)\n",
    "layer_mod = viewer.add_points([],name='modPoints',face_color='red',ndim=3)"
   ]
  },
  {
   "cell_type": "markdown",
   "id": "c984dddc",
   "metadata": {},
   "source": [
    "## Add functions for modifying tracks"
   ]
  },
  {
   "cell_type": "code",
   "execution_count": 188,
   "id": "cdf12ba9",
   "metadata": {},
   "outputs": [
    {
     "data": {
      "text/plain": [
       "<napari._qt.widgets.qt_viewer_dock_widget.QtViewerDockWidget at 0x215ae8b1708>"
      ]
     },
     "execution_count": 188,
     "metadata": {},
     "output_type": "execute_result"
    }
   ],
   "source": [
    "@magicgui(call_button='Cut Track')\n",
    "def show_stack(viewer: Viewer):\n",
    "    \n",
    "    global cellDataAll\n",
    "    global myLabels\n",
    "    \n",
    "    viewer,cellDataAll = my_napari.cut_track(viewer,cellDataAll)\n",
    "    myLabels = viewer.layers['objects'].data\n",
    "    \n",
    "viewer.window.add_dock_widget(show_stack,area='right')\n",
    "\n",
    "\n",
    "@magicgui(call_button='Merge Track')\n",
    "def show_stack(viewer: Viewer):\n",
    "    \n",
    "    global cellDataAll\n",
    "    global myLabels\n",
    "    \n",
    "    viewer,cellDataAll = my_napari.merge_track(viewer,cellDataAll)\n",
    "    myLabels = viewer.layers['objects'].data\n",
    "    \n",
    "viewer.window.add_dock_widget(show_stack,area='right')\n",
    "\n",
    "\n",
    "@magicgui(call_button='Connect Track')\n",
    "def show_stack(viewer: Viewer):\n",
    "    \n",
    "    global cellDataAll\n",
    "    global myLabels\n",
    "    \n",
    "    viewer,cellDataAll = my_napari.connect_track(viewer,cellDataAll)\n",
    "    myLabels = viewer.layers['objects'].data\n",
    "    \n",
    "viewer.window.add_dock_widget(show_stack,area='right')"
   ]
  },
  {
   "cell_type": "markdown",
   "id": "eb0daf41",
   "metadata": {},
   "source": [
    "## Add functions for modifying labels"
   ]
  },
  {
   "cell_type": "code",
   "execution_count": 187,
   "id": "52fbd9d4",
   "metadata": {},
   "outputs": [],
   "source": [
    "@magicgui(call_button='Modify label')\n",
    "def show_stack(viewer: Viewer):\n",
    "    \n",
    "    global cellDataAll\n",
    "\n",
    "    viewer,cellDataAll = my_napari.update_single_object(viewer,cellDataAll,myIm,myIm_signal_list)\n",
    "    \n",
    "viewer.window.add_dock_widget(show_stack,area='right')\n",
    "\n",
    "\n",
    "@viewer.bind_key('u',overwrite=True)\n",
    "def update_inProgress(viewer):\n",
    "    \n",
    "    global cellDataAll\n",
    "    \n",
    "    viewer,cellDataAll = my_napari.update_single_object(viewer,cellDataAll,myIm,myIm_signal_list)"
   ]
  },
  {
   "cell_type": "markdown",
   "id": "07be04e7",
   "metadata": {},
   "source": [
    "## Mark track as accepted"
   ]
  },
  {
   "cell_type": "code",
   "execution_count": 189,
   "id": "d07f34be",
   "metadata": {},
   "outputs": [],
   "source": [
    "# right click for accepting points\n",
    "# toggles status of a track and visualizes it in the accepted objects layer if changed into accepted\n",
    "\n",
    "@layer_inProgress.mouse_drag_callbacks.append\n",
    "def accept_track(layer, event):\n",
    "\n",
    "    if(event.button == 2):\n",
    "        \n",
    "        # look up cursor position\n",
    "        x = int(viewer.cursor.position[1])\n",
    "        y = int(viewer.cursor.position[2])\n",
    "        \n",
    "        # get data\n",
    "        inProgressTracks = layer_inProgress.data\n",
    "        \n",
    "        # check which cell was clicked\n",
    "        myTrackNum = inProgressTracks[viewer.dims.current_step[0],x,y]\n",
    "        \n",
    "        if myTrackNum > 0:\n",
    "\n",
    "            # check status\n",
    "            trackStatus = list(cellDataAll.loc[cellDataAll.track_id==myTrackNum,'accepted'])[0]\n",
    "\n",
    "            # change status of this track\n",
    "            cellDataAll.loc[cellDataAll.track_id==myTrackNum,'accepted'] = not(trackStatus)\n",
    "\n",
    "            # regenerate accepted points\n",
    "            selData=cellDataAll.loc[cellDataAll.accepted==True,:]\n",
    "            acceptedPoints = np.array([selData['t'],selData['centroid-0'],selData['centroid-1']]).T \n",
    "\n",
    "            # update viewer    \n",
    "            layer_accepted.data = acceptedPoints"
   ]
  },
  {
   "cell_type": "markdown",
   "id": "cb82b8fc",
   "metadata": {},
   "source": [
    "## Stack viewer"
   ]
  },
  {
   "cell_type": "code",
   "execution_count": 190,
   "id": "90669290",
   "metadata": {},
   "outputs": [
    {
     "data": {
      "text/plain": [
       "<napari._qt.widgets.qt_viewer_dock_widget.QtViewerDockWidget at 0x21594b801f8>"
      ]
     },
     "execution_count": 190,
     "metadata": {},
     "output_type": "execute_result"
    }
   ],
   "source": [
    "def update_stack(viewer_stack,myTrack):\n",
    "    \n",
    "    global viewer\n",
    "    \n",
    "    data = viewer.layers['tracking'].data\n",
    "    myLabels = viewer.layers['objects'].data\n",
    "        \n",
    "    # ask for an update\n",
    "    stack_track,stack_labels,stack_signal_list = gallery_functions.stack_create_all(myIm,myLabels,myIm_signal_list,data,myTrack,imSize=100)\n",
    "    \n",
    "    # display new layers\n",
    "    my_napari.display_set(viewer_stack,stack_track,stack_labels,stack_signal_list,colors_list,names_list,label_contour=0)\n",
    "    \n",
    "def update_graph(viewer_stack,myTrack):\n",
    "    \n",
    "    # remove previous graph\n",
    "    h = viewer_stack.window._dock_widgets['']\n",
    "    viewer_stack.window.remove_dock_widget(h)\n",
    "        \n",
    "    # add new graph\n",
    "    mpl_widget = my_napari.create_graph_widget(track_intensity,to_plot_signals,to_plot_colors,to_plot_names,cellDataAll,myTrack) \n",
    "    h = viewer_stack.window.add_dock_widget(mpl_widget)\n",
    "\n",
    "@magicgui(call_button='Show Stack')\n",
    "def show_stack(viewer: Viewer):\n",
    "    \n",
    "    # find current track\n",
    "    myLabel = viewer.layers['objects'].selected_label\n",
    "    \n",
    "    viewer_stack = napari.Viewer()\n",
    "    update_stack(viewer_stack,myLabel)\n",
    "    \n",
    "    # select the right label\n",
    "    viewer_stack.layers['objects'].selected_label = myLabel\n",
    "    \n",
    "    # init graph - there must be a more elegant solution (without this global handle)\n",
    "    mpl_widget = my_napari.create_graph_widget(track_intensity,to_plot_signals,to_plot_colors,to_plot_names,cellDataAll,myLabel) \n",
    "    viewer_stack.window.add_dock_widget(mpl_widget)\n",
    "    \n",
    "    # add an update button\n",
    "    # in the future - connect it to directly changing the selected layer\n",
    "    @magicgui(call_button='Update Stack')\n",
    "    def button_stack(viewer_stack: Viewer):\n",
    "\n",
    "        myTrack = viewer_stack.layers['objects'].selected_label\n",
    "\n",
    "        # update stack\n",
    "        update_stack(viewer_stack,myTrack)\n",
    "\n",
    "        # update graph\n",
    "        update_graph(viewer_stack,myTrack)\n",
    "\n",
    "    viewer_stack.window.add_dock_widget(button_stack,area='bottom')\n",
    "    \n",
    "viewer.window.add_dock_widget(show_stack,area='bottom')"
   ]
  },
  {
   "cell_type": "markdown",
   "id": "dde9e56b",
   "metadata": {},
   "source": [
    "## Gallery viewer"
   ]
  },
  {
   "cell_type": "code",
   "execution_count": 191,
   "id": "08139f30",
   "metadata": {},
   "outputs": [
    {
     "data": {
      "text/plain": [
       "<napari._qt.widgets.qt_viewer_dock_widget.QtViewerDockWidget at 0x21594b95288>"
      ]
     },
     "execution_count": 191,
     "metadata": {},
     "output_type": "execute_result"
    },
    {
     "name": "stderr",
     "output_type": "stream",
     "text": [
      "WARNING: QMainWindow::saveState(): 'objectName' not set for QDockWidget 0x215ace76e80 ';\n"
     ]
    }
   ],
   "source": [
    "def update_gallery(viewer_gallery,myTrack):\n",
    "    \n",
    "    global viewer\n",
    "    \n",
    "    data = viewer.layers['tracking'].data\n",
    "    myLabels = viewer.layers['objects'].data\n",
    "        \n",
    "    # ask for an update\n",
    "    gallery_track,gallery_labels,gallery_signal_list = gallery_functions.gallery_create_all(myIm,myLabels,myIm_signal_list,data,myTrack,imSize=100)\n",
    "    \n",
    "    # display new layers\n",
    "    my_napari.display_set(viewer_gallery,gallery_track,gallery_labels,gallery_signal_list,colors_list,names_list,label_contour=2)\n",
    "    \n",
    "def update_graph(viewer_gallery,myTrack):\n",
    "    \n",
    "    # remove previous graph\n",
    "    h = viewer_gallery.window._dock_widgets['']\n",
    "    viewer_gallery.window.remove_dock_widget(h)\n",
    "        \n",
    "    # add new graph\n",
    "    mpl_widget = my_napari.create_graph_widget(track_intensity,to_plot_signals,to_plot_colors,to_plot_names,cellDataAll,myTrack) \n",
    "    h = viewer_gallery.window.add_dock_widget(mpl_widget)\n",
    "\n",
    "@magicgui(call_button='Show Gallery')\n",
    "def show_gallery(viewer: Viewer):\n",
    "    \n",
    "    # find current track\n",
    "    myLabel = viewer.layers['objects'].selected_label\n",
    "    \n",
    "    viewer_gallery = napari.Viewer()\n",
    "    update_gallery(viewer_gallery,myLabel)\n",
    "    \n",
    "    # select the right label\n",
    "    viewer_gallery.layers['objects'].selected_label = myLabel\n",
    "    \n",
    "    # init graph - there must be a more elegant solution (without this global handle)\n",
    "    mpl_widget = my_napari.create_graph_widget(track_intensity,to_plot_signals,to_plot_colors,to_plot_names,cellDataAll,myLabel) \n",
    "    viewer_gallery.window.add_dock_widget(mpl_widget)\n",
    "    \n",
    "    # add an update button\n",
    "    # in the future - connect it to directly changing the selected layer\n",
    "    @magicgui(call_button='Update Gallery')\n",
    "    def button_gallery(viewer_gallery: Viewer):\n",
    "\n",
    "        myTrack = viewer_gallery.layers['objects'].selected_label\n",
    "\n",
    "        # update gallery\n",
    "        update_gallery(viewer_gallery,myTrack)\n",
    "\n",
    "        # update graph\n",
    "        update_graph(viewer_gallery,myTrack)\n",
    "\n",
    "    viewer_gallery.window.add_dock_widget(button_gallery,area='bottom')\n",
    "    \n",
    "viewer.window.add_dock_widget(show_gallery,area='bottom')"
   ]
  },
  {
   "cell_type": "code",
   "execution_count": 169,
   "id": "8ae72a05",
   "metadata": {},
   "outputs": [],
   "source": [
    "# get the position in time\n",
    "myT = viewer.dims.current_step[0]\n",
    "\n",
    "# get my label\n",
    "myLabel = viewer.layers['objects'].selected_label\n",
    "\n",
    "# create intensity image\n",
    "intIm = gen.create_intensityImage(myIm,myIm_signal_list,myT)\n",
    "\n",
    "# create mask with only a selected object\n",
    "single_label_im = gen.create_singleLabel(myLabels,myT,myLabel)\n",
    "\n",
    "# characterize new nucleus\n",
    "cellData = gen.characterize_newNucleus(single_label_im,intIm)\n",
    "\n",
    "# create ring image\n",
    "x = int(cellData['centroid-0'])\n",
    "y = int(cellData['centroid-1'])\n",
    "single_label_ring = gen.make_ringImage(single_label_im,x,y,imSize=200)\n",
    "\n",
    "# measure properties of the ring\n",
    "ringData = gen.characterize_newRing(single_label_ring,intIm)"
   ]
  },
  {
   "cell_type": "code",
   "execution_count": 170,
   "id": "c2022071",
   "metadata": {},
   "outputs": [],
   "source": [
    "# check which cell it is\n",
    "myLabel = list(cellData['label'])[0]\n",
    "\n",
    "# put nucleus and ring data together\n",
    "cellData = pd.merge(cellData,ringData,how='inner',on='label',suffixes=('_nuc', '_ring'))\n",
    "\n",
    "# modify names\n",
    "myNames = list(cellData.columns)\n",
    "myNames[2] = 'centroid-0'\n",
    "myNames[3] = 'centroid-1'\n",
    "cellData.columns = myNames\n",
    "\n",
    "# add aditional info\n",
    "cellData['t'] = myT\n",
    "cellData['track_id'] = myLabel"
   ]
  },
  {
   "cell_type": "code",
   "execution_count": 171,
   "id": "968890ca",
   "metadata": {},
   "outputs": [],
   "source": [
    "# collect information about this label and this time point to calculate \n",
    "info_track = cellDataAll.loc[:,['track_id','parent','root','generation','accepted']].drop_duplicates()\n",
    "info_frame = cellDataAll.loc[cellDataAll.t==myT,['t','background_01','background_02','background_03','background_04']].drop_duplicates()\n",
    "\n",
    "# merge it to the data of this frame\n",
    "cellData = cellData.merge(info_track,on='track_id',how='left')"
   ]
  },
  {
   "cell_type": "code",
   "execution_count": 174,
   "id": "1840e106",
   "metadata": {},
   "outputs": [
    {
     "data": {
      "text/html": [
       "<div>\n",
       "<style scoped>\n",
       "    .dataframe tbody tr th:only-of-type {\n",
       "        vertical-align: middle;\n",
       "    }\n",
       "\n",
       "    .dataframe tbody tr th {\n",
       "        vertical-align: top;\n",
       "    }\n",
       "\n",
       "    .dataframe thead th {\n",
       "        text-align: right;\n",
       "    }\n",
       "</style>\n",
       "<table border=\"1\" class=\"dataframe\">\n",
       "  <thead>\n",
       "    <tr style=\"text-align: right;\">\n",
       "      <th></th>\n",
       "      <th>label</th>\n",
       "      <th>area</th>\n",
       "      <th>centroid-0</th>\n",
       "      <th>centroid-1</th>\n",
       "      <th>major_axis_length</th>\n",
       "      <th>minor_axis_length</th>\n",
       "      <th>orientation</th>\n",
       "      <th>bbox-0</th>\n",
       "      <th>bbox-1</th>\n",
       "      <th>bbox-2</th>\n",
       "      <th>...</th>\n",
       "      <th>mean_intensity-0_ring</th>\n",
       "      <th>mean_intensity-1_ring</th>\n",
       "      <th>mean_intensity-2_ring</th>\n",
       "      <th>mean_intensity-3_ring</th>\n",
       "      <th>t</th>\n",
       "      <th>track_id</th>\n",
       "      <th>parent</th>\n",
       "      <th>root</th>\n",
       "      <th>generation</th>\n",
       "      <th>accepted</th>\n",
       "    </tr>\n",
       "  </thead>\n",
       "  <tbody>\n",
       "    <tr>\n",
       "      <th>0</th>\n",
       "      <td>3000</td>\n",
       "      <td>906</td>\n",
       "      <td>1538.00883</td>\n",
       "      <td>1741.014349</td>\n",
       "      <td>37.180221</td>\n",
       "      <td>31.085755</td>\n",
       "      <td>-0.451923</td>\n",
       "      <td>1521</td>\n",
       "      <td>1725</td>\n",
       "      <td>1557</td>\n",
       "      <td>...</td>\n",
       "      <td>635.34472</td>\n",
       "      <td>775.976708</td>\n",
       "      <td>527.409938</td>\n",
       "      <td>1531.358696</td>\n",
       "      <td>21</td>\n",
       "      <td>3000</td>\n",
       "      <td>NaN</td>\n",
       "      <td>NaN</td>\n",
       "      <td>NaN</td>\n",
       "      <td>NaN</td>\n",
       "    </tr>\n",
       "  </tbody>\n",
       "</table>\n",
       "<p>1 rows × 28 columns</p>\n",
       "</div>"
      ],
      "text/plain": [
       "   label  area  centroid-0   centroid-1  major_axis_length  minor_axis_length  \\\n",
       "0   3000   906  1538.00883  1741.014349          37.180221          31.085755   \n",
       "\n",
       "   orientation  bbox-0  bbox-1  bbox-2  ...  mean_intensity-0_ring  \\\n",
       "0    -0.451923    1521    1725    1557  ...              635.34472   \n",
       "\n",
       "  mean_intensity-1_ring  mean_intensity-2_ring  mean_intensity-3_ring   t  \\\n",
       "0            775.976708             527.409938            1531.358696  21   \n",
       "\n",
       "   track_id  parent  root  generation  accepted  \n",
       "0      3000     NaN   NaN         NaN       NaN  \n",
       "\n",
       "[1 rows x 28 columns]"
      ]
     },
     "execution_count": 174,
     "metadata": {},
     "output_type": "execute_result"
    }
   ],
   "source": [
    "cellData"
   ]
  },
  {
   "cell_type": "code",
   "execution_count": 177,
   "id": "c63075ec",
   "metadata": {},
   "outputs": [
    {
     "data": {
      "text/plain": [
       "nan"
      ]
     },
     "execution_count": 177,
     "metadata": {},
     "output_type": "execute_result"
    }
   ],
   "source": [
    "cellData.loc[0,'parent']"
   ]
  },
  {
   "cell_type": "code",
   "execution_count": 178,
   "id": "e8e38054",
   "metadata": {},
   "outputs": [],
   "source": [
    "if (cellData.loc[0,'parent'] == cellData.loc[0,'parent']):\n",
    "    pass\n",
    "else:\n",
    "    cellData.parent = cellData.track_id\n",
    "    cellData.generation = 0\n",
    "    cellData.root = cellData.track_id\n",
    "cellData = cellData.merge(info_frame,on='t')"
   ]
  },
  {
   "cell_type": "code",
   "execution_count": 179,
   "id": "6a50a5f4",
   "metadata": {},
   "outputs": [
    {
     "data": {
      "text/html": [
       "<div>\n",
       "<style scoped>\n",
       "    .dataframe tbody tr th:only-of-type {\n",
       "        vertical-align: middle;\n",
       "    }\n",
       "\n",
       "    .dataframe tbody tr th {\n",
       "        vertical-align: top;\n",
       "    }\n",
       "\n",
       "    .dataframe thead th {\n",
       "        text-align: right;\n",
       "    }\n",
       "</style>\n",
       "<table border=\"1\" class=\"dataframe\">\n",
       "  <thead>\n",
       "    <tr style=\"text-align: right;\">\n",
       "      <th></th>\n",
       "      <th>label</th>\n",
       "      <th>area</th>\n",
       "      <th>centroid-0</th>\n",
       "      <th>centroid-1</th>\n",
       "      <th>major_axis_length</th>\n",
       "      <th>minor_axis_length</th>\n",
       "      <th>orientation</th>\n",
       "      <th>bbox-0</th>\n",
       "      <th>bbox-1</th>\n",
       "      <th>bbox-2</th>\n",
       "      <th>...</th>\n",
       "      <th>t</th>\n",
       "      <th>track_id</th>\n",
       "      <th>parent</th>\n",
       "      <th>root</th>\n",
       "      <th>generation</th>\n",
       "      <th>accepted</th>\n",
       "      <th>background_01</th>\n",
       "      <th>background_02</th>\n",
       "      <th>background_03</th>\n",
       "      <th>background_04</th>\n",
       "    </tr>\n",
       "  </thead>\n",
       "  <tbody>\n",
       "    <tr>\n",
       "      <th>0</th>\n",
       "      <td>3000</td>\n",
       "      <td>906</td>\n",
       "      <td>1538.00883</td>\n",
       "      <td>1741.014349</td>\n",
       "      <td>37.180221</td>\n",
       "      <td>31.085755</td>\n",
       "      <td>-0.451923</td>\n",
       "      <td>1521</td>\n",
       "      <td>1725</td>\n",
       "      <td>1557</td>\n",
       "      <td>...</td>\n",
       "      <td>21</td>\n",
       "      <td>3000</td>\n",
       "      <td>3000</td>\n",
       "      <td>3000</td>\n",
       "      <td>0</td>\n",
       "      <td>NaN</td>\n",
       "      <td>623.773443</td>\n",
       "      <td>256.137182</td>\n",
       "      <td>487.35491</td>\n",
       "      <td>1504.802679</td>\n",
       "    </tr>\n",
       "  </tbody>\n",
       "</table>\n",
       "<p>1 rows × 32 columns</p>\n",
       "</div>"
      ],
      "text/plain": [
       "   label  area  centroid-0   centroid-1  major_axis_length  minor_axis_length  \\\n",
       "0   3000   906  1538.00883  1741.014349          37.180221          31.085755   \n",
       "\n",
       "   orientation  bbox-0  bbox-1  bbox-2  ...   t track_id  parent  root  \\\n",
       "0    -0.451923    1521    1725    1557  ...  21     3000    3000  3000   \n",
       "\n",
       "   generation  accepted  background_01  background_02  background_03  \\\n",
       "0           0       NaN     623.773443     256.137182      487.35491   \n",
       "\n",
       "   background_04  \n",
       "0    1504.802679  \n",
       "\n",
       "[1 rows x 32 columns]"
      ]
     },
     "execution_count": 179,
     "metadata": {},
     "output_type": "execute_result"
    }
   ],
   "source": [
    "cellData"
   ]
  },
  {
   "cell_type": "code",
   "execution_count": 180,
   "id": "7dfdad0e",
   "metadata": {},
   "outputs": [],
   "source": [
    "# calculate corrected signals\n",
    "for ch in np.arange(1,5):\n",
    "\n",
    "    cellData[f'intensity_{str(ch).zfill(2)}_nuc_corr'] = cellData[f'mean_intensity-{ch-1}_nuc'] - cellData[f'background_{str(ch).zfill(2)}']\n",
    "    cellData[f'intensity_{str(ch).zfill(2)}_ring_corr'] = cellData[f'mean_intensity-{ch-1}_ring'] - cellData[f'background_{str(ch).zfill(2)}']\n",
    "\n",
    "# swap in the general data frame\n",
    "what_to_drop = ((cellDataAll.t==myT) & (cellDataAll.track_id==myLabel))\n",
    "drop_overlaping_neighbours = ((cellDataAll.t==myT) & (abs(cellDataAll['centroid-0']-cellData['centroid-0'][0])<10) & (abs(cellDataAll['centroid-1']-cellData['centroid-1'][0])<10))\n",
    "what_to_drop =(what_to_drop | drop_overlaping_neighbours)\n",
    "cellDataAll.drop(cellDataAll[what_to_drop].index,axis=0,inplace=True)\n",
    "cellDataAll = cellDataAll.append(cellData,ignore_index=True)"
   ]
  },
  {
   "cell_type": "code",
   "execution_count": 143,
   "id": "1e2c7267",
   "metadata": {},
   "outputs": [
    {
     "data": {
      "text/plain": [
       "67804"
      ]
     },
     "execution_count": 143,
     "metadata": {},
     "output_type": "execute_result"
    }
   ],
   "source": [
    "len(cellDataAll.t==myT)"
   ]
  },
  {
   "cell_type": "code",
   "execution_count": 146,
   "id": "8b97c8ad",
   "metadata": {},
   "outputs": [
    {
     "data": {
      "text/plain": [
       "361    1586.737288\n",
       "448    1589.373526\n",
       "535    1596.503807\n",
       "621    1601.100000\n",
       "708    1604.510559\n",
       "          ...     \n",
       "162    1534.082090\n",
       "236    2221.344902\n",
       "207    2000.168639\n",
       "212    2024.750623\n",
       "216    2045.793103\n",
       "Name: centroid-0, Length: 67804, dtype: float64"
      ]
     },
     "execution_count": 146,
     "metadata": {},
     "output_type": "execute_result"
    }
   ],
   "source": [
    "cellDataAll['centroid-0']"
   ]
  },
  {
   "cell_type": "code",
   "execution_count": 148,
   "id": "797f9236",
   "metadata": {},
   "outputs": [
    {
     "data": {
      "text/html": [
       "<div>\n",
       "<style scoped>\n",
       "    .dataframe tbody tr th:only-of-type {\n",
       "        vertical-align: middle;\n",
       "    }\n",
       "\n",
       "    .dataframe tbody tr th {\n",
       "        vertical-align: top;\n",
       "    }\n",
       "\n",
       "    .dataframe thead th {\n",
       "        text-align: right;\n",
       "    }\n",
       "</style>\n",
       "<table border=\"1\" class=\"dataframe\">\n",
       "  <thead>\n",
       "    <tr style=\"text-align: right;\">\n",
       "      <th></th>\n",
       "      <th>label</th>\n",
       "      <th>area</th>\n",
       "      <th>centroid-0</th>\n",
       "      <th>centroid-1</th>\n",
       "      <th>major_axis_length</th>\n",
       "      <th>minor_axis_length</th>\n",
       "      <th>orientation</th>\n",
       "      <th>bbox-0</th>\n",
       "      <th>bbox-1</th>\n",
       "      <th>bbox-2</th>\n",
       "      <th>...</th>\n",
       "      <th>background_03</th>\n",
       "      <th>background_04</th>\n",
       "      <th>intensity_01_nuc_corr</th>\n",
       "      <th>intensity_01_ring_corr</th>\n",
       "      <th>intensity_02_nuc_corr</th>\n",
       "      <th>intensity_02_ring_corr</th>\n",
       "      <th>intensity_03_nuc_corr</th>\n",
       "      <th>intensity_03_ring_corr</th>\n",
       "      <th>intensity_04_nuc_corr</th>\n",
       "      <th>intensity_04_ring_corr</th>\n",
       "    </tr>\n",
       "  </thead>\n",
       "  <tbody>\n",
       "  </tbody>\n",
       "</table>\n",
       "<p>0 rows × 40 columns</p>\n",
       "</div>"
      ],
      "text/plain": [
       "Empty DataFrame\n",
       "Columns: [label, area, centroid-0, centroid-1, major_axis_length, minor_axis_length, orientation, bbox-0, bbox-1, bbox-2, bbox-3, image, mean_intensity-0_nuc, mean_intensity-1_nuc, mean_intensity-2_nuc, mean_intensity-3_nuc, centroid-0_ring, centroid-1_ring, mean_intensity-0_ring, mean_intensity-1_ring, mean_intensity-2_ring, mean_intensity-3_ring, track_id, parent, root, generation, accepted, t, background_01, background_02, background_03, background_04, intensity_01_nuc_corr, intensity_01_ring_corr, intensity_02_nuc_corr, intensity_02_ring_corr, intensity_03_nuc_corr, intensity_03_ring_corr, intensity_04_nuc_corr, intensity_04_ring_corr]\n",
       "Index: []\n",
       "\n",
       "[0 rows x 40 columns]"
      ]
     },
     "execution_count": 148,
     "metadata": {},
     "output_type": "execute_result"
    }
   ],
   "source": [
    "cellData"
   ]
  },
  {
   "cell_type": "code",
   "execution_count": 144,
   "id": "64b9c5a7",
   "metadata": {},
   "outputs": [
    {
     "ename": "IndexError",
     "evalue": "index 0 is out of bounds for axis 0 with size 0",
     "output_type": "error",
     "traceback": [
      "\u001b[1;31m---------------------------------------------------------------------------\u001b[0m",
      "\u001b[1;31mIndexError\u001b[0m                                Traceback (most recent call last)",
      "\u001b[1;32m<ipython-input-144-cdb8579d539b>\u001b[0m in \u001b[0;36m<module>\u001b[1;34m\u001b[0m\n\u001b[1;32m----> 1\u001b[1;33m \u001b[1;33m(\u001b[0m\u001b[0mabs\u001b[0m\u001b[1;33m(\u001b[0m\u001b[0mcellDataAll\u001b[0m\u001b[1;33m[\u001b[0m\u001b[1;34m'centroid-0'\u001b[0m\u001b[1;33m]\u001b[0m\u001b[1;33m-\u001b[0m\u001b[0mcellData\u001b[0m\u001b[1;33m[\u001b[0m\u001b[1;34m'centroid-0'\u001b[0m\u001b[1;33m]\u001b[0m\u001b[1;33m[\u001b[0m\u001b[1;36m0\u001b[0m\u001b[1;33m]\u001b[0m\u001b[1;33m)\u001b[0m\u001b[1;33m<\u001b[0m\u001b[1;36m10\u001b[0m\u001b[1;33m)\u001b[0m\u001b[1;33m\u001b[0m\u001b[1;33m\u001b[0m\u001b[0m\n\u001b[0m",
      "\u001b[1;32mC:\\ProgramData\\Anaconda3\\envs\\cellpose\\lib\\site-packages\\pandas\\core\\series.py\u001b[0m in \u001b[0;36m__getitem__\u001b[1;34m(self, key)\u001b[0m\n\u001b[0;32m    848\u001b[0m \u001b[1;33m\u001b[0m\u001b[0m\n\u001b[0;32m    849\u001b[0m         \u001b[1;32mif\u001b[0m \u001b[0mis_integer\u001b[0m\u001b[1;33m(\u001b[0m\u001b[0mkey\u001b[0m\u001b[1;33m)\u001b[0m \u001b[1;32mand\u001b[0m \u001b[0mself\u001b[0m\u001b[1;33m.\u001b[0m\u001b[0mindex\u001b[0m\u001b[1;33m.\u001b[0m\u001b[0m_should_fallback_to_positional\u001b[0m\u001b[1;33m(\u001b[0m\u001b[1;33m)\u001b[0m\u001b[1;33m:\u001b[0m\u001b[1;33m\u001b[0m\u001b[1;33m\u001b[0m\u001b[0m\n\u001b[1;32m--> 850\u001b[1;33m             \u001b[1;32mreturn\u001b[0m \u001b[0mself\u001b[0m\u001b[1;33m.\u001b[0m\u001b[0m_values\u001b[0m\u001b[1;33m[\u001b[0m\u001b[0mkey\u001b[0m\u001b[1;33m]\u001b[0m\u001b[1;33m\u001b[0m\u001b[1;33m\u001b[0m\u001b[0m\n\u001b[0m\u001b[0;32m    851\u001b[0m \u001b[1;33m\u001b[0m\u001b[0m\n\u001b[0;32m    852\u001b[0m         \u001b[1;32melif\u001b[0m \u001b[0mkey_is_scalar\u001b[0m\u001b[1;33m:\u001b[0m\u001b[1;33m\u001b[0m\u001b[1;33m\u001b[0m\u001b[0m\n",
      "\u001b[1;31mIndexError\u001b[0m: index 0 is out of bounds for axis 0 with size 0"
     ]
    }
   ],
   "source": [
    "(abs(cellDataAll['centroid-0']-cellData['centroid-0'][0])<10)"
   ]
  },
  {
   "cell_type": "code",
   "execution_count": 126,
   "id": "df5d82a0",
   "metadata": {},
   "outputs": [
    {
     "data": {
      "text/plain": [
       "(8, 3000)"
      ]
     },
     "execution_count": 126,
     "metadata": {},
     "output_type": "execute_result"
    }
   ],
   "source": [
    "myT,myLabel"
   ]
  },
  {
   "cell_type": "code",
   "execution_count": 104,
   "id": "3906e0a5",
   "metadata": {},
   "outputs": [
    {
     "data": {
      "text/html": [
       "<div>\n",
       "<style scoped>\n",
       "    .dataframe tbody tr th:only-of-type {\n",
       "        vertical-align: middle;\n",
       "    }\n",
       "\n",
       "    .dataframe tbody tr th {\n",
       "        vertical-align: top;\n",
       "    }\n",
       "\n",
       "    .dataframe thead th {\n",
       "        text-align: right;\n",
       "    }\n",
       "</style>\n",
       "<table border=\"1\" class=\"dataframe\">\n",
       "  <thead>\n",
       "    <tr style=\"text-align: right;\">\n",
       "      <th></th>\n",
       "      <th>label</th>\n",
       "      <th>area</th>\n",
       "      <th>centroid-0</th>\n",
       "      <th>centroid-1</th>\n",
       "      <th>orientation</th>\n",
       "      <th>major_axis_length</th>\n",
       "      <th>minor_axis_length</th>\n",
       "      <th>bbox-0</th>\n",
       "      <th>bbox-1</th>\n",
       "      <th>bbox-2</th>\n",
       "      <th>...</th>\n",
       "      <th>intensity_02_nuc_corr</th>\n",
       "      <th>intensity_02_ring_corr</th>\n",
       "      <th>background_03</th>\n",
       "      <th>intensity_03_nuc_corr</th>\n",
       "      <th>intensity_03_ring_corr</th>\n",
       "      <th>background_04</th>\n",
       "      <th>intensity_04_nuc_corr</th>\n",
       "      <th>intensity_04_ring_corr</th>\n",
       "      <th>DHB_ratio</th>\n",
       "      <th>cyc_D_over_p21</th>\n",
       "    </tr>\n",
       "  </thead>\n",
       "  <tbody>\n",
       "    <tr>\n",
       "      <th>67831</th>\n",
       "      <td>152.0</td>\n",
       "      <td>564.0</td>\n",
       "      <td>1838.558511</td>\n",
       "      <td>1067.154255</td>\n",
       "      <td>-0.595808</td>\n",
       "      <td>29.845705</td>\n",
       "      <td>24.19023</td>\n",
       "      <td>1825.0</td>\n",
       "      <td>1054.0</td>\n",
       "      <td>1853.0</td>\n",
       "      <td>...</td>\n",
       "      <td>1166.490553</td>\n",
       "      <td>321.620777</td>\n",
       "      <td>515.813471</td>\n",
       "      <td>304.223763</td>\n",
       "      <td>60.084834</td>\n",
       "      <td>1583.356536</td>\n",
       "      <td>41.602684</td>\n",
       "      <td>-23.710585</td>\n",
       "      <td>NaN</td>\n",
       "      <td>NaN</td>\n",
       "    </tr>\n",
       "  </tbody>\n",
       "</table>\n",
       "<p>1 rows × 42 columns</p>\n",
       "</div>"
      ],
      "text/plain": [
       "       label   area   centroid-0   centroid-1  orientation  major_axis_length  \\\n",
       "67831  152.0  564.0  1838.558511  1067.154255    -0.595808          29.845705   \n",
       "\n",
       "       minor_axis_length  bbox-0  bbox-1  bbox-2  ...  intensity_02_nuc_corr  \\\n",
       "67831           24.19023  1825.0  1054.0  1853.0  ...            1166.490553   \n",
       "\n",
       "      intensity_02_ring_corr  background_03  intensity_03_nuc_corr  \\\n",
       "67831             321.620777     515.813471             304.223763   \n",
       "\n",
       "       intensity_03_ring_corr  background_04  intensity_04_nuc_corr  \\\n",
       "67831               60.084834    1583.356536              41.602684   \n",
       "\n",
       "       intensity_04_ring_corr  DHB_ratio  cyc_D_over_p21  \n",
       "67831              -23.710585        NaN             NaN  \n",
       "\n",
       "[1 rows x 42 columns]"
      ]
     },
     "execution_count": 104,
     "metadata": {},
     "output_type": "execute_result"
    }
   ],
   "source": [
    "cellDataAll.loc[((cellDataAll.track_id==myLabel) & (cellDataAll.t==myT)),:]"
   ]
  },
  {
   "cell_type": "code",
   "execution_count": 116,
   "id": "ac8410d8",
   "metadata": {},
   "outputs": [
    {
     "data": {
      "text/html": [
       "<div>\n",
       "<style scoped>\n",
       "    .dataframe tbody tr th:only-of-type {\n",
       "        vertical-align: middle;\n",
       "    }\n",
       "\n",
       "    .dataframe tbody tr th {\n",
       "        vertical-align: top;\n",
       "    }\n",
       "\n",
       "    .dataframe thead th {\n",
       "        text-align: right;\n",
       "    }\n",
       "</style>\n",
       "<table border=\"1\" class=\"dataframe\">\n",
       "  <thead>\n",
       "    <tr style=\"text-align: right;\">\n",
       "      <th></th>\n",
       "      <th>label</th>\n",
       "      <th>area</th>\n",
       "      <th>centroid-0</th>\n",
       "      <th>centroid-1</th>\n",
       "      <th>orientation</th>\n",
       "      <th>major_axis_length</th>\n",
       "      <th>minor_axis_length</th>\n",
       "      <th>bbox-0</th>\n",
       "      <th>bbox-1</th>\n",
       "      <th>bbox-2</th>\n",
       "      <th>...</th>\n",
       "      <th>intensity_02_nuc_corr</th>\n",
       "      <th>intensity_02_ring_corr</th>\n",
       "      <th>background_03</th>\n",
       "      <th>intensity_03_nuc_corr</th>\n",
       "      <th>intensity_03_ring_corr</th>\n",
       "      <th>background_04</th>\n",
       "      <th>intensity_04_nuc_corr</th>\n",
       "      <th>intensity_04_ring_corr</th>\n",
       "      <th>DHB_ratio</th>\n",
       "      <th>cyc_D_over_p21</th>\n",
       "    </tr>\n",
       "  </thead>\n",
       "  <tbody>\n",
       "  </tbody>\n",
       "</table>\n",
       "<p>0 rows × 42 columns</p>\n",
       "</div>"
      ],
      "text/plain": [
       "Empty DataFrame\n",
       "Columns: [label, area, centroid-0, centroid-1, orientation, major_axis_length, minor_axis_length, bbox-0, bbox-1, bbox-2, bbox-3, image, mean_intensity-0_nuc, mean_intensity-1_nuc, mean_intensity-2_nuc, mean_intensity-3_nuc, t, centroid-0_ring, centroid-1_ring, mean_intensity-0_ring, mean_intensity-1_ring, mean_intensity-2_ring, mean_intensity-3_ring, track_id, parent, generation, root, accepted, background_01, intensity_01_nuc_corr, intensity_01_ring_corr, background_02, intensity_02_nuc_corr, intensity_02_ring_corr, background_03, intensity_03_nuc_corr, intensity_03_ring_corr, background_04, intensity_04_nuc_corr, intensity_04_ring_corr, DHB_ratio, cyc_D_over_p21]\n",
       "Index: []\n",
       "\n",
       "[0 rows x 42 columns]"
      ]
     },
     "execution_count": 116,
     "metadata": {},
     "output_type": "execute_result"
    }
   ],
   "source": [
    "cellDataAll.loc[((cellDataAll.track_id==116) & (cellDataAll.t==myT)),:]"
   ]
  },
  {
   "cell_type": "code",
   "execution_count": 106,
   "id": "92165483",
   "metadata": {},
   "outputs": [],
   "source": [
    "# put nucleus and ring data together\n",
    "cellData = pd.merge(cellData,ringData,how='inner',on='label',suffixes=('_nuc', '_ring'))\n",
    "\n",
    "# modify names\n",
    "myNames = list(cellData.columns)\n",
    "myNames[2] = 'centroid-0'\n",
    "myNames[3] = 'centroid-1'\n",
    "cellData.columns = myNames\n",
    "\n",
    "# add aditional info\n",
    "cellData['t'] = myT\n",
    "cellData['track_id'] = myLabel\n",
    "\n",
    "# collect information about this label and this time point to calculate \n",
    "info_track = cellDataAll.loc[:,['track_id','parent','root','generation','accepted']].drop_duplicates()\n",
    "info_frame = cellDataAll.loc[cellDataAll.t==myT,['t','background_01','background_02','background_03','background_04']].drop_duplicates()\n",
    "\n",
    "# merge it to the data of this frame\n",
    "cellData = cellData.merge(info_track,on='track_id')\n",
    "cellData = cellData.merge(info_frame,on='t')\n",
    "\n",
    "# calculate corrected signals\n",
    "for ch in np.arange(1,5):\n",
    "\n",
    "    cellData[f'intensity_{str(ch).zfill(2)}_nuc_corr'] = cellData[f'mean_intensity-{ch-1}_nuc'] - cellData[f'background_{str(ch).zfill(2)}']\n",
    "    cellData[f'intensity_{str(ch).zfill(2)}_ring_corr'] = cellData[f'mean_intensity-{ch-1}_ring'] - cellData[f'background_{str(ch).zfill(2)}']\n"
   ]
  },
  {
   "cell_type": "code",
   "execution_count": 107,
   "id": "ffd93750",
   "metadata": {},
   "outputs": [
    {
     "data": {
      "text/html": [
       "<div>\n",
       "<style scoped>\n",
       "    .dataframe tbody tr th:only-of-type {\n",
       "        vertical-align: middle;\n",
       "    }\n",
       "\n",
       "    .dataframe tbody tr th {\n",
       "        vertical-align: top;\n",
       "    }\n",
       "\n",
       "    .dataframe thead th {\n",
       "        text-align: right;\n",
       "    }\n",
       "</style>\n",
       "<table border=\"1\" class=\"dataframe\">\n",
       "  <thead>\n",
       "    <tr style=\"text-align: right;\">\n",
       "      <th></th>\n",
       "      <th>label</th>\n",
       "      <th>area</th>\n",
       "      <th>centroid-0</th>\n",
       "      <th>centroid-1</th>\n",
       "      <th>major_axis_length</th>\n",
       "      <th>minor_axis_length</th>\n",
       "      <th>orientation</th>\n",
       "      <th>bbox-0</th>\n",
       "      <th>bbox-1</th>\n",
       "      <th>bbox-2</th>\n",
       "      <th>...</th>\n",
       "      <th>background_03</th>\n",
       "      <th>background_04</th>\n",
       "      <th>intensity_01_nuc_corr</th>\n",
       "      <th>intensity_01_ring_corr</th>\n",
       "      <th>intensity_02_nuc_corr</th>\n",
       "      <th>intensity_02_ring_corr</th>\n",
       "      <th>intensity_03_nuc_corr</th>\n",
       "      <th>intensity_03_ring_corr</th>\n",
       "      <th>intensity_04_nuc_corr</th>\n",
       "      <th>intensity_04_ring_corr</th>\n",
       "    </tr>\n",
       "  </thead>\n",
       "  <tbody>\n",
       "    <tr>\n",
       "      <th>0</th>\n",
       "      <td>152</td>\n",
       "      <td>564</td>\n",
       "      <td>1838.558511</td>\n",
       "      <td>1067.154255</td>\n",
       "      <td>29.845705</td>\n",
       "      <td>24.19023</td>\n",
       "      <td>-0.595808</td>\n",
       "      <td>1825</td>\n",
       "      <td>1054</td>\n",
       "      <td>1853</td>\n",
       "      <td>...</td>\n",
       "      <td>515.813471</td>\n",
       "      <td>1583.356536</td>\n",
       "      <td>52.688308</td>\n",
       "      <td>4.522352</td>\n",
       "      <td>1166.490553</td>\n",
       "      <td>321.620777</td>\n",
       "      <td>304.223763</td>\n",
       "      <td>60.084834</td>\n",
       "      <td>41.602684</td>\n",
       "      <td>-23.710585</td>\n",
       "    </tr>\n",
       "  </tbody>\n",
       "</table>\n",
       "<p>1 rows × 40 columns</p>\n",
       "</div>"
      ],
      "text/plain": [
       "   label  area   centroid-0   centroid-1  major_axis_length  \\\n",
       "0    152   564  1838.558511  1067.154255          29.845705   \n",
       "\n",
       "   minor_axis_length  orientation  bbox-0  bbox-1  bbox-2  ...  background_03  \\\n",
       "0           24.19023    -0.595808    1825    1054    1853  ...     515.813471   \n",
       "\n",
       "  background_04  intensity_01_nuc_corr  intensity_01_ring_corr  \\\n",
       "0   1583.356536              52.688308                4.522352   \n",
       "\n",
       "   intensity_02_nuc_corr  intensity_02_ring_corr  intensity_03_nuc_corr  \\\n",
       "0            1166.490553              321.620777             304.223763   \n",
       "\n",
       "   intensity_03_ring_corr  intensity_04_nuc_corr  intensity_04_ring_corr  \n",
       "0               60.084834              41.602684              -23.710585  \n",
       "\n",
       "[1 rows x 40 columns]"
      ]
     },
     "execution_count": 107,
     "metadata": {},
     "output_type": "execute_result"
    }
   ],
   "source": [
    "cellData"
   ]
  },
  {
   "cell_type": "code",
   "execution_count": 108,
   "id": "25a33508",
   "metadata": {},
   "outputs": [
    {
     "data": {
      "text/plain": [
       "1"
      ]
     },
     "execution_count": 108,
     "metadata": {},
     "output_type": "execute_result"
    }
   ],
   "source": [
    "what_to_drop = ((cellDataAll.t==myT) & (cellDataAll.track_id==myLabel))\n",
    "np.sum(what_to_drop)"
   ]
  },
  {
   "cell_type": "code",
   "execution_count": 109,
   "id": "190045a4",
   "metadata": {},
   "outputs": [
    {
     "data": {
      "text/plain": [
       "2"
      ]
     },
     "execution_count": 109,
     "metadata": {},
     "output_type": "execute_result"
    }
   ],
   "source": [
    "drop_overlaping_neighbours = ((cellDataAll.t==myT) & (abs(cellDataAll['centroid-0']-cellData['centroid-0'][0])<10) & (abs(cellDataAll['centroid-1']-cellData['centroid-1'][0])<10))\n",
    "np.sum(drop_overlaping_neighbours)"
   ]
  },
  {
   "cell_type": "code",
   "execution_count": 112,
   "id": "41b80e87",
   "metadata": {},
   "outputs": [],
   "source": [
    "what_to_drop = (what_to_drop | drop_overlaping_neighbours)"
   ]
  },
  {
   "cell_type": "code",
   "execution_count": 114,
   "id": "a7a81442",
   "metadata": {},
   "outputs": [
    {
     "data": {
      "text/plain": [
       "17623    116.0\n",
       "67831    152.0\n",
       "Name: track_id, dtype: float64"
      ]
     },
     "execution_count": 114,
     "metadata": {},
     "output_type": "execute_result"
    }
   ],
   "source": [
    "cellDataAll.loc[what_to_drop,'track_id']"
   ]
  },
  {
   "cell_type": "code",
   "execution_count": 115,
   "id": "4cb563d9",
   "metadata": {},
   "outputs": [],
   "source": [
    "cellDataAll.drop(cellDataAll[what_to_drop].index,axis=0,inplace=True)"
   ]
  },
  {
   "cell_type": "code",
   "execution_count": 80,
   "id": "d8e35c9a",
   "metadata": {},
   "outputs": [
    {
     "data": {
      "text/plain": [
       "0       -276.624838\n",
       "1               NaN\n",
       "2               NaN\n",
       "3               NaN\n",
       "4               NaN\n",
       "            ...    \n",
       "67826           NaN\n",
       "67827           NaN\n",
       "67828           NaN\n",
       "67829           NaN\n",
       "67830           NaN\n",
       "Name: centroid-0, Length: 67831, dtype: float64"
      ]
     },
     "execution_count": 80,
     "metadata": {},
     "output_type": "execute_result"
    }
   ],
   "source": [
    "cellDataAll['centroid-0']-cellData['centroid-0']"
   ]
  },
  {
   "cell_type": "code",
   "execution_count": 82,
   "id": "fcb238cb",
   "metadata": {},
   "outputs": [
    {
     "data": {
      "text/plain": [
       "1863.362126245847"
      ]
     },
     "execution_count": 82,
     "metadata": {},
     "output_type": "execute_result"
    }
   ],
   "source": [
    "cellData['centroid-0'][0]"
   ]
  },
  {
   "cell_type": "code",
   "execution_count": 55,
   "id": "e997bedc",
   "metadata": {},
   "outputs": [
    {
     "data": {
      "text/plain": [
       "17618    116.0\n",
       "Name: track_id, dtype: float64"
      ]
     },
     "execution_count": 55,
     "metadata": {},
     "output_type": "execute_result"
    }
   ],
   "source": [
    "cellDataAll.loc[drop_overlaping_neighbours,'track_id']"
   ]
  },
  {
   "cell_type": "code",
   "execution_count": 56,
   "id": "8eb79167",
   "metadata": {},
   "outputs": [
    {
     "data": {
      "text/plain": [
       "2"
      ]
     },
     "execution_count": 56,
     "metadata": {},
     "output_type": "execute_result"
    }
   ],
   "source": [
    "np.sum(what_to_drop | drop_overlaping_neighbours)"
   ]
  },
  {
   "cell_type": "code",
   "execution_count": 117,
   "id": "98494004",
   "metadata": {},
   "outputs": [],
   "source": [
    "# modify the data for the layer\n",
    "data,properties,graph = gen.trackData_from_df(cellDataAll)\n",
    "\n",
    "# change tracks layer\n",
    "viewer.layers['tracking'].data = data\n",
    "viewer.layers['tracking'].properties = properties\n",
    "viewer.layers['tracking'].graph = graph"
   ]
  },
  {
   "cell_type": "code",
   "execution_count": 18,
   "id": "6e9c9cd8",
   "metadata": {},
   "outputs": [
    {
     "name": "stderr",
     "output_type": "stream",
     "text": [
      "WARNING: QMainWindow::saveState(): 'objectName' not set for QDockWidget 0x215ad2eca00 ';\n",
      "WARNING: QMainWindow::saveState(): 'objectName' not set for QDockWidget 0x215acec70f0 ';\n",
      "WARNING: QMainWindow::saveState(): 'objectName' not set for QDockWidget 0x215ad2de8b0 ';\n",
      "WARNING: QMainWindow::saveState(): 'objectName' not set for QDockWidget 0x2159c48f890 ';\n",
      "WARNING: QMainWindow::saveState(): 'objectName' not set for QDockWidget 0x215ace725e0 ';\n",
      "WARNING: QMainWindow::saveState(): 'objectName' not set for QDockWidget 0x215aa8cefa0 ';\n"
     ]
    }
   ],
   "source": [
    "# saving\n",
    "# it should go under the button with a separate thread\n",
    "\n",
    "myDirSave = r'Z:\\Wayne\\20210618_RPE_p21_cycD1_DHB_H2B\\tracking'\n",
    "myDirSave = os.path.join(myDirSave,f'{myFov}_napari')\n",
    "\n",
    "# read in labels as tracks\n",
    "imsave(os.path.join(myDirSave,f'corrected_labels_{myFov}.tif'),myLabels,dtype=myIm.dtype,shape=myIm.shape)\n",
    "\n",
    "cellDataAll.to_pickle(os.path.join(dfDir,f'cellPose_btrack_regionprops_bck_corr_{myFov}.pkl'))"
   ]
  },
  {
   "cell_type": "code",
   "execution_count": 132,
   "id": "e884ea4a",
   "metadata": {},
   "outputs": [
    {
     "name": "stderr",
     "output_type": "stream",
     "text": [
      "C:\\ProgramData\\Anaconda3\\envs\\cellpose\\lib\\site-packages\\napari\\layers\\tracks\\tracks.py:391: UserWarning: Previous color_by key 't' not present in new properties. Falling back to track_id\n",
      "  UserWarning,\n"
     ]
    }
   ],
   "source": [
    "# swapping tracks based on 4 points - in development\n",
    "\n",
    "@viewer.bind_key('r',overwrite=True)\n",
    "def swap_points(viewer):\n",
    "\n",
    "    swapPoints = viewer.layers['swapPoints'].data.astype(int)\n",
    "\n",
    "    # check that you get a good set of swapPoints\n",
    "    lenTest = (len(swapPoints) == 4)\n",
    "\n",
    "    if lenTest:\n",
    "\n",
    "        framesToSwap = list(set(swapPoints[:,0]))\n",
    "        framesToSwap.sort()\n",
    "        frameTest = (framesToSwap[1] == framesToSwap[0]+1)\n",
    "\n",
    "\n",
    "        # read in in-progress tracks\n",
    "        inProgressTracks = viewer.layers['inProgressStack'].data\n",
    "\n",
    "        # check tracks\n",
    "        myTracks = []\n",
    "        for myPoint in swapPoints:\n",
    "\n",
    "            myTracks.append(inProgressTracks[tuple(myPoint)])\n",
    "\n",
    "        trackTest = (len(set(myTracks)) == 2)\n",
    "\n",
    "        if (lenTest and frameTest and trackTest):\n",
    "\n",
    "            # get tracks numbers\n",
    "            track_1 = list((set(myTracks)))[0] \n",
    "            track_2 = list((set(myTracks)))[1]\n",
    "\n",
    "            frame_change = np.max(framesToSwap)\n",
    "\n",
    "\n",
    "            inProgressTracks[frame_change:,:,:][inProgressTracks[frame_change:,:,:]==track_1]=4095\n",
    "            inProgressTracks[frame_change:,:,:][inProgressTracks[frame_change:,:,:]==track_2]=track_1\n",
    "            inProgressTracks[frame_change:,:,:][inProgressTracks[frame_change:,:,:]==4095]=track_2\n",
    "\n",
    "            # change labels layer\n",
    "            viewer.layers.pop('inProgressStack')\n",
    "            viewer.add_labels(inProgressTracks,name='inProgressStack',opacity = 0.5)\n",
    "\n",
    "\n",
    "            # change graph\n",
    "            children_1 = set(data[((properties['parent']==track_1) & (properties['generation']>0)),0])\n",
    "\n",
    "            for child in children_1:\n",
    "\n",
    "                graph[int(child)] = track_2\n",
    "\n",
    "            children_2 = set(data[((properties['parent']==track_2) & (properties['generation']>0)),0])\n",
    "\n",
    "            for child in children_2:\n",
    "\n",
    "                graph[int(child)] = track_1\n",
    "\n",
    "\n",
    "            # change tracking data\n",
    "            track1_change = ((data[:,0]==track_1) & (data[:,1]>=frame_change))\n",
    "            track2_change = ((data[:,0]==track_2) & (data[:,1]>=frame_change))\n",
    "\n",
    "            data[track2_change,0] = track_1\n",
    "            data[track1_change,0] = track_2\n",
    "\n",
    "            # change info about the parent \n",
    "            track1_change = ((properties['parent']==track_1) & (data[:,1]>=frame_change))\n",
    "            track2_change = ((properties['parent']==track_2) & (data[:,1]>=frame_change))\n",
    "\n",
    "            properties['parent'][track1_change] = track_2\n",
    "            properties['parent'][track2_change] = track_1\n",
    "\n",
    "            # change info about the root\n",
    "            root1 = properties['root'][track1_change][0]\n",
    "            root2 = properties['root'][track2_change][0]\n",
    "\n",
    "            track1_change = ((properties['root']==root1) & (data[:,1]>=frame_change))\n",
    "            track2_change = ((properties['root']==root2) & (data[:,1]>=frame_change))\n",
    "\n",
    "            properties['root'][track1_change] = root2\n",
    "            properties['root'][track2_change] = root1\n",
    "\n",
    "            # change info about the generation\n",
    "            gen1 = properties['generation'][(properties['t']==(frame_change-1)) & (data[:,0]==track_1)]\n",
    "            gen2 = properties['generation'][(properties['t']==(frame_change-1)) & (data[:,0]==track_2)]\n",
    "\n",
    "            properties['generation'][track1_change] = properties['generation'][track1_change] + gen2 - gen1\n",
    "            properties['generation'][track2_change] = properties['generation'][track2_change] + gen1 - gen2\n",
    "\n",
    "\n",
    "\n",
    "            # update tracking data\n",
    "            viewer.layers['data'].data = data\n",
    "            viewer.layers['data'].properties = properties\n",
    "            viewer.layers['data'].graph = graph\n",
    "\n",
    "            # clean swap points\n",
    "            viewer.layers['swapPoints'].data = []\n",
    "\n",
    "            viewer.status='Tracks have been swapped.'\n",
    "\n",
    "        else:\n",
    "\n",
    "            viewer.status='Swap points are incorrect.'\n",
    "    else:\n",
    "\n",
    "        viewer.status='Swap points are incorrect.'"
   ]
  },
  {
   "cell_type": "code",
   "execution_count": null,
   "id": "32903889",
   "metadata": {},
   "outputs": [],
   "source": [
    "# fix update of the small stack to nothing (at the moment it keeps the old cell)"
   ]
  },
  {
   "cell_type": "code",
   "execution_count": null,
   "id": "53ca389f",
   "metadata": {},
   "outputs": [],
   "source": [
    "# move graphs from matplotlib to qt and add them vertical lines\n",
    "# add numbering of the frames to gallery"
   ]
  },
  {
   "cell_type": "code",
   "execution_count": null,
   "id": "5bb8367b",
   "metadata": {},
   "outputs": [],
   "source": [
    "# what to do with ghost objects"
   ]
  },
  {
   "cell_type": "code",
   "execution_count": null,
   "id": "b315eab7",
   "metadata": {},
   "outputs": [],
   "source": [
    "# key binding for linking function\n",
    "\n",
    "# check if parent have different offspring\n",
    "\n",
    "# no other offspring\n",
    "# connect points\n",
    "\n",
    "# other offspring\n",
    "# connect\n",
    "# add to the graph\n",
    "\n",
    "# what if objects didn;t"
   ]
  },
  {
   "cell_type": "code",
   "execution_count": null,
   "id": "8e305633",
   "metadata": {},
   "outputs": [],
   "source": [
    "# label image should probably become a float image"
   ]
  }
 ],
 "metadata": {
  "kernelspec": {
   "display_name": "Python 3",
   "language": "python",
   "name": "python3"
  },
  "language_info": {
   "codemirror_mode": {
    "name": "ipython",
    "version": 3
   },
   "file_extension": ".py",
   "mimetype": "text/x-python",
   "name": "python",
   "nbconvert_exporter": "python",
   "pygments_lexer": "ipython3",
   "version": "3.7.10"
  }
 },
 "nbformat": 4,
 "nbformat_minor": 5
}
