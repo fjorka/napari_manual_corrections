{
 "cells": [
  {
   "cell_type": "code",
   "execution_count": 1,
   "id": "f49352f4",
   "metadata": {},
   "outputs": [],
   "source": [
    "import os\n",
    "import sys\n",
    "import time\n",
    "import napari\n",
    "import pickle\n",
    "import h5py\n",
    "import importlib\n",
    "import numpy as np\n",
    "import pandas as pd\n",
    "\n",
    "from napari import Viewer\n",
    "\n",
    "from skimage import measure\n",
    "from skimage.filters import threshold_otsu\n",
    "from skimage.segmentation import clear_border\n",
    "from skimage.morphology import white_tophat, disk\n",
    "\n",
    "from napari.qt.threading import thread_worker\n",
    "from matplotlib.backends.backend_qt5agg import FigureCanvas\n",
    "from matplotlib.figure import Figure\n",
    "\n",
    "from tifffile import imread,imsave,TiffFile\n",
    "import matplotlib.pyplot as plt\n",
    "import seaborn as sn\n",
    "\n",
    "from nd2reader import ND2Reader\n",
    "import btrack\n",
    "\n",
    "from magicgui import magicgui\n",
    "\n",
    "sys.path.append(r'D:\\imPy\\libraries') \n",
    "sys.path.append(r'D:\\BARC\\napari_tracking_manual')\n",
    "\n",
    "gallery_functions = importlib.import_module('gallery_functions')\n",
    "my_napari = importlib.import_module('napari_display_functions')\n",
    "fov_f = importlib.import_module('fovRingsLibrary')"
   ]
  },
  {
   "cell_type": "code",
   "execution_count": 2,
   "id": "28c56fe5",
   "metadata": {},
   "outputs": [
    {
     "data": {
      "text/plain": [
       "<module 'fovRingsLibrary' from 'D:\\\\imPy\\\\libraries\\\\fovRingsLibrary.py'>"
      ]
     },
     "execution_count": 2,
     "metadata": {},
     "output_type": "execute_result"
    }
   ],
   "source": [
    "importlib.reload(gallery_functions)\n",
    "importlib.reload(my_napari)\n",
    "importlib.reload(fov_f)"
   ]
  },
  {
   "cell_type": "code",
   "execution_count": 3,
   "id": "cfcf87fa",
   "metadata": {},
   "outputs": [],
   "source": [
    "myFov = '01'\n",
    "\n",
    "myDirIm = r'Z:\\Wayne\\20210618_RPE_p21_cycD1_DHB_H2B\\tiffs'\n",
    "\n",
    "# specify tracking channel\n",
    "myFile_track_im = f'20210618_RPE_p21_cycD1_DHB_H2B_series_{myFov}_ch_01.tif'\n",
    "track_intensity = 'intensity_01_nuc_corr' # name of the column\n",
    "\n",
    "# specify additional channels\n",
    "myFile_signal_im = [f'20210618_RPE_p21_cycD1_DHB_H2B_series_{myFov}_ch_02.tif',\n",
    "                    f'20210618_RPE_p21_cycD1_DHB_H2B_series_{myFov}_ch_03.tif',\n",
    "                   f'20210618_RPE_p21_cycD1_DHB_H2B_series_{myFov}_ch_04.tif']\n",
    "\n",
    "colors_list = ['red','green','magenta']\n",
    "names_list = ['DHB','cyclinD','p21']\n",
    "\n",
    "# specify columns to plot\n",
    "to_plot_signals = ['DHB_ratio','intensity_03_nuc_corr','intensity_04_nuc_corr','cyc_D_over_p21'] # name of the column\n",
    "to_plot_names = ['DHB_ratio [cyt/nuc]','cyclinD','p21','Cyclin D/p21 (mean)']\n",
    "to_plot_colors = ['red','green','blue','black']\n",
    "\n",
    "\n",
    "myDirTracks = r'Z:\\Wayne\\20210618_RPE_p21_cycD1_DHB_H2B\\tracking'\n",
    "myDirTracks = os.path.join(myDirTracks,myFov)\n",
    "dfDir = r'Z:\\Wayne\\20210618_RPE_p21_cycD1_DHB_H2B\\tracking'\n",
    "dfDir = os.path.join(dfDir,f'{myFov}_napari')"
   ]
  },
  {
   "cell_type": "code",
   "execution_count": 4,
   "id": "5438524f",
   "metadata": {},
   "outputs": [],
   "source": [
    "modelPath = r'D:\\BARC\\Sonja_2021\\b_track\\cell_config.json'\n",
    "\n",
    "btrack_init_path = os.path.join(dfDir,f'{myFov}_tracks_init.h5')\n",
    "btrack_mod_path = os.path.join(dfDir,f'{myFov}_tracks_mod.h5')"
   ]
  },
  {
   "cell_type": "markdown",
   "id": "5930f0d4",
   "metadata": {},
   "source": [
    "## Read in the tracking channel"
   ]
  },
  {
   "cell_type": "code",
   "execution_count": 5,
   "id": "d809782d",
   "metadata": {},
   "outputs": [
    {
     "name": "stdout",
     "output_type": "stream",
     "text": [
      "Wall time: 50.8 s\n"
     ]
    },
    {
     "data": {
      "text/plain": [
       "(361, 2765, 2765)"
      ]
     },
     "execution_count": 5,
     "metadata": {},
     "output_type": "execute_result"
    }
   ],
   "source": [
    "%%time\n",
    "\n",
    "# read in image\n",
    "myIm = imread(os.path.join(myDirIm,myFile_track_im))\n",
    "myIm.shape"
   ]
  },
  {
   "cell_type": "markdown",
   "id": "296f85d4",
   "metadata": {},
   "source": [
    "## Read in signal channels"
   ]
  },
  {
   "cell_type": "code",
   "execution_count": 6,
   "id": "a91d448f",
   "metadata": {},
   "outputs": [
    {
     "name": "stdout",
     "output_type": "stream",
     "text": [
      "Wall time: 2min 32s\n"
     ]
    }
   ],
   "source": [
    "%%time\n",
    "\n",
    "myIm_signal_list = []\n",
    "# read in additional signal images\n",
    "for myFile in myFile_signal_im:\n",
    "    temp = imread(os.path.join(myDirIm,myFile))\n",
    "    myIm_signal_list.append(temp)"
   ]
  },
  {
   "cell_type": "markdown",
   "id": "560fa163",
   "metadata": {},
   "source": [
    "## Read in tracks in a form of labels"
   ]
  },
  {
   "cell_type": "code",
   "execution_count": 7,
   "id": "daaebf83",
   "metadata": {},
   "outputs": [
    {
     "name": "stdout",
     "output_type": "stream",
     "text": [
      "Wall time: 1min 23s\n"
     ]
    }
   ],
   "source": [
    "%%time\n",
    "\n",
    "# read in labels as tracks\n",
    "myLabels =[]\n",
    "\n",
    "fovFiles = [x for x in os.listdir(myDirTracks) if f'series_{myFov}_' in x]\n",
    "\n",
    "for myFile in fovFiles:\n",
    "    \n",
    "    # read a mask\n",
    "    labels = imread(os.path.join(myDirTracks,myFile))\n",
    "    \n",
    "    myLabels.append(labels)\n",
    "    \n",
    "myLabels = np.array(myLabels)"
   ]
  },
  {
   "cell_type": "markdown",
   "id": "5fae2cda",
   "metadata": {},
   "source": [
    "## Get latest tracking"
   ]
  },
  {
   "cell_type": "code",
   "execution_count": 8,
   "id": "f46fd875",
   "metadata": {},
   "outputs": [
    {
     "name": "stdout",
     "output_type": "stream",
     "text": [
      "Opening original tracking.\n"
     ]
    }
   ],
   "source": [
    "# check if modified tracking exists\n",
    "\n",
    "try:\n",
    "    f = open(btrack_mod_path.replace('h5','pkl'),'rb')\n",
    "    \n",
    "    print('Opening corrected tracking.')\n",
    "\n",
    "except(FileNotFoundError):\n",
    "  \n",
    "    f = open(btrack_init_path.replace('h5','pkl'),'rb')\n",
    "    print('Opening original tracking.')\n",
    "\n",
    "data, properties, graph = pickle.load(f)"
   ]
  },
  {
   "cell_type": "markdown",
   "id": "476883fb",
   "metadata": {},
   "source": [
    "## Get the full data frame"
   ]
  },
  {
   "cell_type": "code",
   "execution_count": 9,
   "id": "cb192116",
   "metadata": {},
   "outputs": [],
   "source": [
    "cellDataAll=pd.read_pickle(os.path.join(dfDir,f'cellPose_btrack_regionprops_bck_{myFov}.pkl'))\n",
    "cellDataAll.drop(['file','x','y'],axis=1,inplace=True)"
   ]
  },
  {
   "cell_type": "code",
   "execution_count": 10,
   "id": "8c174de8",
   "metadata": {},
   "outputs": [],
   "source": [
    "# create an array for visualization of accepted points\n",
    "selData=cellDataAll.loc[cellDataAll.accepted==True,:]\n",
    "acceptedPoints = np.array([selData['t'],selData['centroid-0'],selData['centroid-1']]).T "
   ]
  },
  {
   "cell_type": "code",
   "execution_count": 11,
   "id": "ba11dfc8",
   "metadata": {},
   "outputs": [
    {
     "data": {
      "text/html": [
       "<div>\n",
       "<style scoped>\n",
       "    .dataframe tbody tr th:only-of-type {\n",
       "        vertical-align: middle;\n",
       "    }\n",
       "\n",
       "    .dataframe tbody tr th {\n",
       "        vertical-align: top;\n",
       "    }\n",
       "\n",
       "    .dataframe thead th {\n",
       "        text-align: right;\n",
       "    }\n",
       "</style>\n",
       "<table border=\"1\" class=\"dataframe\">\n",
       "  <thead>\n",
       "    <tr style=\"text-align: right;\">\n",
       "      <th></th>\n",
       "      <th>label</th>\n",
       "      <th>area</th>\n",
       "      <th>centroid-0</th>\n",
       "      <th>centroid-1</th>\n",
       "      <th>orientation</th>\n",
       "      <th>major_axis_length</th>\n",
       "      <th>minor_axis_length</th>\n",
       "      <th>bbox-0</th>\n",
       "      <th>bbox-1</th>\n",
       "      <th>bbox-2</th>\n",
       "      <th>...</th>\n",
       "      <th>intensity_02_nuc_corr</th>\n",
       "      <th>intensity_02_ring_corr</th>\n",
       "      <th>background_03</th>\n",
       "      <th>intensity_03_nuc_corr</th>\n",
       "      <th>intensity_03_ring_corr</th>\n",
       "      <th>background_04</th>\n",
       "      <th>intensity_04_nuc_corr</th>\n",
       "      <th>intensity_04_ring_corr</th>\n",
       "      <th>DHB_ratio</th>\n",
       "      <th>cyc_D_over_p21</th>\n",
       "    </tr>\n",
       "  </thead>\n",
       "  <tbody>\n",
       "    <tr>\n",
       "      <th>0</th>\n",
       "      <td>1</td>\n",
       "      <td>353</td>\n",
       "      <td>7.277620</td>\n",
       "      <td>2400.410765</td>\n",
       "      <td>-1.410806</td>\n",
       "      <td>25.969168</td>\n",
       "      <td>18.036581</td>\n",
       "      <td>0</td>\n",
       "      <td>2388</td>\n",
       "      <td>18</td>\n",
       "      <td>...</td>\n",
       "      <td>1205.090791</td>\n",
       "      <td>227.170204</td>\n",
       "      <td>748.129512</td>\n",
       "      <td>227.595700</td>\n",
       "      <td>33.141729</td>\n",
       "      <td>1934.079928</td>\n",
       "      <td>-41.558682</td>\n",
       "      <td>-31.655091</td>\n",
       "      <td>0.188509</td>\n",
       "      <td>-5.476490</td>\n",
       "    </tr>\n",
       "    <tr>\n",
       "      <th>1</th>\n",
       "      <td>2</td>\n",
       "      <td>632</td>\n",
       "      <td>26.928797</td>\n",
       "      <td>1711.330696</td>\n",
       "      <td>-0.934733</td>\n",
       "      <td>30.203461</td>\n",
       "      <td>26.730650</td>\n",
       "      <td>13</td>\n",
       "      <td>1697</td>\n",
       "      <td>42</td>\n",
       "      <td>...</td>\n",
       "      <td>322.688395</td>\n",
       "      <td>388.158446</td>\n",
       "      <td>748.129512</td>\n",
       "      <td>59.300867</td>\n",
       "      <td>29.218314</td>\n",
       "      <td>1934.079928</td>\n",
       "      <td>-27.586257</td>\n",
       "      <td>-14.976667</td>\n",
       "      <td>1.202889</td>\n",
       "      <td>-2.149653</td>\n",
       "    </tr>\n",
       "    <tr>\n",
       "      <th>2</th>\n",
       "      <td>3</td>\n",
       "      <td>511</td>\n",
       "      <td>29.324853</td>\n",
       "      <td>2736.291585</td>\n",
       "      <td>-1.315686</td>\n",
       "      <td>38.273719</td>\n",
       "      <td>17.379927</td>\n",
       "      <td>19</td>\n",
       "      <td>2717</td>\n",
       "      <td>39</td>\n",
       "      <td>...</td>\n",
       "      <td>246.690931</td>\n",
       "      <td>27.343267</td>\n",
       "      <td>748.129512</td>\n",
       "      <td>231.623912</td>\n",
       "      <td>52.668360</td>\n",
       "      <td>1934.079928</td>\n",
       "      <td>7.828095</td>\n",
       "      <td>-15.663261</td>\n",
       "      <td>0.110840</td>\n",
       "      <td>29.588795</td>\n",
       "    </tr>\n",
       "    <tr>\n",
       "      <th>3</th>\n",
       "      <td>4</td>\n",
       "      <td>555</td>\n",
       "      <td>49.800000</td>\n",
       "      <td>1879.099099</td>\n",
       "      <td>-1.228809</td>\n",
       "      <td>30.717216</td>\n",
       "      <td>23.097163</td>\n",
       "      <td>38</td>\n",
       "      <td>1865</td>\n",
       "      <td>62</td>\n",
       "      <td>...</td>\n",
       "      <td>105.312157</td>\n",
       "      <td>127.468386</td>\n",
       "      <td>748.129512</td>\n",
       "      <td>16.958776</td>\n",
       "      <td>-6.331781</td>\n",
       "      <td>1934.079928</td>\n",
       "      <td>-63.663712</td>\n",
       "      <td>-66.399399</td>\n",
       "      <td>1.210386</td>\n",
       "      <td>-0.266381</td>\n",
       "    </tr>\n",
       "    <tr>\n",
       "      <th>4</th>\n",
       "      <td>5</td>\n",
       "      <td>423</td>\n",
       "      <td>56.040189</td>\n",
       "      <td>286.456265</td>\n",
       "      <td>-1.239673</td>\n",
       "      <td>30.591690</td>\n",
       "      <td>17.750233</td>\n",
       "      <td>46</td>\n",
       "      <td>273</td>\n",
       "      <td>66</td>\n",
       "      <td>...</td>\n",
       "      <td>369.661234</td>\n",
       "      <td>66.441352</td>\n",
       "      <td>748.129512</td>\n",
       "      <td>238.402402</td>\n",
       "      <td>39.864340</td>\n",
       "      <td>1934.079928</td>\n",
       "      <td>-22.744231</td>\n",
       "      <td>-18.465174</td>\n",
       "      <td>0.179736</td>\n",
       "      <td>-10.481885</td>\n",
       "    </tr>\n",
       "  </tbody>\n",
       "</table>\n",
       "<p>5 rows × 42 columns</p>\n",
       "</div>"
      ],
      "text/plain": [
       "   label  area  centroid-0   centroid-1  orientation  major_axis_length  \\\n",
       "0      1   353    7.277620  2400.410765    -1.410806          25.969168   \n",
       "1      2   632   26.928797  1711.330696    -0.934733          30.203461   \n",
       "2      3   511   29.324853  2736.291585    -1.315686          38.273719   \n",
       "3      4   555   49.800000  1879.099099    -1.228809          30.717216   \n",
       "4      5   423   56.040189   286.456265    -1.239673          30.591690   \n",
       "\n",
       "   minor_axis_length  bbox-0  bbox-1  bbox-2  ...  intensity_02_nuc_corr  \\\n",
       "0          18.036581       0    2388      18  ...            1205.090791   \n",
       "1          26.730650      13    1697      42  ...             322.688395   \n",
       "2          17.379927      19    2717      39  ...             246.690931   \n",
       "3          23.097163      38    1865      62  ...             105.312157   \n",
       "4          17.750233      46     273      66  ...             369.661234   \n",
       "\n",
       "  intensity_02_ring_corr  background_03  intensity_03_nuc_corr  \\\n",
       "0             227.170204     748.129512             227.595700   \n",
       "1             388.158446     748.129512              59.300867   \n",
       "2              27.343267     748.129512             231.623912   \n",
       "3             127.468386     748.129512              16.958776   \n",
       "4              66.441352     748.129512             238.402402   \n",
       "\n",
       "   intensity_03_ring_corr  background_04  intensity_04_nuc_corr  \\\n",
       "0               33.141729    1934.079928             -41.558682   \n",
       "1               29.218314    1934.079928             -27.586257   \n",
       "2               52.668360    1934.079928               7.828095   \n",
       "3               -6.331781    1934.079928             -63.663712   \n",
       "4               39.864340    1934.079928             -22.744231   \n",
       "\n",
       "   intensity_04_ring_corr  DHB_ratio  cyc_D_over_p21  \n",
       "0              -31.655091   0.188509       -5.476490  \n",
       "1              -14.976667   1.202889       -2.149653  \n",
       "2              -15.663261   0.110840       29.588795  \n",
       "3              -66.399399   1.210386       -0.266381  \n",
       "4              -18.465174   0.179736      -10.481885  \n",
       "\n",
       "[5 rows x 42 columns]"
      ]
     },
     "execution_count": 11,
     "metadata": {},
     "output_type": "execute_result"
    }
   ],
   "source": [
    "cellDataAll.head()"
   ]
  },
  {
   "cell_type": "code",
   "execution_count": null,
   "id": "4b48cb94",
   "metadata": {},
   "outputs": [],
   "source": [
    "# other preparations\n",
    "\n",
    "# create intensity image\n",
    "intIm = np.zeros([myIm.shape[1],myIm.shape[2],len(myIm_signal_list)+1]).astype('uint16')"
   ]
  },
  {
   "cell_type": "markdown",
   "id": "521c6322",
   "metadata": {},
   "source": [
    "## Main viewer"
   ]
  },
  {
   "cell_type": "code",
   "execution_count": 12,
   "id": "3e02ba9b",
   "metadata": {},
   "outputs": [],
   "source": [
    "viewer = napari.Viewer()\n",
    "\n",
    "# tracking layers\n",
    "viewer.add_image(myIm,colormap='gray',contrast_limits=(0, 2000),opacity = 1)\n",
    "\n",
    "track_layer=viewer.add_tracks(data, properties=properties, graph=graph,name='tracking')\n",
    "track_layer.display_id=True\n",
    "\n",
    "layer_inProgress = viewer.add_labels(myLabels,name='objects',opacity = 0.5)\n",
    "\n",
    "# signal layers\n",
    "for myIm_signal,myColor,myName in zip(myIm_signal_list,colors_list,names_list):\n",
    "    viewer.add_image(myIm_signal,colormap=myColor,contrast_limits=(0, 4000),opacity = 1,visible=False,name = myName)\n",
    "\n",
    "# helper layers\n",
    "layer_accepted = viewer.add_points(acceptedPoints,name='accepted objects',face_color='green', opacity =0.5, ndim=3)\n",
    "layer_mod = viewer.add_points([],name='modPoints',face_color='red',ndim=3)"
   ]
  },
  {
   "cell_type": "code",
   "execution_count": 19,
   "id": "92fe2225",
   "metadata": {},
   "outputs": [
    {
     "name": "stdout",
     "output_type": "stream",
     "text": [
      "Wall time: 770 ms\n"
     ]
    },
    {
     "name": "stderr",
     "output_type": "stream",
     "text": [
      "C:\\ProgramData\\Anaconda3\\envs\\cellpose\\lib\\site-packages\\napari\\layers\\tracks\\tracks.py:391: UserWarning: Previous color_by key 't' not present in new properties. Falling back to track_id\n",
      "  UserWarning,\n",
      "WARNING: QMainWindow::saveState(): 'objectName' not set for QDockWidget 0x1c1cb2b0380 ';\n",
      "WARNING: QMainWindow::saveState(): 'objectName' not set for QDockWidget 0x1c7264694c0 ';\n"
     ]
    }
   ],
   "source": [
    "# update single object function\n",
    "\n",
    "@viewer.bind_key('u',overwrite=True)\n",
    "def update_inProgress(viewer):\n",
    "    \n",
    "    global cellDataAll\n",
    "\n",
    "    regProps = ['label', 'area','centroid','major_axis_length','minor_axis_length','orientation','bbox','image','mean_intensity']\n",
    "    properties_ring = ['label','centroid','mean_intensity']\n",
    "\n",
    "    data = viewer.layers['tracking'].data\n",
    "    properties = viewer.layers['tracking'].properties\n",
    "\n",
    "    # get the position in time\n",
    "    myT = viewer.dims.current_step[0]\n",
    "\n",
    "    # populate intensity image with data from a given frame\n",
    "    intIm[:,:,0] = myIm[myT,:,:]\n",
    "\n",
    "    for fr,x in zip(np.arange(1,len(myIm_signal_list)+1),myIm_signal_list):\n",
    "        intIm[:,:,fr] = x[myT,:,:]\n",
    "\n",
    "    # get my label\n",
    "    myLabel = layer_inProgress.selected_label\n",
    "\n",
    "    # create mask with only a selected object\n",
    "    single_label_im = myLabels[myT,:,:].copy()\n",
    "    single_label_im[single_label_im != myLabel]=0\n",
    "\n",
    "    # find features of the new object\n",
    "    cellData = pd.DataFrame(measure.regionprops_table(single_label_im, properties=regProps,intensity_image=intIm))\n",
    "\n",
    "    # cut out the object as a small image\n",
    "    x = int(cellData['centroid-0'])\n",
    "    y = int(cellData['centroid-1'])\n",
    "    myFrame = 100\n",
    "    small_im = single_label_im[x-myFrame:x+myFrame,y-myFrame:y+myFrame]\n",
    "\n",
    "    # change small image into a ring\n",
    "    rings = fov_f.make_rings(small_im,width=6,gap=1)\n",
    "\n",
    "    # put small rings image back into the whole frame\n",
    "    single_label_im[x-myFrame:x+myFrame,y-myFrame:y+myFrame]=rings\n",
    "\n",
    "    # measure properties of the ring\n",
    "    rings_prop = measure.regionprops_table(single_label_im, properties=properties_ring,intensity_image=intIm)\n",
    "    rings_prop = pd.DataFrame(rings_prop)\n",
    "\n",
    "    # put nucleus and ring data together\n",
    "    cellData = pd.merge(cellData,rings_prop,how='inner',on='label',suffixes=('_nuc', '_ring'))\n",
    "\n",
    "    # modify names\n",
    "    myNames = list(cellData.columns)\n",
    "    myNames[2] = 'centroid-0'\n",
    "    myNames[3] = 'centroid-1'\n",
    "    cellData.columns = myNames\n",
    "\n",
    "    # add aditional info\n",
    "    cellData['t'] = myT\n",
    "    cellData['track_id'] = cellData['label']\n",
    "\n",
    "    # collect information about this label and this time point to calculate \n",
    "    info_track = cellDataAll.loc[:,['track_id','parent','root','generation','accepted']].drop_duplicates()\n",
    "    info_frame = cellDataAll.loc[cellDataAll.t==myT,['t','background_01','background_02','background_03','background_04']].drop_duplicates()\n",
    "\n",
    "    # merge it to the data of this frame\n",
    "    cellData = cellData.merge(info_track,on='track_id')\n",
    "    cellData = cellData.merge(info_frame,on='t')\n",
    "\n",
    "    # calculate corrected signals\n",
    "    for ch in np.arange(1,5):\n",
    "\n",
    "        cellData[f'intensity_{str(ch).zfill(2)}_nuc_corr'] = cellData[f'mean_intensity-{ch-1}_nuc'] - cellData[f'background_{str(ch).zfill(2)}']\n",
    "        cellData[f'intensity_{str(ch).zfill(2)}_ring_corr'] = cellData[f'mean_intensity-{ch-1}_ring'] - cellData[f'background_{str(ch).zfill(2)}']\n",
    "\n",
    "    # add additional columns\n",
    "    cellData['DHB_ratio'] = cellData[f'intensity_02_ring_corr']/cellData[f'intensity_02_nuc_corr']\n",
    "    cellData['cyc_D_over_p21'] = cellData[f'intensity_03_nuc_corr']/cellData[f'intensity_04_nuc_corr']\n",
    "\n",
    "    # swap in the general data frame\n",
    "    cellDataAll.drop(cellDataAll[cellDataAll.t==myT].index,axis=0,inplace=True)\n",
    "    cellDataAll = cellDataAll.append(cellData,ignore_index=True)\n",
    "\n",
    "\n",
    "    # define objects to change \n",
    "    changeIndex = (data[:,1]==myT)\n",
    "\n",
    "    # modify data of the track layer\n",
    "    frameData = np.array(cellData.loc[:,['label','t','centroid-0','centroid-1']])\n",
    "\n",
    "    data = np.delete(data,changeIndex,axis=0)\n",
    "\n",
    "    data = np.vstack([data, frameData])\n",
    "\n",
    "    # modify properties of the track layer\n",
    "\n",
    "    cellData['state'] = 5\n",
    "\n",
    "    for tProp in properties.keys():\n",
    "\n",
    "        properties[tProp] = np.delete(properties[tProp],changeIndex)\n",
    "        properties[tProp] = np.append(properties[tProp], cellData[tProp])\n",
    "\n",
    "    # change tracks layer\n",
    "    viewer.layers['tracking'].data = data\n",
    "    viewer.layers['tracking'].properties = properties\n",
    "\n",
    "    # change status\n",
    "    viewer.status = f'Frame {myT} was modified.' "
   ]
  },
  {
   "cell_type": "code",
   "execution_count": 348,
   "id": "9fdca28b",
   "metadata": {},
   "outputs": [],
   "source": [
    "# transfer modification of labels \n",
    "# -> into tracks layer\n",
    "# -> into cellDataAll\n",
    "\n",
    "# at the moment - triggered by 'u' key on labels layer\n",
    "\n",
    "regProps = ['label', 'area','centroid','major_axis_length','minor_axis_length','bbox','image','mean_intensity']\n",
    "\n",
    "@viewer.bind_key('u',overwrite=True)\n",
    "def update_inProgress(viewer):\n",
    "    \n",
    "    global cellDataAll\n",
    "    \n",
    "    data = viewer.layers['tracking'].data\n",
    "    properties = viewer.layers['tracking'].properties\n",
    "\n",
    "    # get the position\n",
    "    myT = viewer.dims.current_step[0]\n",
    "\n",
    "    # create intensity image\n",
    "    intIm = np.moveaxis([myIm[myT,:,:],myIm_signal[myT,:,:],my_Labels[myT,:,:]],0,2)\n",
    "    \n",
    "    print('hello')\n",
    "\n",
    "    # define objects to change \n",
    "    changeIndex = (data[:,1]==myT)\n",
    "\n",
    "    # find new features of all the objects in the frame\n",
    "    cellData = pd.DataFrame(measure.regionprops_table(inProgressTracks[myT,:,:], properties=regProps, intensity_image=intIm))\n",
    "    cellData['t'] = myT\n",
    "    cellData['track_id'] = cellData['mean_intensity-2'].astype(int) # measurement directly from the labels layer\n",
    "    cellData.drop('mean_intensity-2',axis=1,inplace=True)\n",
    "\n",
    "    # find info for labels if existing\n",
    "\n",
    "    # create a unique data frame\n",
    "    info_data = cellDataAll.loc[:,['track_id','parent','root','generation','accepted']].drop_duplicates()\n",
    "\n",
    "    # merge it to the data of this frame\n",
    "    cellData = cellData.merge(info_data,on='track_id')\n",
    "\n",
    "    # swap in the general data frame\n",
    "    cellDataAll.drop(cellDataAll[cellDataAll.t==myT].index,axis=0,inplace=True)\n",
    "    cellDataAll = cellDataAll.append(cellData,ignore_index=True)\n",
    "\n",
    "    # modify data of the track layer\n",
    "    frameData = np.array(cellData.loc[:,['label','t','centroid-0','centroid-1']])\n",
    "\n",
    "    data = np.delete(data,changeIndex,axis=0)\n",
    "\n",
    "    data = np.vstack([data, frameData])\n",
    "\n",
    "    # modify properties of the track layer\n",
    "\n",
    "    cellData['state'] = 5\n",
    "\n",
    "    for tProp in properties.keys():\n",
    "\n",
    "        properties[tProp] = np.delete(properties[tProp],changeIndex)\n",
    "        properties[tProp] = np.append(properties[tProp], cellData[tProp])\n",
    "\n",
    "    # change tracks layer\n",
    "    viewer.layers['tracking'].data = data\n",
    "    viewer.layers['tracking'].properties = properties\n",
    "\n",
    "    # change status\n",
    "    viewer.status = f'Frame {myT} was modified.' \n",
    "\n",
    "    \n",
    "# -> for changed traces re-generate small movie"
   ]
  },
  {
   "cell_type": "markdown",
   "id": "cb82b8fc",
   "metadata": {},
   "source": [
    "## Stack viewer"
   ]
  },
  {
   "cell_type": "code",
   "execution_count": 16,
   "id": "04eb6556",
   "metadata": {},
   "outputs": [],
   "source": [
    "def update_stack(viewer_stack):\n",
    "    \n",
    "    # check which object is selected\n",
    "    try:\n",
    "        myTrack = viewer_stack.layers['objects'].selected_label\n",
    "    except KeyError:\n",
    "        myTrack = 1\n",
    "    \n",
    "    # ask for an update\n",
    "    stack_track,stack_labels,stack_signal_list = gallery_functions.stack_create_all(myIm,myLabels,myIm_signal_list,data,myTrack,imSize=100)\n",
    "    \n",
    "    # display new layers\n",
    "    my_napari.display_set(viewer_stack,stack_track,stack_labels,stack_signal_list,colors_list,names_list,label_contour=0)\n",
    "    \n",
    "def update_graph(viewer_stack,myTrack):\n",
    "    \n",
    "    global h\n",
    "    \n",
    "    viewer_stack.window.remove_dock_widget(h)\n",
    "    mpl_widget = my_napari.create_graph_widget(track_intensity,to_plot_signals,to_plot_colors,to_plot_names,cellDataAll,myTrack) \n",
    "    h = viewer_stack.window.add_dock_widget(mpl_widget)"
   ]
  },
  {
   "cell_type": "code",
   "execution_count": 18,
   "id": "e15d16d6",
   "metadata": {},
   "outputs": [
    {
     "data": {
      "text/plain": [
       "<napari._qt.widgets.qt_viewer_dock_widget.QtViewerDockWidget at 0x1c1d3f4f948>"
      ]
     },
     "execution_count": 18,
     "metadata": {},
     "output_type": "execute_result"
    }
   ],
   "source": [
    "# initialize stack viewer\n",
    "myTrack = 50 \n",
    "viewer_stack = napari.Viewer()\n",
    "\n",
    "update_stack(viewer_stack)\n",
    "\n",
    "# init graph - there must be a more elegant solution (without this global handle)\n",
    "mpl_widget = my_napari.create_graph_widget(track_intensity,to_plot_signals,to_plot_colors,to_plot_names,cellDataAll,myTrack) \n",
    "h = viewer_stack.window.add_dock_widget(mpl_widget)\n",
    "\n",
    "# add an update button\n",
    "# in the future - connect it to directly changing the selected layer\n",
    "@magicgui(call_button='Update stack')\n",
    "def button_stack(viewer_stack: Viewer):\n",
    "    \n",
    "    global h\n",
    "    \n",
    "    myTrack = viewer_stack.layers['objects'].selected_label\n",
    "    \n",
    "    # update stack\n",
    "    update_stack(viewer_stack)\n",
    "    \n",
    "    # update graph\n",
    "    update_graph(viewer_stack,myTrack)\n",
    "    \n",
    "viewer_stack.window.add_dock_widget(button_stack,area='bottom')"
   ]
  },
  {
   "cell_type": "code",
   "execution_count": 16,
   "id": "01bcec46",
   "metadata": {},
   "outputs": [],
   "source": [
    "def update_gallery(myTrack):\n",
    "    \n",
    "    global viewer_gallery\n",
    "    \n",
    "    # ask for an update\n",
    "    gallery_track,gallery_labels,gallery_signal_list = gallery_functions.gallery_create_all(myIm,myLabels,myIm_signal_list,data,myTrack,imSize=100)\n",
    "    \n",
    "    # display an update\n",
    "    try:\n",
    "        viewer_gallery.close()\n",
    "    except:\n",
    "        pass\n",
    "\n",
    "    viewer_gallery = napari.Viewer()\n",
    "    \n",
    "    my_napari.display_set(viewer_gallery,gallery_track,gallery_labels,gallery_signal_list,colors_list,names_list,label_contour=2)"
   ]
  },
  {
   "cell_type": "code",
   "execution_count": 100,
   "id": "d07f34be",
   "metadata": {},
   "outputs": [
    {
     "name": "stderr",
     "output_type": "stream",
     "text": [
      "WARNING: QMainWindow::saveState(): 'objectName' not set for QDockWidget 0x20ea9d6cb20 ';\n",
      "WARNING: QMainWindow::saveState(): 'objectName' not set for QDockWidget 0x20ea9d69cc0 ';\n"
     ]
    }
   ],
   "source": [
    "# right click for accepting points\n",
    "# toggles status of a track and visualizes it in the accepted objects layer if changed into accepted\n",
    "\n",
    "@layer_inProgress.mouse_drag_callbacks.append\n",
    "def accept_track(layer, event):\n",
    "\n",
    "    if(event.button == 2):\n",
    "        \n",
    "        # look up cursor position\n",
    "        x = int(viewer.cursor.position[1])\n",
    "        y = int(viewer.cursor.position[2])\n",
    "        \n",
    "        # get data\n",
    "        inProgressTracks = layer_inProgress.data\n",
    "        \n",
    "        # check which cell was clicked\n",
    "        myTrackNum = inProgressTracks[viewer.dims.current_step[0],x,y]\n",
    "        \n",
    "        if myTrackNum > 0:\n",
    "\n",
    "            # check status\n",
    "            trackStatus = list(cellDataAll.loc[cellDataAll.track_id==myTrackNum,'accepted'])[0]\n",
    "\n",
    "            # change status of this track\n",
    "            cellDataAll.loc[cellDataAll.track_id==myTrackNum,'accepted'] = not(trackStatus)\n",
    "\n",
    "            # regenerate accepted points\n",
    "            selData=cellDataAll.loc[cellDataAll.accepted==True,:]\n",
    "            acceptedPoints = np.array([selData['t'],selData['centroid-0'],selData['centroid-1']]).T \n",
    "\n",
    "            # update viewer    \n",
    "            layer_accepted.data = acceptedPoints"
   ]
  },
  {
   "cell_type": "code",
   "execution_count": 132,
   "id": "e884ea4a",
   "metadata": {},
   "outputs": [
    {
     "name": "stderr",
     "output_type": "stream",
     "text": [
      "C:\\ProgramData\\Anaconda3\\envs\\cellpose\\lib\\site-packages\\napari\\layers\\tracks\\tracks.py:391: UserWarning: Previous color_by key 't' not present in new properties. Falling back to track_id\n",
      "  UserWarning,\n"
     ]
    }
   ],
   "source": [
    "# swapping tracks based on 4 points\n",
    "\n",
    "@viewer.bind_key('r',overwrite=True)\n",
    "def swap_points(viewer):\n",
    "\n",
    "    swapPoints = viewer.layers['swapPoints'].data.astype(int)\n",
    "\n",
    "    # check that you get a good set of swapPoints\n",
    "    lenTest = (len(swapPoints) == 4)\n",
    "\n",
    "    if lenTest:\n",
    "\n",
    "        framesToSwap = list(set(swapPoints[:,0]))\n",
    "        framesToSwap.sort()\n",
    "        frameTest = (framesToSwap[1] == framesToSwap[0]+1)\n",
    "\n",
    "\n",
    "        # read in in-progress tracks\n",
    "        inProgressTracks = viewer.layers['inProgressStack'].data\n",
    "\n",
    "        # check tracks\n",
    "        myTracks = []\n",
    "        for myPoint in swapPoints:\n",
    "\n",
    "            myTracks.append(inProgressTracks[tuple(myPoint)])\n",
    "\n",
    "        trackTest = (len(set(myTracks)) == 2)\n",
    "\n",
    "        if (lenTest and frameTest and trackTest):\n",
    "\n",
    "            # get tracks numbers\n",
    "            track_1 = list((set(myTracks)))[0] \n",
    "            track_2 = list((set(myTracks)))[1]\n",
    "\n",
    "            frame_change = np.max(framesToSwap)\n",
    "\n",
    "\n",
    "            inProgressTracks[frame_change:,:,:][inProgressTracks[frame_change:,:,:]==track_1]=4095\n",
    "            inProgressTracks[frame_change:,:,:][inProgressTracks[frame_change:,:,:]==track_2]=track_1\n",
    "            inProgressTracks[frame_change:,:,:][inProgressTracks[frame_change:,:,:]==4095]=track_2\n",
    "\n",
    "            # change labels layer\n",
    "            viewer.layers.pop('inProgressStack')\n",
    "            viewer.add_labels(inProgressTracks,name='inProgressStack',opacity = 0.5)\n",
    "\n",
    "\n",
    "            # change graph\n",
    "            children_1 = set(data[((properties['parent']==track_1) & (properties['generation']>0)),0])\n",
    "\n",
    "            for child in children_1:\n",
    "\n",
    "                graph[int(child)] = track_2\n",
    "\n",
    "            children_2 = set(data[((properties['parent']==track_2) & (properties['generation']>0)),0])\n",
    "\n",
    "            for child in children_2:\n",
    "\n",
    "                graph[int(child)] = track_1\n",
    "\n",
    "\n",
    "            # change tracking data\n",
    "            track1_change = ((data[:,0]==track_1) & (data[:,1]>=frame_change))\n",
    "            track2_change = ((data[:,0]==track_2) & (data[:,1]>=frame_change))\n",
    "\n",
    "            data[track2_change,0] = track_1\n",
    "            data[track1_change,0] = track_2\n",
    "\n",
    "            # change info about the parent \n",
    "            track1_change = ((properties['parent']==track_1) & (data[:,1]>=frame_change))\n",
    "            track2_change = ((properties['parent']==track_2) & (data[:,1]>=frame_change))\n",
    "\n",
    "            properties['parent'][track1_change] = track_2\n",
    "            properties['parent'][track2_change] = track_1\n",
    "\n",
    "            # change info about the root\n",
    "            root1 = properties['root'][track1_change][0]\n",
    "            root2 = properties['root'][track2_change][0]\n",
    "\n",
    "            track1_change = ((properties['root']==root1) & (data[:,1]>=frame_change))\n",
    "            track2_change = ((properties['root']==root2) & (data[:,1]>=frame_change))\n",
    "\n",
    "            properties['root'][track1_change] = root2\n",
    "            properties['root'][track2_change] = root1\n",
    "\n",
    "            # change info about the generation\n",
    "            gen1 = properties['generation'][(properties['t']==(frame_change-1)) & (data[:,0]==track_1)]\n",
    "            gen2 = properties['generation'][(properties['t']==(frame_change-1)) & (data[:,0]==track_2)]\n",
    "\n",
    "            properties['generation'][track1_change] = properties['generation'][track1_change] + gen2 - gen1\n",
    "            properties['generation'][track2_change] = properties['generation'][track2_change] + gen1 - gen2\n",
    "\n",
    "\n",
    "\n",
    "            # update tracking data\n",
    "            viewer.layers['data'].data = data\n",
    "            viewer.layers['data'].properties = properties\n",
    "            viewer.layers['data'].graph = graph\n",
    "\n",
    "            # clean swap points\n",
    "            viewer.layers['swapPoints'].data = []\n",
    "\n",
    "            viewer.status='Tracks have been swapped.'\n",
    "\n",
    "        else:\n",
    "\n",
    "            viewer.status='Swap points are incorrect.'\n",
    "    else:\n",
    "\n",
    "        viewer.status='Swap points are incorrect.'"
   ]
  },
  {
   "cell_type": "code",
   "execution_count": 170,
   "id": "3c9f9dc9",
   "metadata": {},
   "outputs": [
    {
     "data": {
      "text/plain": [
       "<module 'napari_display_functions' from 'D:\\\\BARC\\\\napari_tracking_manual\\\\napari_display_functions.py'>"
      ]
     },
     "execution_count": 170,
     "metadata": {},
     "output_type": "execute_result"
    }
   ],
   "source": [
    "importlib.reload(gallery_functions)\n",
    "importlib.reload(my_napari)"
   ]
  },
  {
   "cell_type": "code",
   "execution_count": 157,
   "id": "6795d9cb",
   "metadata": {},
   "outputs": [],
   "source": [
    "myInd=582"
   ]
  },
  {
   "cell_type": "code",
   "execution_count": 167,
   "id": "ea8df83d",
   "metadata": {},
   "outputs": [
    {
     "data": {
      "text/plain": [
       "1817"
      ]
     },
     "execution_count": 167,
     "metadata": {},
     "output_type": "execute_result"
    }
   ],
   "source": [
    "np.min([x+int(imSize/2),myIm.shape[1]])"
   ]
  },
  {
   "cell_type": "code",
   "execution_count": 169,
   "id": "22a7430e",
   "metadata": {},
   "outputs": [
    {
     "name": "stdout",
     "output_type": "stream",
     "text": [
      "1717\n",
      "1817\n",
      "2578\n",
      "2678\n",
      "0\n",
      "100\n",
      "0\n",
      "100\n"
     ]
    }
   ],
   "source": [
    "imSize=100\n",
    "x = int(data[myInd,2])\n",
    "y = int(data[myInd,3])\n",
    "myFrame = int(data[myInd,1])\n",
    "\n",
    "# look up start frame\n",
    "startFrame = int(np.min(data[data[:,0]==myTrack,1]))\n",
    "\n",
    "t = myFrame - startFrame\n",
    "\n",
    "# calculate how to cut\n",
    "row_start = np.max([x-int(imSize/2),0])\n",
    "row_stop = np.min([x+int(imSize/2),myIm.shape[1]])\n",
    "\n",
    "column_start = np.max([y-int(imSize/2),0])\n",
    "column_stop = np.min([y+int(imSize/2),myIm.shape[2]])\n",
    "\n",
    "\n",
    "# calculate how to place\n",
    "row_in_start = int((imSize - (row_stop-row_start))/2)\n",
    "row_in_stop = int(row_in_start + (row_stop-row_start))\n",
    "\n",
    "column_in_start = int((imSize - (column_stop-column_start))/2)\n",
    "column_in_stop = int(row_in_start + (column_stop-column_start))\n",
    "print(row_start)\n",
    "print(row_stop)\n",
    "print(column_start)\n",
    "print(column_stop)\n",
    "print(row_in_start)\n",
    "print(row_in_stop)\n",
    "print(column_in_start)\n",
    "print(column_in_stop)"
   ]
  },
  {
   "cell_type": "code",
   "execution_count": 110,
   "id": "3b7ba151",
   "metadata": {},
   "outputs": [],
   "source": [
    "mpl_widget = my_napari.create_graph_widget(track_intensity,signal_intensity_ch,colors_list,names_list,cellDataAll,myTrack)"
   ]
  },
  {
   "cell_type": "code",
   "execution_count": 99,
   "id": "9913cbd9",
   "metadata": {},
   "outputs": [
    {
     "data": {
      "text/plain": [
       "<napari._qt.widgets.qt_viewer_dock_widget.QtViewerDockWidget at 0x20eac5fa048>"
      ]
     },
     "execution_count": 99,
     "metadata": {},
     "output_type": "execute_result"
    }
   ],
   "source": [
    "@magicgui(call_button='Update gallery')\n",
    "def button_gallery(viewer: Viewer):\n",
    "    \n",
    "    myTrack = viewer.layers['objects'].selected_label\n",
    "    update_gallery(myTrack)\n",
    "    \n",
    "    mpl_widget = my_napari.create_graph_widget(track_intensity,signal_intensity_ch,colors_list,names_list,cellDataAll,myTrack) \n",
    "    viewer_gallery.window.add_dock_widget(mpl_widget)\n",
    "\n",
    "viewer.window.add_dock_widget(button_gallery,area='bottom')"
   ]
  },
  {
   "cell_type": "code",
   "execution_count": 68,
   "id": "a9e35231",
   "metadata": {},
   "outputs": [],
   "source": [
    "@track_layer.bind_key('s',overwrite=True)\n",
    "def update_inProgress(viewer):\n",
    "\n",
    "    viewer_small = napari.Viewer()\n",
    "    myTrack = 1 \n",
    "    \n",
    "    # create gallery\n",
    "    \n",
    "    viewer_small.add_image(myGallery,colormap='gray',contrast_limits=(0, 2000),opacity = 1)"
   ]
  },
  {
   "cell_type": "code",
   "execution_count": 199,
   "id": "8fd16726",
   "metadata": {},
   "outputs": [
    {
     "data": {
      "text/plain": [
       "array([[1092.        ,  318.        , 2162.92535971, 2026.29406475],\n",
       "       [1092.        ,  319.        , 2162.92535971, 2026.29406475],\n",
       "       [1092.        ,  320.        , 2139.88372093, 2058.0455814 ]])"
      ]
     },
     "execution_count": 199,
     "metadata": {},
     "output_type": "execute_result"
    }
   ],
   "source": [
    "data[data[:,0]==1092,:]"
   ]
  },
  {
   "cell_type": "code",
   "execution_count": 201,
   "id": "2311b9a4",
   "metadata": {},
   "outputs": [
    {
     "data": {
      "text/plain": [
       "array([[   7.        ,  318.        , 2172.5382482 , 2015.13455069]])"
      ]
     },
     "execution_count": 201,
     "metadata": {},
     "output_type": "execute_result"
    }
   ],
   "source": [
    "data[(data[:,0]==7) & (data[:,1]==318),:]"
   ]
  },
  {
   "cell_type": "code",
   "execution_count": null,
   "id": "bd4a695a",
   "metadata": {},
   "outputs": [],
   "source": [
    "# background correction for traces"
   ]
  },
  {
   "cell_type": "code",
   "execution_count": null,
   "id": "f34654bd",
   "metadata": {},
   "outputs": [],
   "source": [
    "# cytoplasmic signal for selected traces"
   ]
  },
  {
   "cell_type": "code",
   "execution_count": null,
   "id": "53ca389f",
   "metadata": {},
   "outputs": [],
   "source": [
    "# move graphs from matplotlib to qt and add them vertical lines\n",
    "# add numbering of the frames to gallery"
   ]
  },
  {
   "cell_type": "code",
   "execution_count": null,
   "id": "5bb8367b",
   "metadata": {},
   "outputs": [],
   "source": [
    "# what to do with ghost objects"
   ]
  },
  {
   "cell_type": "code",
   "execution_count": null,
   "id": "b315eab7",
   "metadata": {},
   "outputs": [],
   "source": [
    "# key binding for linking function\n",
    "\n",
    "# check if parent have different offspring\n",
    "\n",
    "# no other offspring\n",
    "# connect points\n",
    "\n",
    "# other offspring\n",
    "# connect\n",
    "# add to the graph\n",
    "\n",
    "# what if objects didn;t"
   ]
  }
 ],
 "metadata": {
  "kernelspec": {
   "display_name": "Python 3",
   "language": "python",
   "name": "python3"
  },
  "language_info": {
   "codemirror_mode": {
    "name": "ipython",
    "version": 3
   },
   "file_extension": ".py",
   "mimetype": "text/x-python",
   "name": "python",
   "nbconvert_exporter": "python",
   "pygments_lexer": "ipython3",
   "version": "3.7.10"
  }
 },
 "nbformat": 4,
 "nbformat_minor": 5
}
